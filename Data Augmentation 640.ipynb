{
 "cells": [
  {
   "cell_type": "markdown",
   "metadata": {},
   "source": [
    "# Import The Packages"
   ]
  },
  {
   "cell_type": "code",
   "execution_count": 1,
   "metadata": {},
   "outputs": [],
   "source": [
    "import os\n",
    "import numpy as np\n",
    "import cv2\n",
    "from glob import glob\n",
    "from tqdm import tqdm\n",
    "import imageio"
   ]
  },
  {
   "cell_type": "code",
   "execution_count": 2,
   "metadata": {},
   "outputs": [],
   "source": [
    "from albumentations import HorizontalFlip, VerticalFlip, ElasticTransform, GridDistortion, OpticalDistortion, CoarseDropout"
   ]
  },
  {
   "cell_type": "code",
   "execution_count": 3,
   "metadata": {},
   "outputs": [],
   "source": [
    "import matplotlib.pyplot as plt"
   ]
  },
  {
   "cell_type": "code",
   "execution_count": 6,
   "metadata": {},
   "outputs": [],
   "source": [
    "from patchify import patchify"
   ]
  },
  {
   "cell_type": "code",
   "execution_count": null,
   "metadata": {},
   "outputs": [],
   "source": []
  },
  {
   "cell_type": "code",
   "execution_count": 7,
   "metadata": {},
   "outputs": [],
   "source": [
    "def load_data(path):\n",
    "    \"\"\" X = Images and Y = masks \"\"\"\n",
    "\n",
    "    train_x = sorted(glob(os.path.join(path, \"training\", \"images\", \"*.tif\")))\n",
    "    train_y = sorted(glob(os.path.join(path, \"training\", \"1st_manual\", \"*.gif\")))\n",
    "\n",
    "    test_x = sorted(glob(os.path.join(path, \"test\", \"images\", \"*.tif\")))\n",
    "    test_y = sorted(glob(os.path.join(path, \"test\", \"1st_manual\", \"*.gif\")))\n",
    "\n",
    "    return (train_x, train_y), (test_x, test_y)"
   ]
  },
  {
   "cell_type": "code",
   "execution_count": 8,
   "metadata": {},
   "outputs": [],
   "source": [
    "def create_dir(path):\n",
    "    if not os.path.exists(path):\n",
    "        os.makedirs(path)"
   ]
  },
  {
   "cell_type": "code",
   "execution_count": 76,
   "metadata": {},
   "outputs": [],
   "source": [
    "def augment_data(images, masks, save_path, augment=True):\n",
    "\n",
    "    count = 1\n",
    "    for idx, (x, y) in tqdm(enumerate(zip(images, masks)), total=len(images)):\n",
    "        \"\"\" Extracting names \"\"\"\n",
    "        name = x.split(\"\\\\\")[-1].split(\".\")[0]\n",
    "        \n",
    "\n",
    "        \"\"\" Reading image and mask \"\"\"\n",
    "        x = cv2.imread(x, cv2.IMREAD_COLOR)\n",
    "        y = imageio.mimread(y)[0]\n",
    "\n",
    "        top, bottom = [28] * 2\n",
    "        left, right = [37,38]\n",
    "        \n",
    "        x = cv2.copyMakeBorder(x, top, bottom, left, right, cv2.BORDER_CONSTANT, value= 0)\n",
    "        y = cv2.copyMakeBorder(y, top, bottom, left, right, cv2.BORDER_CONSTANT, value= 0)\n",
    "        \n",
    "#         print(x.shape)\n",
    "#         patches_img = patchify(x, (128, 128,3), step=128)\n",
    "#         print(len(patches_img))\n",
    "#         print(patches_img[0][0].shape)\n",
    "#         plt.imshow(patches_img[0][0])\n",
    "#         break\n",
    "    \n",
    "        aug = HorizontalFlip(p=1.0)\n",
    "        augmented = aug(image=x, gt=y)\n",
    "        x1 = augmented[\"image\"]\n",
    "        y1 = augmented[\"gt\"]\n",
    "\n",
    "        aug = VerticalFlip(p=1.0)\n",
    "        augmented = aug(image=x, gt=y)\n",
    "        x2 = augmented[\"image\"]\n",
    "        y2 = augmented[\"gt\"]\n",
    "\n",
    "        aug = ElasticTransform(p=1, alpha=120, sigma=120 * 0.05, alpha_affine=120 * 0.03)\n",
    "        augmented = aug(image=x, gt=y)\n",
    "        x3 = augmented['image']\n",
    "        y3 = augmented['gt']\n",
    "\n",
    "        aug = GridDistortion(p=1)\n",
    "        augmented = aug(image=x, gt=y)\n",
    "        x4 = augmented['image']\n",
    "        y4 = augmented['gt']\n",
    "\n",
    "        aug = OpticalDistortion(p=1, distort_limit=2, shift_limit=0.5)\n",
    "        augmented = aug(image=x, gt=y)\n",
    "        x5 = augmented['image']\n",
    "        y5 = augmented['gt']\n",
    "\n",
    "        X = [x, x1, x2, x3, x4, x5]\n",
    "        Y = [y, y1, y2, y3, y4, y5]\n",
    "\n",
    "\n",
    "        index = 0\n",
    "        for i, m in zip(X, Y):\n",
    "\n",
    "#             image_path = os.path.join(save_path, \"image\", tmp_image_name)\n",
    "#             mask_path = os.path.join(save_path, \"mask\", tmp_mask_name)\n",
    "\n",
    "#             cv2.imwrite(image_path, i)\n",
    "#             cv2.imwrite(mask_path, m)\n",
    "\n",
    "            patches_img = patchify(x, (128, 128,3), step=128)\n",
    "            patches_gt = patchify(y, (128, 128), step=128)\n",
    "        \n",
    "        \n",
    "            for i in range(patches_img.shape[0]):\n",
    "                for j in range(patches_img.shape[1]):\n",
    "                    if i == 0:\n",
    "                        if j == 0 or j == 4:\n",
    "                            continue\n",
    "                    elif i == 4:\n",
    "                        if j == 0 or j == 4:\n",
    "                            continue\n",
    "                    \n",
    "                    single_patch_img = patches_img[i,j,:,:][0]\n",
    "                    tmp_image_name = f\"{name}_{index}_{i}{j}.jpg\" \n",
    "                    \n",
    "                    single_patch_gt = patches_gt[i,j,:,:]\n",
    "                    tmp_gt_name = f\"{name}_{index}_{i}{j}.jpg\"\n",
    "                    \n",
    "                    if count % 4 == 0:\n",
    "                        fol = \"valid\\\\\"\n",
    "                    else:\n",
    "                        fol = \"train\\\\\"\n",
    "                        \n",
    "                    image_path = os.path.join(save_path,fol,\"image\", tmp_image_name)\n",
    "                    cv2.imwrite(image_path, single_patch_img)\n",
    "                    gt_path = os.path.join(save_path, fol, \"gt\", tmp_gt_name)\n",
    "                    cv2.imwrite(gt_path, single_patch_gt)\n",
    "                    \n",
    "                    count += 1\n",
    "                    \n",
    "            index += 1"
   ]
  },
  {
   "cell_type": "code",
   "execution_count": 39,
   "metadata": {},
   "outputs": [
    {
     "name": "stdout",
     "output_type": "stream",
     "text": [
      "Train: 20 - 20\n",
      "Test: 20 - 0\n"
     ]
    }
   ],
   "source": [
    "\"\"\" Seeding \"\"\"\n",
    "np.random.seed(42)\n",
    "\n",
    "\"\"\" Load the data \"\"\"\n",
    "data_path = \"D:\\\\Data sets\\\\DRIVE\"\n",
    "(train_x, train_y), (test_x, test_y) = load_data(data_path)\n",
    "\n",
    "print(f\"Train: {len(train_x)} - {len(train_y)}\")\n",
    "print(f\"Test: {len(test_x)} - {len(test_y)}\")\n"
   ]
  },
  {
   "cell_type": "code",
   "execution_count": 79,
   "metadata": {},
   "outputs": [],
   "source": [
    "\"\"\" Creating directories \"\"\"\n",
    "create_dir(\"D:\\\\new_data_128\\\\train\\\\image\")\n",
    "create_dir(\"D:\\\\new_data_128\\\\train\\\\gt\")\n",
    "create_dir(\"D:\\\\new_data_128\\\\valid\\\\image\")\n",
    "create_dir(\"D:\\\\new_data_128\\\\valid\\\\gt\")"
   ]
  },
  {
   "cell_type": "code",
   "execution_count": 80,
   "metadata": {},
   "outputs": [
    {
     "name": "stderr",
     "output_type": "stream",
     "text": [
      "100%|██████████| 20/20 [00:05<00:00,  3.70it/s]\n"
     ]
    }
   ],
   "source": [
    "augment_data(train_x, train_y, \"D:\\\\new_data_128\\\\\", augment=True)"
   ]
  },
  {
   "cell_type": "code",
   "execution_count": 42,
   "metadata": {},
   "outputs": [],
   "source": [
    "### Shift 16 images from train to valid"
   ]
  },
  {
   "cell_type": "code",
   "execution_count": 39,
   "metadata": {},
   "outputs": [],
   "source": [
    "# augment_data(test_x, test_y, \"new_data/test/\", augment=False)"
   ]
  },
  {
   "cell_type": "code",
   "execution_count": 62,
   "metadata": {},
   "outputs": [
    {
     "data": {
      "text/plain": [
       "{4}"
      ]
     },
     "execution_count": 62,
     "metadata": {},
     "output_type": "execute_result"
    }
   ],
   "source": [
    "set([4,4])"
   ]
  },
  {
   "cell_type": "code",
   "execution_count": null,
   "metadata": {},
   "outputs": [],
   "source": []
  }
 ],
 "metadata": {
  "kernelspec": {
   "display_name": "Python 3",
   "language": "python",
   "name": "python3"
  },
  "toc": {
   "base_numbering": 1,
   "nav_menu": {},
   "number_sections": true,
   "sideBar": true,
   "skip_h1_title": false,
   "title_cell": "Table of Contents",
   "title_sidebar": "Contents",
   "toc_cell": false,
   "toc_position": {},
   "toc_section_display": true,
   "toc_window_display": false
  },
  "varInspector": {
   "cols": {
    "lenName": 16,
    "lenType": 16,
    "lenVar": 40
   },
   "kernels_config": {
    "python": {
     "delete_cmd_postfix": "",
     "delete_cmd_prefix": "del ",
     "library": "var_list.py",
     "varRefreshCmd": "print(var_dic_list())"
    },
    "r": {
     "delete_cmd_postfix": ") ",
     "delete_cmd_prefix": "rm(",
     "library": "var_list.r",
     "varRefreshCmd": "cat(var_dic_list()) "
    }
   },
   "types_to_exclude": [
    "module",
    "function",
    "builtin_function_or_method",
    "instance",
    "_Feature"
   ],
   "window_display": false
  }
 },
 "nbformat": 4,
 "nbformat_minor": 5
}
