{
 "cells": [
  {
   "cell_type": "markdown",
   "id": "521fea21",
   "metadata": {},
   "source": [
    "# Importing Packages"
   ]
  },
  {
   "cell_type": "code",
   "execution_count": 1,
   "id": "404eb11e",
   "metadata": {},
   "outputs": [],
   "source": [
    "import os\n",
    "import numpy as np\n",
    "import pandas as pd\n",
    "import cv2\n",
    "from glob import glob\n",
    "from tqdm import tqdm\n",
    "import tensorflow as tf\n",
    "from tensorflow.keras.utils import CustomObjectScope"
   ]
  },
  {
   "cell_type": "code",
   "execution_count": 2,
   "id": "9ee23901",
   "metadata": {},
   "outputs": [],
   "source": [
    "from sklearn.metrics import accuracy_score, f1_score, jaccard_score, precision_score, recall_score\n",
    "from customMetrics import dice_loss, dice_coef, iou"
   ]
  },
  {
   "cell_type": "code",
   "execution_count": 3,
   "id": "331d6ac0",
   "metadata": {},
   "outputs": [],
   "source": [
    "from sklearn.metrics import confusion_matrix"
   ]
  },
  {
   "cell_type": "code",
   "execution_count": 4,
   "id": "fa3186ba",
   "metadata": {},
   "outputs": [],
   "source": [
    "physical_devices = tf.config.experimental.list_physical_devices('GPU')\n",
    "tf.config.experimental.set_memory_growth(physical_devices[0], True)"
   ]
  },
  {
   "cell_type": "markdown",
   "id": "eeda0519",
   "metadata": {},
   "source": [
    "# Loading Utils Functions"
   ]
  },
  {
   "cell_type": "code",
   "execution_count": 5,
   "id": "5a4caa1b",
   "metadata": {},
   "outputs": [],
   "source": [
    "def create_dir(path):\n",
    "    if not os.path.exists(path):\n",
    "        os.makedirs(path)"
   ]
  },
  {
   "cell_type": "code",
   "execution_count": 6,
   "id": "3f6d5485",
   "metadata": {},
   "outputs": [],
   "source": [
    "def read_image(path):\n",
    "    x = cv2.imread(path, cv2.IMREAD_COLOR)\n",
    "    # x = cv2.resize(x, (W, H))\n",
    "    ori_x = x\n",
    "    x = x/255.0\n",
    "    x = x.astype(np.float32)\n",
    "    return ori_x, x"
   ]
  },
  {
   "cell_type": "code",
   "execution_count": 7,
   "id": "3a84cf2c",
   "metadata": {},
   "outputs": [],
   "source": [
    "def read_mask(path):\n",
    "    x = cv2.imread(path, cv2.IMREAD_GRAYSCALE)  ## (128, 128)\n",
    "    # x = cv2.resize(x, (W, H))\n",
    "    ori_x = x\n",
    "    x = x/255.0\n",
    "    x = x.astype(np.int32)\n",
    "    return ori_x, x"
   ]
  },
  {
   "cell_type": "code",
   "execution_count": 8,
   "id": "15bcbd79",
   "metadata": {},
   "outputs": [],
   "source": [
    "def load_data(path):\n",
    "    x = sorted(glob(os.path.join(path, \"image\", \"*.jpg\")))\n",
    "    y = sorted(glob(os.path.join(path, \"gt\", \"*.jpg\")))\n",
    "    return x, y"
   ]
  },
  {
   "cell_type": "code",
   "execution_count": 9,
   "id": "8e19da5a",
   "metadata": {},
   "outputs": [],
   "source": [
    "def save_results(ori_x, ori_y, y_pred, save_image_path):\n",
    "    line = np.ones((H, 10, 3)) * 255\n",
    "\n",
    "    ori_y = np.expand_dims(ori_y, axis=-1)\n",
    "    ori_y = np.concatenate([ori_y, ori_y, ori_y], axis=-1)\n",
    "\n",
    "    y_pred = np.expand_dims(y_pred, axis=-1)\n",
    "    y_pred = np.concatenate([y_pred, y_pred, y_pred], axis=-1) * 255\n",
    "\n",
    "    cat_images = np.concatenate([ori_x, line, ori_y, line, y_pred], axis=1)\n",
    "    \n",
    "    cv2.imwrite(save_image_path, cat_images)"
   ]
  },
  {
   "cell_type": "code",
   "execution_count": 46,
   "id": "17cf3927",
   "metadata": {},
   "outputs": [
    {
     "data": {
      "text/plain": [
       "True"
      ]
     },
     "execution_count": 46,
     "metadata": {},
     "output_type": "execute_result"
    }
   ],
   "source": [
    "cv2.imwrite(\"Black.png\", black)"
   ]
  },
  {
   "cell_type": "code",
   "execution_count": 10,
   "id": "045eeaed",
   "metadata": {},
   "outputs": [],
   "source": [
    "def get_metrics(cm):\n",
    "    tn, fp, fn, tp = cm.ravel()\n",
    "    sen = tp/(tp+fn)\n",
    "    spe = tn/(tn+fp) \n",
    "    return sen, spe"
   ]
  },
  {
   "cell_type": "code",
   "execution_count": null,
   "id": "4cd9f2f2",
   "metadata": {},
   "outputs": [],
   "source": []
  },
  {
   "cell_type": "markdown",
   "id": "118bb22d",
   "metadata": {},
   "source": [
    "# Setting The Environment"
   ]
  },
  {
   "cell_type": "code",
   "execution_count": 12,
   "id": "fb45d95b",
   "metadata": {},
   "outputs": [],
   "source": [
    "H = 128\n",
    "W = 128"
   ]
  },
  {
   "cell_type": "code",
   "execution_count": 11,
   "id": "ebcfd7c6",
   "metadata": {},
   "outputs": [],
   "source": [
    "\"\"\" Save the results in this folder \"\"\"\n",
    "create_dir(\"results128_32\")"
   ]
  },
  {
   "cell_type": "code",
   "execution_count": 13,
   "id": "41107a54",
   "metadata": {},
   "outputs": [],
   "source": [
    "\"\"\" Load the model \"\"\"\n",
    "with CustomObjectScope({'iou': iou, 'dice_coef': dice_coef, 'dice_loss': dice_loss}):\n",
    "    model = tf.keras.models.load_model(\"files128/model128_32.h5\")\n"
   ]
  },
  {
   "cell_type": "code",
   "execution_count": 52,
   "id": "c592aedd",
   "metadata": {},
   "outputs": [],
   "source": [
    "\"\"\" Load the dataset \"\"\"\n",
    "dataset_path = os.path.join(\"test\", \"train_test\")\n",
    "test_x, test_y = load_data(dataset_path)"
   ]
  },
  {
   "cell_type": "code",
   "execution_count": 15,
   "id": "ef19968b",
   "metadata": {},
   "outputs": [],
   "source": [
    "from matplotlib import pyplot as plt"
   ]
  },
  {
   "cell_type": "code",
   "execution_count": 40,
   "id": "e54fdbf4",
   "metadata": {},
   "outputs": [],
   "source": [
    "black = np.zeros((128, 128))"
   ]
  },
  {
   "cell_type": "code",
   "execution_count": 53,
   "id": "423673a7",
   "metadata": {},
   "outputs": [
    {
     "name": "stderr",
     "output_type": "stream",
     "text": [
      "  5%|▍         | 1/21 [00:00<00:02,  9.43it/s]"
     ]
    },
    {
     "name": "stdout",
     "output_type": "stream",
     "text": [
      "21_training_0_01\n",
      "(128, 128)\n",
      "results128_32\\21_training_0_01Train.png\n",
      "21_training_0_02\n",
      "(128, 128)\n",
      "results128_32\\21_training_0_02Train.png\n",
      "21_training_0_03\n"
     ]
    },
    {
     "name": "stderr",
     "output_type": "stream",
     "text": [
      "\r",
      " 14%|█▍        | 3/21 [00:00<00:01, 10.71it/s]"
     ]
    },
    {
     "name": "stdout",
     "output_type": "stream",
     "text": [
      "(128, 128)\n",
      "results128_32\\21_training_0_03Train.png\n",
      "21_training_0_10\n",
      "(128, 128)\n",
      "results128_32\\21_training_0_10Train.png\n",
      "21_training_0_11\n"
     ]
    },
    {
     "name": "stderr",
     "output_type": "stream",
     "text": [
      " 33%|███▎      | 7/21 [00:00<00:01, 10.25it/s]"
     ]
    },
    {
     "name": "stdout",
     "output_type": "stream",
     "text": [
      "(128, 128)\n",
      "results128_32\\21_training_0_11Train.png\n",
      "21_training_0_12\n",
      "(128, 128)\n",
      "results128_32\\21_training_0_12Train.png\n",
      "21_training_0_13\n",
      "(128, 128)\n",
      "results128_32\\21_training_0_13Train.png\n",
      "21_training_0_14\n",
      "(128, 128)\n",
      "results128_32\\21_training_0_14Train.png\n",
      "21_training_0_20\n",
      "(128, 128)\n",
      "results128_32\\21_training_0_20Train.png\n"
     ]
    },
    {
     "name": "stderr",
     "output_type": "stream",
     "text": [
      " 52%|█████▏    | 11/21 [00:01<00:01, 10.00it/s]"
     ]
    },
    {
     "name": "stdout",
     "output_type": "stream",
     "text": [
      "21_training_0_21\n",
      "(128, 128)\n",
      "results128_32\\21_training_0_21Train.png\n",
      "21_training_0_22\n",
      "(128, 128)\n",
      "results128_32\\21_training_0_22Train.png\n",
      "21_training_0_23\n"
     ]
    },
    {
     "name": "stderr",
     "output_type": "stream",
     "text": [
      "\r",
      " 62%|██████▏   | 13/21 [00:01<00:00,  9.63it/s]"
     ]
    },
    {
     "name": "stdout",
     "output_type": "stream",
     "text": [
      "(128, 128)\n",
      "results128_32\\21_training_0_23Train.png\n",
      "21_training_0_24\n",
      "(128, 128)\n",
      "results128_32\\21_training_0_24Train.png\n",
      "21_training_0_30\n"
     ]
    },
    {
     "name": "stderr",
     "output_type": "stream",
     "text": [
      "\r",
      " 71%|███████▏  | 15/21 [00:01<00:00, 10.03it/s]"
     ]
    },
    {
     "name": "stdout",
     "output_type": "stream",
     "text": [
      "(128, 128)\n",
      "results128_32\\21_training_0_30Train.png\n",
      "21_training_0_31\n",
      "(128, 128)\n",
      "results128_32\\21_training_0_31Train.png\n",
      "21_training_0_32\n",
      "(128, 128)\n",
      "results128_32\\21_training_0_32Train.png\n"
     ]
    },
    {
     "name": "stderr",
     "output_type": "stream",
     "text": [
      "\r",
      " 81%|████████  | 17/21 [00:01<00:00,  9.98it/s]"
     ]
    },
    {
     "name": "stdout",
     "output_type": "stream",
     "text": [
      "21_training_0_33\n",
      "(128, 128)\n",
      "results128_32\\21_training_0_33Train.png\n",
      "21_training_0_34\n",
      "(128, 128)\n",
      "results128_32\\21_training_0_34Train.png\n",
      "21_training_0_41\n"
     ]
    },
    {
     "name": "stderr",
     "output_type": "stream",
     "text": [
      "\r",
      " 90%|█████████ | 19/21 [00:01<00:00, 10.18it/s]"
     ]
    },
    {
     "name": "stdout",
     "output_type": "stream",
     "text": [
      "(128, 128)\n",
      "results128_32\\21_training_0_41Train.png\n",
      "21_training_0_42\n",
      "(128, 128)\n",
      "results128_32\\21_training_0_42Train.png\n",
      "21_training_0_43\n",
      "(128, 128)\n",
      "results128_32\\21_training_0_43Train.png\n"
     ]
    },
    {
     "name": "stderr",
     "output_type": "stream",
     "text": [
      "100%|██████████| 21/21 [00:02<00:00,  9.94it/s]\n"
     ]
    }
   ],
   "source": [
    "\"\"\" Make the prediction and calculate the metrics values \"\"\"\n",
    "SCORE = []\n",
    "\n",
    "for x, y in tqdm(zip(test_x, test_y), total=len(test_x)):\n",
    "    \n",
    "    \"\"\" Extracting name \"\"\"\n",
    "    name = x.split(\"\\\\\")[-1].split(\".\")[0]\n",
    "    print(name)\n",
    "    \"\"\" Read the image and mask \"\"\"\n",
    "    ori_x, x = read_image(x)\n",
    "    ori_y, y = read_mask(y)\n",
    "\n",
    "    \"\"\" Prediction \"\"\"\n",
    "    y_pred = model.predict(np.expand_dims(x, axis=0))[0]\n",
    "    y_pred = y_pred > 0.5\n",
    "    y_pred = y_pred.astype(np.int32)\n",
    "    y_pred = np.squeeze(y_pred, axis=-1)\n",
    "    print(y.shape)\n",
    "\n",
    "    \"\"\" Saving the images \"\"\"\n",
    "    save_image_path = f\"results128_32\\\\{name}Train.png\"\n",
    "    print(save_image_path)\n",
    "    row.append(y_pred)\n",
    "    save_results(ori_x, ori_y, y_pred, save_image_path)\n",
    "\n",
    "    \"\"\" Flatten the array \"\"\"\n",
    "    y = y.flatten()\n",
    "    y_pred = y_pred.flatten()\n",
    "\n",
    "    \"\"\" Calculate the metrics \"\"\"\n",
    "    acc_value = accuracy_score(y, y_pred)\n",
    "    f1_value = f1_score(y, y_pred, labels=[0, 1], average=\"binary\")\n",
    "    jac_value = jaccard_score(y, y_pred, labels=[0, 1], average=\"binary\")\n",
    "    recall_value = recall_score(y, y_pred, labels=[0, 1], average=\"binary\")\n",
    "    precision_value = precision_score(y, y_pred, labels=[0, 1], average=\"binary\")\n",
    "    \n",
    "    cm = confusion_matrix(y, y_pred)\n",
    "    sensitivity, specificity = get_metrics(cm)\n",
    "    \n",
    "    SCORE.append([name, acc_value, f1_value, jac_value, recall_value, precision_value, sensitivity, specificity])"
   ]
  },
  {
   "cell_type": "code",
   "execution_count": 54,
   "id": "bc000ae3",
   "metadata": {
    "scrolled": true
   },
   "outputs": [
    {
     "data": {
      "text/plain": [
       "[['21_training_0_01',\n",
       "  0.98968505859375,\n",
       "  0.7616361071932299,\n",
       "  0.6150341685649203,\n",
       "  0.9574468085106383,\n",
       "  0.6323185011709602,\n",
       "  0.9574468085106383,\n",
       "  0.9902496584275245],\n",
       " ['21_training_0_02',\n",
       "  0.975341796875,\n",
       "  0.7770419426048565,\n",
       "  0.6353790613718412,\n",
       "  1.0,\n",
       "  0.6353790613718412,\n",
       "  1.0,\n",
       "  0.974234693877551],\n",
       " ['21_training_0_03',\n",
       "  0.9913330078125,\n",
       "  0.793002915451895,\n",
       "  0.6570048309178744,\n",
       "  0.9890909090909091,\n",
       "  0.6618004866180048,\n",
       "  0.9890909090909091,\n",
       "  0.991371283133652],\n",
       " ['21_training_0_10',\n",
       "  0.98321533203125,\n",
       "  0.7769667477696675,\n",
       "  0.6352785145888594,\n",
       "  0.9979166666666667,\n",
       "  0.6361221779548473,\n",
       "  0.9979166666666667,\n",
       "  0.982771629778672],\n",
       " ['21_training_0_11',\n",
       "  0.9222412109375,\n",
       "  0.7837746096401901,\n",
       "  0.6444320401897851,\n",
       "  0.9991345737775854,\n",
       "  0.644791957553756,\n",
       "  0.9991345737775854,\n",
       "  0.9096141547644425],\n",
       " ['21_training_0_12',\n",
       "  0.95562744140625,\n",
       "  0.7805614246906126,\n",
       "  0.6400990099009901,\n",
       "  0.9976851851851852,\n",
       "  0.6410510659395141,\n",
       "  0.9976851851851852,\n",
       "  0.9520148462354189],\n",
       " ['21_training_0_13',\n",
       "  0.96783447265625,\n",
       "  0.7639946260635916,\n",
       "  0.6181159420289855,\n",
       "  0.9976608187134502,\n",
       "  0.6190130624092888,\n",
       "  0.9976608187134502,\n",
       "  0.9661922854015068],\n",
       " ['21_training_0_14',\n",
       "  0.9906005859375,\n",
       "  0.7516129032258065,\n",
       "  0.6020671834625323,\n",
       "  0.9137254901960784,\n",
       "  0.6383561643835617,\n",
       "  0.9137254901960784,\n",
       "  0.9918159836319672],\n",
       " ['21_training_0_20',\n",
       "  0.94390869140625,\n",
       "  0.7877107877107876,\n",
       "  0.6497713414634146,\n",
       "  0.9988283538371412,\n",
       "  0.6502669717772692,\n",
       "  0.9988283538371412,\n",
       "  0.9375212918171288],\n",
       " ['21_training_0_21',\n",
       "  0.97515869140625,\n",
       "  0.7798810167658193,\n",
       "  0.6391843971631206,\n",
       "  1.0,\n",
       "  0.6391843971631206,\n",
       "  1.0,\n",
       "  0.9740151950456489],\n",
       " ['21_training_0_22',\n",
       "  0.98028564453125,\n",
       "  0.7697790449037776,\n",
       "  0.6257242178447276,\n",
       "  0.9818181818181818,\n",
       "  0.6330597889800703,\n",
       "  0.9818181818181818,\n",
       "  0.980232411266894],\n",
       " ['21_training_0_23',\n",
       "  0.98321533203125,\n",
       "  0.7908745247148288,\n",
       "  0.6540880503144654,\n",
       "  0.9923664122137404,\n",
       "  0.6573957016434893,\n",
       "  0.9923664122137404,\n",
       "  0.9829129886506935],\n",
       " ['21_training_0_24',\n",
       "  0.9925537109375,\n",
       "  0.7732342007434945,\n",
       "  0.6303030303030303,\n",
       "  0.9765258215962441,\n",
       "  0.64,\n",
       "  0.9765258215962441,\n",
       "  0.9927648259229485],\n",
       " ['21_training_0_30',\n",
       "  0.99755859375,\n",
       "  0.7499999999999999,\n",
       "  0.6,\n",
       "  0.9230769230769231,\n",
       "  0.631578947368421,\n",
       "  0.9230769230769231,\n",
       "  0.9978552607390159],\n",
       " ['21_training_0_31',\n",
       "  0.94525146484375,\n",
       "  0.7791184437330706,\n",
       "  0.6381605486083098,\n",
       "  1.0,\n",
       "  0.6381605486083098,\n",
       "  1.0,\n",
       "  0.9394000810701256],\n",
       " ['21_training_0_32',\n",
       "  0.95550537109375,\n",
       "  0.7892454466608847,\n",
       "  0.6518624641833811,\n",
       "  0.9941733430444283,\n",
       "  0.6543624161073825,\n",
       "  0.9941733430444283,\n",
       "  0.9519685563919792],\n",
       " ['21_training_0_33',\n",
       "  0.95465087890625,\n",
       "  0.7714549369424792,\n",
       "  0.627941912869304,\n",
       "  0.990521327014218,\n",
       "  0.6317380352644836,\n",
       "  0.990521327014218,\n",
       "  0.9516470432596904],\n",
       " ['21_training_0_34',\n",
       "  0.99737548828125,\n",
       "  0.808888888888889,\n",
       "  0.6791044776119403,\n",
       "  0.900990099009901,\n",
       "  0.7338709677419355,\n",
       "  0.900990099009901,\n",
       "  0.9979733464349322],\n",
       " ['21_training_0_41',\n",
       "  0.99237060546875,\n",
       "  0.7747747747747749,\n",
       "  0.6323529411764706,\n",
       "  0.9728506787330317,\n",
       "  0.6437125748502994,\n",
       "  0.9728506787330317,\n",
       "  0.992637505413599],\n",
       " ['21_training_0_42',\n",
       "  0.9722900390625,\n",
       "  0.7628004179728317,\n",
       "  0.6165540540540541,\n",
       "  0.9656084656084656,\n",
       "  0.6303972366148531,\n",
       "  0.9656084656084656,\n",
       "  0.9726132582544151],\n",
       " ['21_training_0_43',\n",
       "  0.98590087890625,\n",
       "  0.749185667752443,\n",
       "  0.5989583333333334,\n",
       "  1.0,\n",
       "  0.5989583333333334,\n",
       "  1.0,\n",
       "  0.9855976058357753]]"
      ]
     },
     "execution_count": 54,
     "metadata": {},
     "output_type": "execute_result"
    }
   ],
   "source": [
    "SCORE"
   ]
  },
  {
   "cell_type": "code",
   "execution_count": 56,
   "id": "45ffad02",
   "metadata": {},
   "outputs": [
    {
     "name": "stdout",
     "output_type": "stream",
     "text": [
      "Accuracy: 0.97390\n",
      "F1: 0.77503\n",
      "Jaccard: 0.63292\n",
      "Recall: 0.97854\n",
      "Precision: 0.64245\n",
      "Sensitivity: 0.97854\n",
      "Specificity: 0.97216\n"
     ]
    }
   ],
   "source": [
    "score = [s[1:] for s in SCORE]\n",
    "score = np.mean(score, axis=0)\n",
    "print(f\"Accuracy: {score[0]:0.5f}\")\n",
    "print(f\"F1: {score[1]:0.5f}\")\n",
    "print(f\"Jaccard: {score[2]:0.5f}\")\n",
    "print(f\"Recall: {score[3]:0.5f}\")\n",
    "print(f\"Precision: {score[4]:0.5f}\")\n",
    "print(f\"Sensitivity: {score[5]:0.5f}\")\n",
    "print(f\"Specificity: {score[6]:0.5f}\")\n",
    "\n"
   ]
  },
  {
   "cell_type": "code",
   "execution_count": 57,
   "id": "155a3b17",
   "metadata": {},
   "outputs": [
    {
     "data": {
      "text/html": [
       "<div>\n",
       "<style scoped>\n",
       "    .dataframe tbody tr th:only-of-type {\n",
       "        vertical-align: middle;\n",
       "    }\n",
       "\n",
       "    .dataframe tbody tr th {\n",
       "        vertical-align: top;\n",
       "    }\n",
       "\n",
       "    .dataframe thead th {\n",
       "        text-align: right;\n",
       "    }\n",
       "</style>\n",
       "<table border=\"1\" class=\"dataframe\">\n",
       "  <thead>\n",
       "    <tr style=\"text-align: right;\">\n",
       "      <th></th>\n",
       "      <th>Image</th>\n",
       "      <th>Acc</th>\n",
       "      <th>F1</th>\n",
       "      <th>Jaccard</th>\n",
       "      <th>Recall</th>\n",
       "      <th>Precision</th>\n",
       "      <th>Sensitivity</th>\n",
       "      <th>Specificity</th>\n",
       "    </tr>\n",
       "  </thead>\n",
       "  <tbody>\n",
       "    <tr>\n",
       "      <th>0</th>\n",
       "      <td>21_training_0_01</td>\n",
       "      <td>0.989685</td>\n",
       "      <td>0.761636</td>\n",
       "      <td>0.615034</td>\n",
       "      <td>0.957447</td>\n",
       "      <td>0.632319</td>\n",
       "      <td>0.957447</td>\n",
       "      <td>0.990250</td>\n",
       "    </tr>\n",
       "    <tr>\n",
       "      <th>1</th>\n",
       "      <td>21_training_0_02</td>\n",
       "      <td>0.975342</td>\n",
       "      <td>0.777042</td>\n",
       "      <td>0.635379</td>\n",
       "      <td>1.000000</td>\n",
       "      <td>0.635379</td>\n",
       "      <td>1.000000</td>\n",
       "      <td>0.974235</td>\n",
       "    </tr>\n",
       "    <tr>\n",
       "      <th>2</th>\n",
       "      <td>21_training_0_03</td>\n",
       "      <td>0.991333</td>\n",
       "      <td>0.793003</td>\n",
       "      <td>0.657005</td>\n",
       "      <td>0.989091</td>\n",
       "      <td>0.661800</td>\n",
       "      <td>0.989091</td>\n",
       "      <td>0.991371</td>\n",
       "    </tr>\n",
       "    <tr>\n",
       "      <th>3</th>\n",
       "      <td>21_training_0_10</td>\n",
       "      <td>0.983215</td>\n",
       "      <td>0.776967</td>\n",
       "      <td>0.635279</td>\n",
       "      <td>0.997917</td>\n",
       "      <td>0.636122</td>\n",
       "      <td>0.997917</td>\n",
       "      <td>0.982772</td>\n",
       "    </tr>\n",
       "    <tr>\n",
       "      <th>4</th>\n",
       "      <td>21_training_0_11</td>\n",
       "      <td>0.922241</td>\n",
       "      <td>0.783775</td>\n",
       "      <td>0.644432</td>\n",
       "      <td>0.999135</td>\n",
       "      <td>0.644792</td>\n",
       "      <td>0.999135</td>\n",
       "      <td>0.909614</td>\n",
       "    </tr>\n",
       "    <tr>\n",
       "      <th>5</th>\n",
       "      <td>21_training_0_12</td>\n",
       "      <td>0.955627</td>\n",
       "      <td>0.780561</td>\n",
       "      <td>0.640099</td>\n",
       "      <td>0.997685</td>\n",
       "      <td>0.641051</td>\n",
       "      <td>0.997685</td>\n",
       "      <td>0.952015</td>\n",
       "    </tr>\n",
       "    <tr>\n",
       "      <th>6</th>\n",
       "      <td>21_training_0_13</td>\n",
       "      <td>0.967834</td>\n",
       "      <td>0.763995</td>\n",
       "      <td>0.618116</td>\n",
       "      <td>0.997661</td>\n",
       "      <td>0.619013</td>\n",
       "      <td>0.997661</td>\n",
       "      <td>0.966192</td>\n",
       "    </tr>\n",
       "    <tr>\n",
       "      <th>7</th>\n",
       "      <td>21_training_0_14</td>\n",
       "      <td>0.990601</td>\n",
       "      <td>0.751613</td>\n",
       "      <td>0.602067</td>\n",
       "      <td>0.913725</td>\n",
       "      <td>0.638356</td>\n",
       "      <td>0.913725</td>\n",
       "      <td>0.991816</td>\n",
       "    </tr>\n",
       "    <tr>\n",
       "      <th>8</th>\n",
       "      <td>21_training_0_20</td>\n",
       "      <td>0.943909</td>\n",
       "      <td>0.787711</td>\n",
       "      <td>0.649771</td>\n",
       "      <td>0.998828</td>\n",
       "      <td>0.650267</td>\n",
       "      <td>0.998828</td>\n",
       "      <td>0.937521</td>\n",
       "    </tr>\n",
       "    <tr>\n",
       "      <th>9</th>\n",
       "      <td>21_training_0_21</td>\n",
       "      <td>0.975159</td>\n",
       "      <td>0.779881</td>\n",
       "      <td>0.639184</td>\n",
       "      <td>1.000000</td>\n",
       "      <td>0.639184</td>\n",
       "      <td>1.000000</td>\n",
       "      <td>0.974015</td>\n",
       "    </tr>\n",
       "    <tr>\n",
       "      <th>10</th>\n",
       "      <td>21_training_0_22</td>\n",
       "      <td>0.980286</td>\n",
       "      <td>0.769779</td>\n",
       "      <td>0.625724</td>\n",
       "      <td>0.981818</td>\n",
       "      <td>0.633060</td>\n",
       "      <td>0.981818</td>\n",
       "      <td>0.980232</td>\n",
       "    </tr>\n",
       "    <tr>\n",
       "      <th>11</th>\n",
       "      <td>21_training_0_23</td>\n",
       "      <td>0.983215</td>\n",
       "      <td>0.790875</td>\n",
       "      <td>0.654088</td>\n",
       "      <td>0.992366</td>\n",
       "      <td>0.657396</td>\n",
       "      <td>0.992366</td>\n",
       "      <td>0.982913</td>\n",
       "    </tr>\n",
       "    <tr>\n",
       "      <th>12</th>\n",
       "      <td>21_training_0_24</td>\n",
       "      <td>0.992554</td>\n",
       "      <td>0.773234</td>\n",
       "      <td>0.630303</td>\n",
       "      <td>0.976526</td>\n",
       "      <td>0.640000</td>\n",
       "      <td>0.976526</td>\n",
       "      <td>0.992765</td>\n",
       "    </tr>\n",
       "    <tr>\n",
       "      <th>13</th>\n",
       "      <td>21_training_0_30</td>\n",
       "      <td>0.997559</td>\n",
       "      <td>0.750000</td>\n",
       "      <td>0.600000</td>\n",
       "      <td>0.923077</td>\n",
       "      <td>0.631579</td>\n",
       "      <td>0.923077</td>\n",
       "      <td>0.997855</td>\n",
       "    </tr>\n",
       "    <tr>\n",
       "      <th>14</th>\n",
       "      <td>21_training_0_31</td>\n",
       "      <td>0.945251</td>\n",
       "      <td>0.779118</td>\n",
       "      <td>0.638161</td>\n",
       "      <td>1.000000</td>\n",
       "      <td>0.638161</td>\n",
       "      <td>1.000000</td>\n",
       "      <td>0.939400</td>\n",
       "    </tr>\n",
       "    <tr>\n",
       "      <th>15</th>\n",
       "      <td>21_training_0_32</td>\n",
       "      <td>0.955505</td>\n",
       "      <td>0.789245</td>\n",
       "      <td>0.651862</td>\n",
       "      <td>0.994173</td>\n",
       "      <td>0.654362</td>\n",
       "      <td>0.994173</td>\n",
       "      <td>0.951969</td>\n",
       "    </tr>\n",
       "    <tr>\n",
       "      <th>16</th>\n",
       "      <td>21_training_0_33</td>\n",
       "      <td>0.954651</td>\n",
       "      <td>0.771455</td>\n",
       "      <td>0.627942</td>\n",
       "      <td>0.990521</td>\n",
       "      <td>0.631738</td>\n",
       "      <td>0.990521</td>\n",
       "      <td>0.951647</td>\n",
       "    </tr>\n",
       "    <tr>\n",
       "      <th>17</th>\n",
       "      <td>21_training_0_34</td>\n",
       "      <td>0.997375</td>\n",
       "      <td>0.808889</td>\n",
       "      <td>0.679104</td>\n",
       "      <td>0.900990</td>\n",
       "      <td>0.733871</td>\n",
       "      <td>0.900990</td>\n",
       "      <td>0.997973</td>\n",
       "    </tr>\n",
       "    <tr>\n",
       "      <th>18</th>\n",
       "      <td>21_training_0_41</td>\n",
       "      <td>0.992371</td>\n",
       "      <td>0.774775</td>\n",
       "      <td>0.632353</td>\n",
       "      <td>0.972851</td>\n",
       "      <td>0.643713</td>\n",
       "      <td>0.972851</td>\n",
       "      <td>0.992638</td>\n",
       "    </tr>\n",
       "    <tr>\n",
       "      <th>19</th>\n",
       "      <td>21_training_0_42</td>\n",
       "      <td>0.972290</td>\n",
       "      <td>0.762800</td>\n",
       "      <td>0.616554</td>\n",
       "      <td>0.965608</td>\n",
       "      <td>0.630397</td>\n",
       "      <td>0.965608</td>\n",
       "      <td>0.972613</td>\n",
       "    </tr>\n",
       "    <tr>\n",
       "      <th>20</th>\n",
       "      <td>21_training_0_43</td>\n",
       "      <td>0.985901</td>\n",
       "      <td>0.749186</td>\n",
       "      <td>0.598958</td>\n",
       "      <td>1.000000</td>\n",
       "      <td>0.598958</td>\n",
       "      <td>1.000000</td>\n",
       "      <td>0.985598</td>\n",
       "    </tr>\n",
       "  </tbody>\n",
       "</table>\n",
       "</div>"
      ],
      "text/plain": [
       "               Image       Acc        F1   Jaccard    Recall  Precision  \\\n",
       "0   21_training_0_01  0.989685  0.761636  0.615034  0.957447   0.632319   \n",
       "1   21_training_0_02  0.975342  0.777042  0.635379  1.000000   0.635379   \n",
       "2   21_training_0_03  0.991333  0.793003  0.657005  0.989091   0.661800   \n",
       "3   21_training_0_10  0.983215  0.776967  0.635279  0.997917   0.636122   \n",
       "4   21_training_0_11  0.922241  0.783775  0.644432  0.999135   0.644792   \n",
       "5   21_training_0_12  0.955627  0.780561  0.640099  0.997685   0.641051   \n",
       "6   21_training_0_13  0.967834  0.763995  0.618116  0.997661   0.619013   \n",
       "7   21_training_0_14  0.990601  0.751613  0.602067  0.913725   0.638356   \n",
       "8   21_training_0_20  0.943909  0.787711  0.649771  0.998828   0.650267   \n",
       "9   21_training_0_21  0.975159  0.779881  0.639184  1.000000   0.639184   \n",
       "10  21_training_0_22  0.980286  0.769779  0.625724  0.981818   0.633060   \n",
       "11  21_training_0_23  0.983215  0.790875  0.654088  0.992366   0.657396   \n",
       "12  21_training_0_24  0.992554  0.773234  0.630303  0.976526   0.640000   \n",
       "13  21_training_0_30  0.997559  0.750000  0.600000  0.923077   0.631579   \n",
       "14  21_training_0_31  0.945251  0.779118  0.638161  1.000000   0.638161   \n",
       "15  21_training_0_32  0.955505  0.789245  0.651862  0.994173   0.654362   \n",
       "16  21_training_0_33  0.954651  0.771455  0.627942  0.990521   0.631738   \n",
       "17  21_training_0_34  0.997375  0.808889  0.679104  0.900990   0.733871   \n",
       "18  21_training_0_41  0.992371  0.774775  0.632353  0.972851   0.643713   \n",
       "19  21_training_0_42  0.972290  0.762800  0.616554  0.965608   0.630397   \n",
       "20  21_training_0_43  0.985901  0.749186  0.598958  1.000000   0.598958   \n",
       "\n",
       "    Sensitivity  Specificity  \n",
       "0      0.957447     0.990250  \n",
       "1      1.000000     0.974235  \n",
       "2      0.989091     0.991371  \n",
       "3      0.997917     0.982772  \n",
       "4      0.999135     0.909614  \n",
       "5      0.997685     0.952015  \n",
       "6      0.997661     0.966192  \n",
       "7      0.913725     0.991816  \n",
       "8      0.998828     0.937521  \n",
       "9      1.000000     0.974015  \n",
       "10     0.981818     0.980232  \n",
       "11     0.992366     0.982913  \n",
       "12     0.976526     0.992765  \n",
       "13     0.923077     0.997855  \n",
       "14     1.000000     0.939400  \n",
       "15     0.994173     0.951969  \n",
       "16     0.990521     0.951647  \n",
       "17     0.900990     0.997973  \n",
       "18     0.972851     0.992638  \n",
       "19     0.965608     0.972613  \n",
       "20     1.000000     0.985598  "
      ]
     },
     "execution_count": 57,
     "metadata": {},
     "output_type": "execute_result"
    }
   ],
   "source": [
    "\"\"\" Saving \"\"\"\n",
    "df = pd.DataFrame(SCORE, columns=[\"Image\", \"Acc\", \"F1\", \"Jaccard\", \"Recall\", \"Precision\", \"Sensitivity\", \"Specificity\"])\n",
    "df"
   ]
  },
  {
   "cell_type": "code",
   "execution_count": 36,
   "id": "17ce8456",
   "metadata": {},
   "outputs": [],
   "source": [
    "# df.to_csv(\"files/score.csv\")\n"
   ]
  },
  {
   "cell_type": "code",
   "execution_count": 21,
   "id": "a3467a3f",
   "metadata": {},
   "outputs": [],
   "source": [
    "import seaborn as sns"
   ]
  },
  {
   "cell_type": "code",
   "execution_count": 58,
   "id": "faf4e269",
   "metadata": {},
   "outputs": [
    {
     "data": {
      "text/plain": [
       "[None,\n",
       " None,\n",
       " None,\n",
       " None,\n",
       " None,\n",
       " None,\n",
       " None,\n",
       " None,\n",
       " None,\n",
       " None,\n",
       " None,\n",
       " None,\n",
       " None,\n",
       " None,\n",
       " None,\n",
       " None,\n",
       " None,\n",
       " None,\n",
       " None,\n",
       " None,\n",
       " None,\n",
       " None,\n",
       " None,\n",
       " None,\n",
       " None,\n",
       " None,\n",
       " None,\n",
       " None,\n",
       " None,\n",
       " None,\n",
       " None,\n",
       " None,\n",
       " None,\n",
       " None,\n",
       " None,\n",
       " None,\n",
       " None,\n",
       " None,\n",
       " None,\n",
       " None,\n",
       " None,\n",
       " None]"
      ]
     },
     "execution_count": 58,
     "metadata": {},
     "output_type": "execute_result"
    },
    {
     "data": {
      "image/png": "[encoded data removed]",
      "text/plain": [
       "<Figure size 1440x720 with 1 Axes>"
      ]
     },
     "metadata": {},
     "output_type": "display_data"
    }
   ],
   "source": [
    "plt.figure(figsize=(20, 10))\n",
    "sns.set_style(\"darkgrid\")\n",
    "ax = sns.lineplot(data=df, x=\"Image\", y=\"Acc\", marker = \"o\")\n",
    "ax.axhline(df[\"Acc\"].mean(), color=\"orange\", linestyle=\"--\")\n",
    "ax.set(xlabel=\"X Label\", ylabel = \"Y Label\")\n",
    "plt.setp(ax.get_xticklabels(), rotation=90)\n"
   ]
  },
  {
   "cell_type": "code",
   "execution_count": null,
   "id": "d509ccdf",
   "metadata": {},
   "outputs": [],
   "source": []
  }
 ],
 "metadata": {
  "kernelspec": {
   "display_name": "Python 3 (vanilla)",
   "language": "python",
   "name": "vanilla"
  },
  "language_info": {
   "codemirror_mode": {
    "name": "ipython",
    "version": 3
   },
   "file_extension": ".py",
   "mimetype": "text/x-python",
   "name": "python",
   "nbconvert_exporter": "python",
   "pygments_lexer": "ipython3",
   "version": "3.9.5"
  },
  "toc": {
   "base_numbering": 1,
   "nav_menu": {},
   "number_sections": true,
   "sideBar": true,
   "skip_h1_title": false,
   "title_cell": "Table of Contents",
   "title_sidebar": "Contents",
   "toc_cell": false,
   "toc_position": {},
   "toc_section_display": true,
   "toc_window_display": false
  },
  "varInspector": {
   "cols": {
    "lenName": 16,
    "lenType": 16,
    "lenVar": 40
   },
   "kernels_config": {
    "python": {
     "delete_cmd_postfix": "",
     "delete_cmd_prefix": "del ",
     "library": "var_list.py",
     "varRefreshCmd": "print(var_dic_list())"
    },
    "r": {
     "delete_cmd_postfix": ") ",
     "delete_cmd_prefix": "rm(",
     "library": "var_list.r",
     "varRefreshCmd": "cat(var_dic_list()) "
    }
   },
   "types_to_exclude": [
    "module",
    "function",
    "builtin_function_or_method",
    "instance",
    "_Feature"
   ],
   "window_display": false
  }
 },
 "nbformat": 4,
 "nbformat_minor": 5
}
