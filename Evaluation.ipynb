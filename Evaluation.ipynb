{
 "cells": [
  {
   "cell_type": "markdown",
   "id": "521fea21",
   "metadata": {},
   "source": [
    "# Importing Packages"
   ]
  },
  {
   "cell_type": "code",
   "execution_count": 1,
   "id": "404eb11e",
   "metadata": {},
   "outputs": [],
   "source": [
    "import os\n",
    "import numpy as np\n",
    "import pandas as pd\n",
    "import cv2\n",
    "from glob import glob\n",
    "from tqdm import tqdm\n",
    "import tensorflow as tf\n",
    "from tensorflow.keras.utils import CustomObjectScope"
   ]
  },
  {
   "cell_type": "code",
   "execution_count": 2,
   "id": "9ee23901",
   "metadata": {},
   "outputs": [],
   "source": [
    "from sklearn.metrics import accuracy_score, f1_score, jaccard_score, precision_score, recall_score\n",
    "from customMetrics import dice_loss, dice_coef, iou"
   ]
  },
  {
   "cell_type": "code",
   "execution_count": 3,
   "id": "331d6ac0",
   "metadata": {},
   "outputs": [],
   "source": [
    "from sklearn.metrics import confusion_matrix"
   ]
  },
  {
   "cell_type": "code",
   "execution_count": 4,
   "id": "fa3186ba",
   "metadata": {},
   "outputs": [],
   "source": [
    "physical_devices = tf.config.experimental.list_physical_devices('GPU')\n",
    "tf.config.experimental.set_memory_growth(physical_devices[0], True)"
   ]
  },
  {
   "cell_type": "markdown",
   "id": "eeda0519",
   "metadata": {},
   "source": [
    "# Loading Utils Functions"
   ]
  },
  {
   "cell_type": "code",
   "execution_count": 5,
   "id": "5a4caa1b",
   "metadata": {},
   "outputs": [],
   "source": [
    "def create_dir(path):\n",
    "    if not os.path.exists(path):\n",
    "        os.makedirs(path)"
   ]
  },
  {
   "cell_type": "code",
   "execution_count": 6,
   "id": "3f6d5485",
   "metadata": {},
   "outputs": [],
   "source": [
    "def read_image(path):\n",
    "    x = cv2.imread(path, cv2.IMREAD_COLOR)\n",
    "    # x = cv2.resize(x, (W, H))\n",
    "    ori_x = x\n",
    "    x = x/255.0\n",
    "    x = x.astype(np.float32)\n",
    "    return ori_x, x"
   ]
  },
  {
   "cell_type": "code",
   "execution_count": 7,
   "id": "3a84cf2c",
   "metadata": {},
   "outputs": [],
   "source": [
    "def read_mask(path):\n",
    "    x = cv2.imread(path, cv2.IMREAD_GRAYSCALE)  ## (512, 512)\n",
    "    # x = cv2.resize(x, (W, H))\n",
    "    ori_x = x\n",
    "    x = x/255.0\n",
    "    x = x.astype(np.int32)\n",
    "    return ori_x, x"
   ]
  },
  {
   "cell_type": "code",
   "execution_count": 8,
   "id": "15bcbd79",
   "metadata": {},
   "outputs": [],
   "source": [
    "def load_data(path):\n",
    "    x = sorted(glob(os.path.join(path, \"image\", \"*.jpg\")))\n",
    "    y = sorted(glob(os.path.join(path, \"mask\", \"*.jpg\")))\n",
    "    return x, y"
   ]
  },
  {
   "cell_type": "code",
   "execution_count": 24,
   "id": "8e19da5a",
   "metadata": {},
   "outputs": [],
   "source": [
    "def save_results(ori_x, ori_y, y_pred, save_image_path):\n",
    "    line = np.ones((H, 10, 3)) * 255\n",
    "\n",
    "    ori_y = np.expand_dims(ori_y, axis=-1)\n",
    "    ori_y = np.concatenate([ori_y, ori_y, ori_y], axis=-1)\n",
    "\n",
    "    y_pred = np.expand_dims(y_pred, axis=-1)\n",
    "    y_pred = np.concatenate([y_pred, y_pred, y_pred], axis=-1) * 255\n",
    "\n",
    "    cat_images = np.concatenate([ori_x, line, ori_y, line, y_pred], axis=1)\n",
    "    \n",
    "    cv2.imwrite(save_image_path, cat_images)"
   ]
  },
  {
   "cell_type": "code",
   "execution_count": 10,
   "id": "045eeaed",
   "metadata": {},
   "outputs": [],
   "source": [
    "def get_metrics(cm):\n",
    "    tn, fp, fn, tp = cm.ravel()\n",
    "    sen = tp/(tp+fn)\n",
    "    spe = tn/(tn+fp) \n",
    "    return sen, spe"
   ]
  },
  {
   "cell_type": "code",
   "execution_count": null,
   "id": "4cd9f2f2",
   "metadata": {},
   "outputs": [],
   "source": []
  },
  {
   "cell_type": "markdown",
   "id": "118bb22d",
   "metadata": {},
   "source": [
    "# Setting The Environment"
   ]
  },
  {
   "cell_type": "code",
   "execution_count": 11,
   "id": "fb45d95b",
   "metadata": {},
   "outputs": [],
   "source": [
    "H = 512\n",
    "W = 512"
   ]
  },
  {
   "cell_type": "code",
   "execution_count": 12,
   "id": "ebcfd7c6",
   "metadata": {},
   "outputs": [],
   "source": [
    "\"\"\" Save the results in this folder \"\"\"\n",
    "create_dir(\"results\")"
   ]
  },
  {
   "cell_type": "code",
   "execution_count": 31,
   "id": "41107a54",
   "metadata": {},
   "outputs": [],
   "source": [
    "\"\"\" Load the model \"\"\"\n",
    "with CustomObjectScope({'iou': iou, 'dice_coef': dice_coef, 'dice_loss': dice_loss}):\n",
    "    model = tf.keras.models.load_model(\"files/model2.h5\")\n"
   ]
  },
  {
   "cell_type": "code",
   "execution_count": 16,
   "id": "c592aedd",
   "metadata": {},
   "outputs": [],
   "source": [
    "\"\"\" Load the dataset \"\"\"\n",
    "dataset_path = os.path.join(\"new_data\", \"train_test\")\n",
    "test_x, test_y = load_data(dataset_path)"
   ]
  },
  {
   "cell_type": "code",
   "execution_count": 18,
   "id": "ef19968b",
   "metadata": {},
   "outputs": [],
   "source": [
    "from matplotlib import pyplot as plt"
   ]
  },
  {
   "cell_type": "code",
   "execution_count": 32,
   "id": "423673a7",
   "metadata": {},
   "outputs": [
    {
     "name": "stderr",
     "output_type": "stream",
     "text": [
      "\r",
      "  0%|          | 0/20 [00:00<?, ?it/s]"
     ]
    },
    {
     "name": "stdout",
     "output_type": "stream",
     "text": [
      "21_training\n",
      "results\\21_trainingTrain.png\n"
     ]
    },
    {
     "name": "stderr",
     "output_type": "stream",
     "text": [
      "\r",
      "  5%|▌         | 1/20 [00:01<00:22,  1.21s/it]"
     ]
    },
    {
     "name": "stdout",
     "output_type": "stream",
     "text": [
      "22_training\n",
      "results\\22_trainingTrain.png\n"
     ]
    },
    {
     "name": "stderr",
     "output_type": "stream",
     "text": [
      "\r",
      " 10%|█         | 2/20 [00:01<00:16,  1.11it/s]"
     ]
    },
    {
     "name": "stdout",
     "output_type": "stream",
     "text": [
      "23_training\n",
      "results\\23_trainingTrain.png\n"
     ]
    },
    {
     "name": "stderr",
     "output_type": "stream",
     "text": [
      "\r",
      " 15%|█▌        | 3/20 [00:02<00:13,  1.22it/s]"
     ]
    },
    {
     "name": "stdout",
     "output_type": "stream",
     "text": [
      "24_training\n",
      "results\\24_trainingTrain.png\n"
     ]
    },
    {
     "name": "stderr",
     "output_type": "stream",
     "text": [
      "\r",
      " 20%|██        | 4/20 [00:03<00:12,  1.32it/s]"
     ]
    },
    {
     "name": "stdout",
     "output_type": "stream",
     "text": [
      "25_training\n",
      "results\\25_trainingTrain.png\n"
     ]
    },
    {
     "name": "stderr",
     "output_type": "stream",
     "text": [
      "\r",
      " 25%|██▌       | 5/20 [00:03<00:10,  1.38it/s]"
     ]
    },
    {
     "name": "stdout",
     "output_type": "stream",
     "text": [
      "26_training\n",
      "results\\26_trainingTrain.png\n"
     ]
    },
    {
     "name": "stderr",
     "output_type": "stream",
     "text": [
      "\r",
      " 30%|███       | 6/20 [00:04<00:10,  1.38it/s]"
     ]
    },
    {
     "name": "stdout",
     "output_type": "stream",
     "text": [
      "27_training\n",
      "results\\27_trainingTrain.png\n"
     ]
    },
    {
     "name": "stderr",
     "output_type": "stream",
     "text": [
      "\r",
      " 35%|███▌      | 7/20 [00:05<00:09,  1.38it/s]"
     ]
    },
    {
     "name": "stdout",
     "output_type": "stream",
     "text": [
      "28_training\n",
      "results\\28_trainingTrain.png\n"
     ]
    },
    {
     "name": "stderr",
     "output_type": "stream",
     "text": [
      "\r",
      " 40%|████      | 8/20 [00:06<00:08,  1.40it/s]"
     ]
    },
    {
     "name": "stdout",
     "output_type": "stream",
     "text": [
      "29_training\n",
      "results\\29_trainingTrain.png\n"
     ]
    },
    {
     "name": "stderr",
     "output_type": "stream",
     "text": [
      "\r",
      " 45%|████▌     | 9/20 [00:06<00:07,  1.44it/s]"
     ]
    },
    {
     "name": "stdout",
     "output_type": "stream",
     "text": [
      "30_training\n",
      "results\\30_trainingTrain.png\n"
     ]
    },
    {
     "name": "stderr",
     "output_type": "stream",
     "text": [
      "\r",
      " 50%|█████     | 10/20 [00:07<00:06,  1.44it/s]"
     ]
    },
    {
     "name": "stdout",
     "output_type": "stream",
     "text": [
      "31_training\n",
      "results\\31_trainingTrain.png\n"
     ]
    },
    {
     "name": "stderr",
     "output_type": "stream",
     "text": [
      "\r",
      " 55%|█████▌    | 11/20 [00:08<00:06,  1.47it/s]"
     ]
    },
    {
     "name": "stdout",
     "output_type": "stream",
     "text": [
      "32_training\n",
      "results\\32_trainingTrain.png\n"
     ]
    },
    {
     "name": "stderr",
     "output_type": "stream",
     "text": [
      "\r",
      " 60%|██████    | 12/20 [00:08<00:05,  1.47it/s]"
     ]
    },
    {
     "name": "stdout",
     "output_type": "stream",
     "text": [
      "33_training\n",
      "results\\33_trainingTrain.png\n"
     ]
    },
    {
     "name": "stderr",
     "output_type": "stream",
     "text": [
      "\r",
      " 65%|██████▌   | 13/20 [00:09<00:04,  1.46it/s]"
     ]
    },
    {
     "name": "stdout",
     "output_type": "stream",
     "text": [
      "34_training\n",
      "results\\34_trainingTrain.png\n"
     ]
    },
    {
     "name": "stderr",
     "output_type": "stream",
     "text": [
      "\r",
      " 70%|███████   | 14/20 [00:10<00:04,  1.47it/s]"
     ]
    },
    {
     "name": "stdout",
     "output_type": "stream",
     "text": [
      "35_training\n",
      "results\\35_trainingTrain.png\n"
     ]
    },
    {
     "name": "stderr",
     "output_type": "stream",
     "text": [
      "\r",
      " 75%|███████▌  | 15/20 [00:10<00:03,  1.45it/s]"
     ]
    },
    {
     "name": "stdout",
     "output_type": "stream",
     "text": [
      "36_training\n",
      "results\\36_trainingTrain.png\n"
     ]
    },
    {
     "name": "stderr",
     "output_type": "stream",
     "text": [
      "\r",
      " 80%|████████  | 16/20 [00:11<00:02,  1.46it/s]"
     ]
    },
    {
     "name": "stdout",
     "output_type": "stream",
     "text": [
      "37_training\n",
      "results\\37_trainingTrain.png\n"
     ]
    },
    {
     "name": "stderr",
     "output_type": "stream",
     "text": [
      "\r",
      " 85%|████████▌ | 17/20 [00:12<00:02,  1.48it/s]"
     ]
    },
    {
     "name": "stdout",
     "output_type": "stream",
     "text": [
      "38_training\n",
      "results\\38_trainingTrain.png\n"
     ]
    },
    {
     "name": "stderr",
     "output_type": "stream",
     "text": [
      "\r",
      " 90%|█████████ | 18/20 [00:12<00:01,  1.48it/s]"
     ]
    },
    {
     "name": "stdout",
     "output_type": "stream",
     "text": [
      "39_training\n",
      "results\\39_trainingTrain.png\n"
     ]
    },
    {
     "name": "stderr",
     "output_type": "stream",
     "text": [
      "\r",
      " 95%|█████████▌| 19/20 [00:13<00:00,  1.48it/s]"
     ]
    },
    {
     "name": "stdout",
     "output_type": "stream",
     "text": [
      "40_training\n",
      "results\\40_trainingTrain.png\n"
     ]
    },
    {
     "name": "stderr",
     "output_type": "stream",
     "text": [
      "100%|██████████| 20/20 [00:14<00:00,  1.41it/s]\n"
     ]
    }
   ],
   "source": [
    "\"\"\" Make the prediction and calculate the metrics values \"\"\"\n",
    "SCORE = []\n",
    "for x, y in tqdm(zip(test_x, test_y), total=len(test_x)):\n",
    "    \"\"\" Extracting name \"\"\"\n",
    "    name = x.split(\"\\\\\")[-1].split(\".\")[0]\n",
    "    print(name)\n",
    "    \"\"\" Read the image and mask \"\"\"\n",
    "    ori_x, x = read_image(x)\n",
    "    ori_y, y = read_mask(y)\n",
    "\n",
    "    \"\"\" Prediction \"\"\"\n",
    "    y_pred = model.predict(np.expand_dims(x, axis=0))[0]\n",
    "    y_pred = y_pred > 0.5\n",
    "    y_pred = y_pred.astype(np.int32)\n",
    "    y_pred = np.squeeze(y_pred, axis=-1)\n",
    "\n",
    "    \"\"\" Saving the images \"\"\"\n",
    "    save_image_path = f\"results\\\\{name}Train.png\"\n",
    "    print(save_image_path)\n",
    "    save_results(ori_x, ori_y, y_pred, save_image_path)\n",
    "\n",
    "    \"\"\" Flatten the array \"\"\"\n",
    "    y = y.flatten()\n",
    "    y_pred = y_pred.flatten()\n",
    "\n",
    "    \"\"\" Calculate the metrics \"\"\"\n",
    "    acc_value = accuracy_score(y, y_pred)\n",
    "    f1_value = f1_score(y, y_pred, labels=[0, 1], average=\"binary\")\n",
    "    jac_value = jaccard_score(y, y_pred, labels=[0, 1], average=\"binary\")\n",
    "    recall_value = recall_score(y, y_pred, labels=[0, 1], average=\"binary\")\n",
    "    precision_value = precision_score(y, y_pred, labels=[0, 1], average=\"binary\")\n",
    "    \n",
    "    cm = confusion_matrix(y, y_pred)\n",
    "    sensitivity, specificity = get_metrics(cm)\n",
    "    \n",
    "    SCORE.append([name, acc_value, f1_value, jac_value, recall_value, precision_value, sensitivity, specificity])\n",
    "    \n",
    "    "
   ]
  },
  {
   "cell_type": "code",
   "execution_count": 33,
   "id": "bc000ae3",
   "metadata": {
    "scrolled": true
   },
   "outputs": [
    {
     "data": {
      "text/plain": [
       "[['21_training',\n",
       "  0.9531288146972656,\n",
       "  0.5484878550692683,\n",
       "  0.377873417721519,\n",
       "  0.9835266209804955,\n",
       "  0.38028025477707006,\n",
       "  0.9835266209804955,\n",
       "  0.9522226936312639],\n",
       " ['22_training',\n",
       "  0.9451217651367188,\n",
       "  0.5392056374119155,\n",
       "  0.36911809849581195,\n",
       "  0.9623828035673451,\n",
       "  0.3745216694847379,\n",
       "  0.9623828035673451,\n",
       "  0.9445260025730274],\n",
       " ['23_training',\n",
       "  0.9642105102539062,\n",
       "  0.5925475549378962,\n",
       "  0.42100715872624045,\n",
       "  0.9320945484355786,\n",
       "  0.4343286432800662,\n",
       "  0.9320945484355786,\n",
       "  0.9651329343667222],\n",
       " ['24_training',\n",
       "  0.938934326171875,\n",
       "  0.6060829765244353,\n",
       "  0.43480563499629277,\n",
       "  0.9767607868020305,\n",
       "  0.43935069568319657,\n",
       "  0.9767607868020305,\n",
       "  0.9370231149012568],\n",
       " ['25_training',\n",
       "  0.9501190185546875,\n",
       "  0.6012928405903158,\n",
       "  0.42989187303801885,\n",
       "  0.9629846664713351,\n",
       "  0.4371148645653234,\n",
       "  0.9629846664713351,\n",
       "  0.9495960778865048],\n",
       " ['26_training',\n",
       "  0.9579238891601562,\n",
       "  0.5980906573385804,\n",
       "  0.42662577324946716,\n",
       "  0.9204800358905338,\n",
       "  0.4429512089810017,\n",
       "  0.9204800358905338,\n",
       "  0.9592422638886695],\n",
       " ['27_training',\n",
       "  0.9459762573242188,\n",
       "  0.53803496868476,\n",
       "  0.3680217769646124,\n",
       "  0.961300850915025,\n",
       "  0.37355618969968746,\n",
       "  0.961300850915025,\n",
       "  0.9454577721688718],\n",
       " ['28_training',\n",
       "  0.9391365051269531,\n",
       "  0.5506519841158081,\n",
       "  0.37993082274299483,\n",
       "  0.9776,\n",
       "  0.3832673383777002,\n",
       "  0.9776,\n",
       "  0.9376110476553081],\n",
       " ['29_training',\n",
       "  0.9513359069824219,\n",
       "  0.5583520858577116,\n",
       "  0.3873012823591566,\n",
       "  0.954319526627219,\n",
       "  0.3946170785417176,\n",
       "  0.954319526627219,\n",
       "  0.9512365290468044],\n",
       " ['30_training',\n",
       "  0.9648170471191406,\n",
       "  0.5748398100769834,\n",
       "  0.4033510156553241,\n",
       "  0.8187787261982928,\n",
       "  0.442889615002131,\n",
       "  0.8187787261982928,\n",
       "  0.9691862223950906],\n",
       " ['31_training',\n",
       "  0.9583740234375,\n",
       "  0.5092201133399298,\n",
       "  0.34157967778917514,\n",
       "  0.9634104833219878,\n",
       "  0.3460692016138892,\n",
       "  0.9634104833219878,\n",
       "  0.9582585418390123],\n",
       " ['32_training',\n",
       "  0.9498252868652344,\n",
       "  0.5452408118106696,\n",
       "  0.37479798459929653,\n",
       "  0.9517199758599879,\n",
       "  0.3820622153309429,\n",
       "  0.9517199758599879,\n",
       "  0.949763451364734],\n",
       " ['33_training',\n",
       "  0.9505805969238281,\n",
       "  0.5507196115831455,\n",
       "  0.37999521416606846,\n",
       "  0.9792797237296498,\n",
       "  0.38307521590196364,\n",
       "  0.9792797237296498,\n",
       "  0.9496646144640917],\n",
       " ['34_training',\n",
       "  0.9471549987792969,\n",
       "  0.5498033863052875,\n",
       "  0.3791233416995339,\n",
       "  0.8165846124143257,\n",
       "  0.41441309033901624,\n",
       "  0.8165846124143257,\n",
       "  0.9525269575232838],\n",
       " ['35_training',\n",
       "  0.9412574768066406,\n",
       "  0.5260825408549534,\n",
       "  0.3569280881984465,\n",
       "  0.9763536668951337,\n",
       "  0.36004043978263617,\n",
       "  0.9763536668951337,\n",
       "  0.9400449899364616],\n",
       " ['36_training',\n",
       "  0.9318885803222656,\n",
       "  0.5496506671374883,\n",
       "  0.37897812250008694,\n",
       "  0.944112295295035,\n",
       "  0.38767522948836547,\n",
       "  0.944112295295035,\n",
       "  0.931325642550169],\n",
       " ['37_training',\n",
       "  0.9432945251464844,\n",
       "  0.5340271464844363,\n",
       "  0.3642817431467305,\n",
       "  0.9628122527410422,\n",
       "  0.36948035048147826,\n",
       "  0.9628122527410422,\n",
       "  0.9426128221021173],\n",
       " ['38_training',\n",
       "  0.9390296936035156,\n",
       "  0.48852763288425227,\n",
       "  0.3232130758807588,\n",
       "  0.8682743715163235,\n",
       "  0.3398788850298335,\n",
       "  0.8682743715163235,\n",
       "  0.9414848057848141],\n",
       " ['39_training',\n",
       "  0.9354743957519531,\n",
       "  0.4702308246421749,\n",
       "  0.30738678240930306,\n",
       "  0.8786282771535581,\n",
       "  0.32101774641864445,\n",
       "  0.8786282771535581,\n",
       "  0.9373895899053628],\n",
       " ['40_training',\n",
       "  0.9414596557617188,\n",
       "  0.47002348390661697,\n",
       "  0.30720960678976117,\n",
       "  0.8997752214729605,\n",
       "  0.3180947038750993,\n",
       "  0.8997752214729605,\n",
       "  0.9426980018147466]]"
      ]
     },
     "execution_count": 33,
     "metadata": {},
     "output_type": "execute_result"
    }
   ],
   "source": [
    "SCORE"
   ]
  },
  {
   "cell_type": "code",
   "execution_count": 34,
   "id": "45ffad02",
   "metadata": {},
   "outputs": [
    {
     "name": "stdout",
     "output_type": "stream",
     "text": [
      "Accuracy: 0.94745\n",
      "F1: 0.54506\n",
      "Jaccard: 0.37557\n",
      "Recall: 0.93456\n",
      "Precision: 0.38623\n",
      "Sensitivity: 0.93456\n",
      "Specificity: 0.94785\n"
     ]
    }
   ],
   "source": [
    "score = [s[1:] for s in SCORE]\n",
    "score = np.mean(score, axis=0)\n",
    "print(f\"Accuracy: {score[0]:0.5f}\")\n",
    "print(f\"F1: {score[1]:0.5f}\")\n",
    "print(f\"Jaccard: {score[2]:0.5f}\")\n",
    "print(f\"Recall: {score[3]:0.5f}\")\n",
    "print(f\"Precision: {score[4]:0.5f}\")\n",
    "print(f\"Sensitivity: {score[5]:0.5f}\")\n",
    "print(f\"Specificity: {score[6]:0.5f}\")\n",
    "\n"
   ]
  },
  {
   "cell_type": "code",
   "execution_count": 35,
   "id": "155a3b17",
   "metadata": {},
   "outputs": [
    {
     "data": {
      "text/html": [
       "<div>\n",
       "<style scoped>\n",
       "    .dataframe tbody tr th:only-of-type {\n",
       "        vertical-align: middle;\n",
       "    }\n",
       "\n",
       "    .dataframe tbody tr th {\n",
       "        vertical-align: top;\n",
       "    }\n",
       "\n",
       "    .dataframe thead th {\n",
       "        text-align: right;\n",
       "    }\n",
       "</style>\n",
       "<table border=\"1\" class=\"dataframe\">\n",
       "  <thead>\n",
       "    <tr style=\"text-align: right;\">\n",
       "      <th></th>\n",
       "      <th>Image</th>\n",
       "      <th>Acc</th>\n",
       "      <th>F1</th>\n",
       "      <th>Jaccard</th>\n",
       "      <th>Recall</th>\n",
       "      <th>Precision</th>\n",
       "      <th>Sensitivity</th>\n",
       "      <th>Specificity</th>\n",
       "    </tr>\n",
       "  </thead>\n",
       "  <tbody>\n",
       "    <tr>\n",
       "      <th>0</th>\n",
       "      <td>21_training</td>\n",
       "      <td>0.953129</td>\n",
       "      <td>0.548488</td>\n",
       "      <td>0.377873</td>\n",
       "      <td>0.983527</td>\n",
       "      <td>0.380280</td>\n",
       "      <td>0.983527</td>\n",
       "      <td>0.952223</td>\n",
       "    </tr>\n",
       "    <tr>\n",
       "      <th>1</th>\n",
       "      <td>22_training</td>\n",
       "      <td>0.945122</td>\n",
       "      <td>0.539206</td>\n",
       "      <td>0.369118</td>\n",
       "      <td>0.962383</td>\n",
       "      <td>0.374522</td>\n",
       "      <td>0.962383</td>\n",
       "      <td>0.944526</td>\n",
       "    </tr>\n",
       "    <tr>\n",
       "      <th>2</th>\n",
       "      <td>23_training</td>\n",
       "      <td>0.964211</td>\n",
       "      <td>0.592548</td>\n",
       "      <td>0.421007</td>\n",
       "      <td>0.932095</td>\n",
       "      <td>0.434329</td>\n",
       "      <td>0.932095</td>\n",
       "      <td>0.965133</td>\n",
       "    </tr>\n",
       "    <tr>\n",
       "      <th>3</th>\n",
       "      <td>24_training</td>\n",
       "      <td>0.938934</td>\n",
       "      <td>0.606083</td>\n",
       "      <td>0.434806</td>\n",
       "      <td>0.976761</td>\n",
       "      <td>0.439351</td>\n",
       "      <td>0.976761</td>\n",
       "      <td>0.937023</td>\n",
       "    </tr>\n",
       "    <tr>\n",
       "      <th>4</th>\n",
       "      <td>25_training</td>\n",
       "      <td>0.950119</td>\n",
       "      <td>0.601293</td>\n",
       "      <td>0.429892</td>\n",
       "      <td>0.962985</td>\n",
       "      <td>0.437115</td>\n",
       "      <td>0.962985</td>\n",
       "      <td>0.949596</td>\n",
       "    </tr>\n",
       "    <tr>\n",
       "      <th>5</th>\n",
       "      <td>26_training</td>\n",
       "      <td>0.957924</td>\n",
       "      <td>0.598091</td>\n",
       "      <td>0.426626</td>\n",
       "      <td>0.920480</td>\n",
       "      <td>0.442951</td>\n",
       "      <td>0.920480</td>\n",
       "      <td>0.959242</td>\n",
       "    </tr>\n",
       "    <tr>\n",
       "      <th>6</th>\n",
       "      <td>27_training</td>\n",
       "      <td>0.945976</td>\n",
       "      <td>0.538035</td>\n",
       "      <td>0.368022</td>\n",
       "      <td>0.961301</td>\n",
       "      <td>0.373556</td>\n",
       "      <td>0.961301</td>\n",
       "      <td>0.945458</td>\n",
       "    </tr>\n",
       "    <tr>\n",
       "      <th>7</th>\n",
       "      <td>28_training</td>\n",
       "      <td>0.939137</td>\n",
       "      <td>0.550652</td>\n",
       "      <td>0.379931</td>\n",
       "      <td>0.977600</td>\n",
       "      <td>0.383267</td>\n",
       "      <td>0.977600</td>\n",
       "      <td>0.937611</td>\n",
       "    </tr>\n",
       "    <tr>\n",
       "      <th>8</th>\n",
       "      <td>29_training</td>\n",
       "      <td>0.951336</td>\n",
       "      <td>0.558352</td>\n",
       "      <td>0.387301</td>\n",
       "      <td>0.954320</td>\n",
       "      <td>0.394617</td>\n",
       "      <td>0.954320</td>\n",
       "      <td>0.951237</td>\n",
       "    </tr>\n",
       "    <tr>\n",
       "      <th>9</th>\n",
       "      <td>30_training</td>\n",
       "      <td>0.964817</td>\n",
       "      <td>0.574840</td>\n",
       "      <td>0.403351</td>\n",
       "      <td>0.818779</td>\n",
       "      <td>0.442890</td>\n",
       "      <td>0.818779</td>\n",
       "      <td>0.969186</td>\n",
       "    </tr>\n",
       "    <tr>\n",
       "      <th>10</th>\n",
       "      <td>31_training</td>\n",
       "      <td>0.958374</td>\n",
       "      <td>0.509220</td>\n",
       "      <td>0.341580</td>\n",
       "      <td>0.963410</td>\n",
       "      <td>0.346069</td>\n",
       "      <td>0.963410</td>\n",
       "      <td>0.958259</td>\n",
       "    </tr>\n",
       "    <tr>\n",
       "      <th>11</th>\n",
       "      <td>32_training</td>\n",
       "      <td>0.949825</td>\n",
       "      <td>0.545241</td>\n",
       "      <td>0.374798</td>\n",
       "      <td>0.951720</td>\n",
       "      <td>0.382062</td>\n",
       "      <td>0.951720</td>\n",
       "      <td>0.949763</td>\n",
       "    </tr>\n",
       "    <tr>\n",
       "      <th>12</th>\n",
       "      <td>33_training</td>\n",
       "      <td>0.950581</td>\n",
       "      <td>0.550720</td>\n",
       "      <td>0.379995</td>\n",
       "      <td>0.979280</td>\n",
       "      <td>0.383075</td>\n",
       "      <td>0.979280</td>\n",
       "      <td>0.949665</td>\n",
       "    </tr>\n",
       "    <tr>\n",
       "      <th>13</th>\n",
       "      <td>34_training</td>\n",
       "      <td>0.947155</td>\n",
       "      <td>0.549803</td>\n",
       "      <td>0.379123</td>\n",
       "      <td>0.816585</td>\n",
       "      <td>0.414413</td>\n",
       "      <td>0.816585</td>\n",
       "      <td>0.952527</td>\n",
       "    </tr>\n",
       "    <tr>\n",
       "      <th>14</th>\n",
       "      <td>35_training</td>\n",
       "      <td>0.941257</td>\n",
       "      <td>0.526083</td>\n",
       "      <td>0.356928</td>\n",
       "      <td>0.976354</td>\n",
       "      <td>0.360040</td>\n",
       "      <td>0.976354</td>\n",
       "      <td>0.940045</td>\n",
       "    </tr>\n",
       "    <tr>\n",
       "      <th>15</th>\n",
       "      <td>36_training</td>\n",
       "      <td>0.931889</td>\n",
       "      <td>0.549651</td>\n",
       "      <td>0.378978</td>\n",
       "      <td>0.944112</td>\n",
       "      <td>0.387675</td>\n",
       "      <td>0.944112</td>\n",
       "      <td>0.931326</td>\n",
       "    </tr>\n",
       "    <tr>\n",
       "      <th>16</th>\n",
       "      <td>37_training</td>\n",
       "      <td>0.943295</td>\n",
       "      <td>0.534027</td>\n",
       "      <td>0.364282</td>\n",
       "      <td>0.962812</td>\n",
       "      <td>0.369480</td>\n",
       "      <td>0.962812</td>\n",
       "      <td>0.942613</td>\n",
       "    </tr>\n",
       "    <tr>\n",
       "      <th>17</th>\n",
       "      <td>38_training</td>\n",
       "      <td>0.939030</td>\n",
       "      <td>0.488528</td>\n",
       "      <td>0.323213</td>\n",
       "      <td>0.868274</td>\n",
       "      <td>0.339879</td>\n",
       "      <td>0.868274</td>\n",
       "      <td>0.941485</td>\n",
       "    </tr>\n",
       "    <tr>\n",
       "      <th>18</th>\n",
       "      <td>39_training</td>\n",
       "      <td>0.935474</td>\n",
       "      <td>0.470231</td>\n",
       "      <td>0.307387</td>\n",
       "      <td>0.878628</td>\n",
       "      <td>0.321018</td>\n",
       "      <td>0.878628</td>\n",
       "      <td>0.937390</td>\n",
       "    </tr>\n",
       "    <tr>\n",
       "      <th>19</th>\n",
       "      <td>40_training</td>\n",
       "      <td>0.941460</td>\n",
       "      <td>0.470023</td>\n",
       "      <td>0.307210</td>\n",
       "      <td>0.899775</td>\n",
       "      <td>0.318095</td>\n",
       "      <td>0.899775</td>\n",
       "      <td>0.942698</td>\n",
       "    </tr>\n",
       "  </tbody>\n",
       "</table>\n",
       "</div>"
      ],
      "text/plain": [
       "          Image       Acc        F1   Jaccard    Recall  Precision  \\\n",
       "0   21_training  0.953129  0.548488  0.377873  0.983527   0.380280   \n",
       "1   22_training  0.945122  0.539206  0.369118  0.962383   0.374522   \n",
       "2   23_training  0.964211  0.592548  0.421007  0.932095   0.434329   \n",
       "3   24_training  0.938934  0.606083  0.434806  0.976761   0.439351   \n",
       "4   25_training  0.950119  0.601293  0.429892  0.962985   0.437115   \n",
       "5   26_training  0.957924  0.598091  0.426626  0.920480   0.442951   \n",
       "6   27_training  0.945976  0.538035  0.368022  0.961301   0.373556   \n",
       "7   28_training  0.939137  0.550652  0.379931  0.977600   0.383267   \n",
       "8   29_training  0.951336  0.558352  0.387301  0.954320   0.394617   \n",
       "9   30_training  0.964817  0.574840  0.403351  0.818779   0.442890   \n",
       "10  31_training  0.958374  0.509220  0.341580  0.963410   0.346069   \n",
       "11  32_training  0.949825  0.545241  0.374798  0.951720   0.382062   \n",
       "12  33_training  0.950581  0.550720  0.379995  0.979280   0.383075   \n",
       "13  34_training  0.947155  0.549803  0.379123  0.816585   0.414413   \n",
       "14  35_training  0.941257  0.526083  0.356928  0.976354   0.360040   \n",
       "15  36_training  0.931889  0.549651  0.378978  0.944112   0.387675   \n",
       "16  37_training  0.943295  0.534027  0.364282  0.962812   0.369480   \n",
       "17  38_training  0.939030  0.488528  0.323213  0.868274   0.339879   \n",
       "18  39_training  0.935474  0.470231  0.307387  0.878628   0.321018   \n",
       "19  40_training  0.941460  0.470023  0.307210  0.899775   0.318095   \n",
       "\n",
       "    Sensitivity  Specificity  \n",
       "0      0.983527     0.952223  \n",
       "1      0.962383     0.944526  \n",
       "2      0.932095     0.965133  \n",
       "3      0.976761     0.937023  \n",
       "4      0.962985     0.949596  \n",
       "5      0.920480     0.959242  \n",
       "6      0.961301     0.945458  \n",
       "7      0.977600     0.937611  \n",
       "8      0.954320     0.951237  \n",
       "9      0.818779     0.969186  \n",
       "10     0.963410     0.958259  \n",
       "11     0.951720     0.949763  \n",
       "12     0.979280     0.949665  \n",
       "13     0.816585     0.952527  \n",
       "14     0.976354     0.940045  \n",
       "15     0.944112     0.931326  \n",
       "16     0.962812     0.942613  \n",
       "17     0.868274     0.941485  \n",
       "18     0.878628     0.937390  \n",
       "19     0.899775     0.942698  "
      ]
     },
     "execution_count": 35,
     "metadata": {},
     "output_type": "execute_result"
    }
   ],
   "source": [
    "\"\"\" Saving \"\"\"\n",
    "df = pd.DataFrame(SCORE, columns=[\"Image\", \"Acc\", \"F1\", \"Jaccard\", \"Recall\", \"Precision\", \"Sensitivity\", \"Specificity\"])\n",
    "df"
   ]
  },
  {
   "cell_type": "code",
   "execution_count": 36,
   "id": "17ce8456",
   "metadata": {},
   "outputs": [],
   "source": [
    "# df.to_csv(\"files/score.csv\")\n"
   ]
  },
  {
   "cell_type": "code",
   "execution_count": 37,
   "id": "a3467a3f",
   "metadata": {},
   "outputs": [],
   "source": [
    "import seaborn as sns"
   ]
  },
  {
   "cell_type": "code",
   "execution_count": 38,
   "id": "faf4e269",
   "metadata": {},
   "outputs": [
    {
     "data": {
      "text/plain": [
       "[None,\n",
       " None,\n",
       " None,\n",
       " None,\n",
       " None,\n",
       " None,\n",
       " None,\n",
       " None,\n",
       " None,\n",
       " None,\n",
       " None,\n",
       " None,\n",
       " None,\n",
       " None,\n",
       " None,\n",
       " None,\n",
       " None,\n",
       " None,\n",
       " None,\n",
       " None,\n",
       " None,\n",
       " None,\n",
       " None,\n",
       " None,\n",
       " None,\n",
       " None,\n",
       " None,\n",
       " None,\n",
       " None,\n",
       " None,\n",
       " None,\n",
       " None,\n",
       " None,\n",
       " None,\n",
       " None,\n",
       " None,\n",
       " None,\n",
       " None,\n",
       " None,\n",
       " None]"
      ]
     },
     "execution_count": 38,
     "metadata": {},
     "output_type": "execute_result"
    },
    {
     "data": {
      "image/png": "[encoded data removed]",
      "text/plain": [
       "<Figure size 1440x720 with 1 Axes>"
      ]
     },
     "metadata": {},
     "output_type": "display_data"
    }
   ],
   "source": [
    "plt.figure(figsize=(20, 10))\n",
    "sns.set_style(\"darkgrid\")\n",
    "ax = sns.lineplot(data=df, x=\"Image\", y=\"Acc\", marker = \"o\")\n",
    "ax.axhline(df[\"Acc\"].mean(), color=\"orange\", linestyle=\"--\")\n",
    "ax.set(xlabel=\"X Label\", ylabel = \"Y Label\")\n",
    "plt.setp(ax.get_xticklabels(), rotation=90)\n"
   ]
  },
  {
   "cell_type": "code",
   "execution_count": null,
   "id": "d509ccdf",
   "metadata": {},
   "outputs": [],
   "source": []
  }
 ],
 "metadata": {
  "kernelspec": {
   "display_name": "Python 3 (vanilla)",
   "language": "python",
   "name": "vanilla"
  },
  "language_info": {
   "codemirror_mode": {
    "name": "ipython",
    "version": 3
   },
   "file_extension": ".py",
   "mimetype": "text/x-python",
   "name": "python",
   "nbconvert_exporter": "python",
   "pygments_lexer": "ipython3",
   "version": "3.9.5"
  },
  "toc": {
   "base_numbering": 1,
   "nav_menu": {},
   "number_sections": true,
   "sideBar": true,
   "skip_h1_title": false,
   "title_cell": "Table of Contents",
   "title_sidebar": "Contents",
   "toc_cell": false,
   "toc_position": {},
   "toc_section_display": true,
   "toc_window_display": false
  },
  "varInspector": {
   "cols": {
    "lenName": 16,
    "lenType": 16,
    "lenVar": 40
   },
   "kernels_config": {
    "python": {
     "delete_cmd_postfix": "",
     "delete_cmd_prefix": "del ",
     "library": "var_list.py",
     "varRefreshCmd": "print(var_dic_list())"
    },
    "r": {
     "delete_cmd_postfix": ") ",
     "delete_cmd_prefix": "rm(",
     "library": "var_list.r",
     "varRefreshCmd": "cat(var_dic_list()) "
    }
   },
   "types_to_exclude": [
    "module",
    "function",
    "builtin_function_or_method",
    "instance",
    "_Feature"
   ],
   "window_display": false
  }
 },
 "nbformat": 4,
 "nbformat_minor": 5
}
