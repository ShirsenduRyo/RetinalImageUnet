{
 "cells": [
  {
   "cell_type": "markdown",
   "id": "a5d22829",
   "metadata": {},
   "source": [
    "# Importing Packages"
   ]
  },
  {
   "cell_type": "code",
   "execution_count": 1,
   "id": "6878072a",
   "metadata": {},
   "outputs": [],
   "source": [
    "import os\n",
    "import numpy as np\n",
    "import cv2\n",
    "from glob import glob\n",
    "from sklearn.utils import shuffle\n",
    "import tensorflow as tf\n",
    "from tensorflow.keras.callbacks import ModelCheckpoint, CSVLogger, ReduceLROnPlateau, EarlyStopping, TensorBoard\n",
    "from tensorflow.keras.optimizers import Adam\n",
    "from tensorflow.keras.metrics import Recall, Precision"
   ]
  },
  {
   "cell_type": "code",
   "execution_count": 2,
   "id": "ffaf79a4",
   "metadata": {},
   "outputs": [],
   "source": [
    "from unet import build_unet\n",
    "from customMetrics import dice_loss, dice_coef, iou"
   ]
  },
  {
   "cell_type": "markdown",
   "id": "a12b6a6b",
   "metadata": {},
   "source": [
    "# Setting The Environment"
   ]
  },
  {
   "cell_type": "code",
   "execution_count": 3,
   "id": "6e89a315",
   "metadata": {},
   "outputs": [],
   "source": [
    "H = 128\n",
    "W = 128"
   ]
  },
  {
   "cell_type": "code",
   "execution_count": 4,
   "id": "2a197557",
   "metadata": {},
   "outputs": [],
   "source": [
    "\"\"\" Seeding \"\"\"\n",
    "np.random.seed(42)\n",
    "tf.random.set_seed(42)\n",
    "\n",
    "\"\"\" Hyperparameters \"\"\"\n",
    "batch_size = 1\n",
    "lr = 1e-4\n",
    "num_epochs = 100\n",
    "model_path = os.path.join(\"files128\", \"model128.h5\")\n",
    "csv_path = os.path.join(\"files128\", \"data.csv\")"
   ]
  },
  {
   "cell_type": "code",
   "execution_count": 5,
   "id": "dd4001e9",
   "metadata": {},
   "outputs": [],
   "source": [
    "\"\"\" Dataset \"\"\"\n",
    "dataset_path = \"D:\\\\new_data_128\"\n",
    "train_path = os.path.join(dataset_path, \"train\")\n",
    "valid_path = os.path.join(dataset_path, \"valid\")"
   ]
  },
  {
   "cell_type": "code",
   "execution_count": null,
   "id": "9d437a86",
   "metadata": {},
   "outputs": [],
   "source": []
  },
  {
   "cell_type": "markdown",
   "id": "7dc11a0a",
   "metadata": {},
   "source": [
    "# Utils Functions"
   ]
  },
  {
   "cell_type": "code",
   "execution_count": 6,
   "id": "0cf4df8b",
   "metadata": {},
   "outputs": [],
   "source": [
    "def create_dir(path):\n",
    "    if not os.path.exists(path):\n",
    "        os.makedirs(path)"
   ]
  },
  {
   "cell_type": "code",
   "execution_count": 7,
   "id": "12458d6b",
   "metadata": {},
   "outputs": [],
   "source": [
    "def load_data(path):\n",
    "    print(path)\n",
    "    x = sorted(glob(os.path.join(path, \"image\", \"*.jpg\")))\n",
    "    y = sorted(glob(os.path.join(path, \"gt\", \"*.jpg\")))\n",
    "    return x, y"
   ]
  },
  {
   "cell_type": "code",
   "execution_count": 8,
   "id": "35726058",
   "metadata": {},
   "outputs": [],
   "source": [
    "def shuffling(x, y):\n",
    "    x, y = shuffle(x, y, random_state=42)\n",
    "    return x, y"
   ]
  },
  {
   "cell_type": "code",
   "execution_count": 9,
   "id": "9eff9881",
   "metadata": {},
   "outputs": [],
   "source": [
    "def read_image(path):\n",
    "    path = path.decode()\n",
    "    x = cv2.imread(path, cv2.IMREAD_COLOR)\n",
    "    # x = cv2.resize(x, (W, H))\n",
    "    x = x/255.0\n",
    "    x = x.astype(np.float32)\n",
    "    return x"
   ]
  },
  {
   "cell_type": "code",
   "execution_count": 10,
   "id": "c64f4034",
   "metadata": {},
   "outputs": [],
   "source": [
    "def read_mask(path):\n",
    "    path = path.decode()\n",
    "    x = cv2.imread(path, cv2.IMREAD_GRAYSCALE)  ## (512, 512)\n",
    "    # x = cv2.resize(x, (W, H))\n",
    "    x = x/255.0\n",
    "    x = x.astype(np.float32)\n",
    "    x = np.expand_dims(x, axis=-1)              ## (512, 512, 1)\n",
    "    return x"
   ]
  },
  {
   "cell_type": "code",
   "execution_count": 11,
   "id": "7a71ea71",
   "metadata": {},
   "outputs": [],
   "source": [
    "def tf_parse(x, y):\n",
    "    def _parse(x, y):\n",
    "        x = read_image(x)\n",
    "        y = read_mask(y)\n",
    "        return x, y\n",
    "\n",
    "    x, y = tf.numpy_function(_parse, [x, y], [tf.float32, tf.float32])\n",
    "    x.set_shape([H, W, 3])\n",
    "    y.set_shape([H, W, 1])\n",
    "    return x, y\n"
   ]
  },
  {
   "cell_type": "code",
   "execution_count": 12,
   "id": "06a4420f",
   "metadata": {},
   "outputs": [],
   "source": [
    "def tf_dataset(X, Y, batch_size=2):\n",
    "    dataset = tf.data.Dataset.from_tensor_slices((X, Y))\n",
    "    dataset = dataset.map(tf_parse)\n",
    "    dataset = dataset.batch(batch_size)\n",
    "    dataset = dataset.prefetch(4)\n",
    "    return dataset"
   ]
  },
  {
   "cell_type": "markdown",
   "id": "235c3f51",
   "metadata": {},
   "source": [
    "# Loading The Dataset"
   ]
  },
  {
   "cell_type": "code",
   "execution_count": 13,
   "id": "a6640e07",
   "metadata": {},
   "outputs": [
    {
     "name": "stdout",
     "output_type": "stream",
     "text": [
      "D:\\new_data_128\\train\n",
      "D:\\new_data_128\\valid\n",
      "Train: 1890 - 1890\n",
      "Valid: 630 - 630\n"
     ]
    }
   ],
   "source": [
    "train_x, train_y = load_data(train_path)\n",
    "# train_x, train_y = shuffling(train_x, train_y)\n",
    "valid_x, valid_y = load_data(valid_path)\n",
    "\n",
    "print(f\"Train: {len(train_x)} - {len(train_y)}\")\n",
    "print(f\"Valid: {len(valid_x)} - {len(valid_y)}\")\n"
   ]
  },
  {
   "cell_type": "code",
   "execution_count": 14,
   "id": "f978cd6b",
   "metadata": {},
   "outputs": [],
   "source": [
    "\"\"\" Directory to save files \"\"\"\n",
    "create_dir(\"files128\")"
   ]
  },
  {
   "cell_type": "code",
   "execution_count": 15,
   "id": "cb1081ee",
   "metadata": {},
   "outputs": [],
   "source": [
    "train_dataset = tf_dataset(train_x, train_y, batch_size=batch_size)\n",
    "valid_dataset = tf_dataset(valid_x, valid_y, batch_size=batch_size)\n",
    "\n",
    "train_steps = len(train_x)//batch_size\n",
    "valid_setps = len(valid_x)//batch_size\n",
    "\n",
    "if len(train_x) % batch_size != 0:\n",
    "    train_steps += 1\n",
    "if len(valid_x) % batch_size != 0:\n",
    "    valid_setps += 1"
   ]
  },
  {
   "cell_type": "code",
   "execution_count": null,
   "id": "2203a0da",
   "metadata": {},
   "outputs": [],
   "source": []
  },
  {
   "cell_type": "markdown",
   "id": "0493e782",
   "metadata": {},
   "source": [
    "# The Model"
   ]
  },
  {
   "cell_type": "code",
   "execution_count": 16,
   "id": "9004e83a",
   "metadata": {},
   "outputs": [
    {
     "name": "stdout",
     "output_type": "stream",
     "text": [
      "Model: \"UNET\"\n",
      "__________________________________________________________________________________________________\n",
      "Layer (type)                    Output Shape         Param #     Connected to                     \n",
      "==================================================================================================\n",
      "input_1 (InputLayer)            [(None, 128, 128, 3) 0                                            \n",
      "__________________________________________________________________________________________________\n",
      "conv2d (Conv2D)                 (None, 128, 128, 64) 1792        input_1[0][0]                    \n",
      "__________________________________________________________________________________________________\n",
      "batch_normalization (BatchNorma (None, 128, 128, 64) 256         conv2d[0][0]                     \n",
      "__________________________________________________________________________________________________\n",
      "activation (Activation)         (None, 128, 128, 64) 0           batch_normalization[0][0]        \n",
      "__________________________________________________________________________________________________\n",
      "conv2d_1 (Conv2D)               (None, 128, 128, 64) 36928       activation[0][0]                 \n",
      "__________________________________________________________________________________________________\n",
      "batch_normalization_1 (BatchNor (None, 128, 128, 64) 256         conv2d_1[0][0]                   \n",
      "__________________________________________________________________________________________________\n",
      "activation_1 (Activation)       (None, 128, 128, 64) 0           batch_normalization_1[0][0]      \n",
      "__________________________________________________________________________________________________\n",
      "max_pooling2d (MaxPooling2D)    (None, 64, 64, 64)   0           activation_1[0][0]               \n",
      "__________________________________________________________________________________________________\n",
      "conv2d_2 (Conv2D)               (None, 64, 64, 128)  73856       max_pooling2d[0][0]              \n",
      "__________________________________________________________________________________________________\n",
      "batch_normalization_2 (BatchNor (None, 64, 64, 128)  512         conv2d_2[0][0]                   \n",
      "__________________________________________________________________________________________________\n",
      "activation_2 (Activation)       (None, 64, 64, 128)  0           batch_normalization_2[0][0]      \n",
      "__________________________________________________________________________________________________\n",
      "conv2d_3 (Conv2D)               (None, 64, 64, 128)  147584      activation_2[0][0]               \n",
      "__________________________________________________________________________________________________\n",
      "batch_normalization_3 (BatchNor (None, 64, 64, 128)  512         conv2d_3[0][0]                   \n",
      "__________________________________________________________________________________________________\n",
      "activation_3 (Activation)       (None, 64, 64, 128)  0           batch_normalization_3[0][0]      \n",
      "__________________________________________________________________________________________________\n",
      "max_pooling2d_1 (MaxPooling2D)  (None, 32, 32, 128)  0           activation_3[0][0]               \n",
      "__________________________________________________________________________________________________\n",
      "conv2d_4 (Conv2D)               (None, 32, 32, 256)  295168      max_pooling2d_1[0][0]            \n",
      "__________________________________________________________________________________________________\n",
      "batch_normalization_4 (BatchNor (None, 32, 32, 256)  1024        conv2d_4[0][0]                   \n",
      "__________________________________________________________________________________________________\n",
      "activation_4 (Activation)       (None, 32, 32, 256)  0           batch_normalization_4[0][0]      \n",
      "__________________________________________________________________________________________________\n",
      "conv2d_5 (Conv2D)               (None, 32, 32, 256)  590080      activation_4[0][0]               \n",
      "__________________________________________________________________________________________________\n",
      "batch_normalization_5 (BatchNor (None, 32, 32, 256)  1024        conv2d_5[0][0]                   \n",
      "__________________________________________________________________________________________________\n",
      "activation_5 (Activation)       (None, 32, 32, 256)  0           batch_normalization_5[0][0]      \n",
      "__________________________________________________________________________________________________\n",
      "max_pooling2d_2 (MaxPooling2D)  (None, 16, 16, 256)  0           activation_5[0][0]               \n",
      "__________________________________________________________________________________________________\n",
      "conv2d_6 (Conv2D)               (None, 16, 16, 512)  1180160     max_pooling2d_2[0][0]            \n",
      "__________________________________________________________________________________________________\n",
      "batch_normalization_6 (BatchNor (None, 16, 16, 512)  2048        conv2d_6[0][0]                   \n",
      "__________________________________________________________________________________________________\n",
      "activation_6 (Activation)       (None, 16, 16, 512)  0           batch_normalization_6[0][0]      \n",
      "__________________________________________________________________________________________________\n",
      "conv2d_7 (Conv2D)               (None, 16, 16, 512)  2359808     activation_6[0][0]               \n",
      "__________________________________________________________________________________________________\n",
      "batch_normalization_7 (BatchNor (None, 16, 16, 512)  2048        conv2d_7[0][0]                   \n",
      "__________________________________________________________________________________________________\n",
      "activation_7 (Activation)       (None, 16, 16, 512)  0           batch_normalization_7[0][0]      \n",
      "__________________________________________________________________________________________________\n",
      "max_pooling2d_3 (MaxPooling2D)  (None, 8, 8, 512)    0           activation_7[0][0]               \n",
      "__________________________________________________________________________________________________\n",
      "conv2d_8 (Conv2D)               (None, 8, 8, 1024)   4719616     max_pooling2d_3[0][0]            \n",
      "__________________________________________________________________________________________________\n",
      "batch_normalization_8 (BatchNor (None, 8, 8, 1024)   4096        conv2d_8[0][0]                   \n",
      "__________________________________________________________________________________________________\n",
      "activation_8 (Activation)       (None, 8, 8, 1024)   0           batch_normalization_8[0][0]      \n",
      "__________________________________________________________________________________________________\n",
      "conv2d_9 (Conv2D)               (None, 8, 8, 1024)   9438208     activation_8[0][0]               \n",
      "__________________________________________________________________________________________________\n",
      "batch_normalization_9 (BatchNor (None, 8, 8, 1024)   4096        conv2d_9[0][0]                   \n",
      "__________________________________________________________________________________________________\n",
      "activation_9 (Activation)       (None, 8, 8, 1024)   0           batch_normalization_9[0][0]      \n",
      "__________________________________________________________________________________________________\n",
      "conv2d_transpose (Conv2DTranspo (None, 16, 16, 512)  2097664     activation_9[0][0]               \n",
      "__________________________________________________________________________________________________\n",
      "concatenate (Concatenate)       (None, 16, 16, 1024) 0           conv2d_transpose[0][0]           \n",
      "                                                                 activation_7[0][0]               \n",
      "__________________________________________________________________________________________________\n",
      "conv2d_10 (Conv2D)              (None, 16, 16, 512)  4719104     concatenate[0][0]                \n",
      "__________________________________________________________________________________________________\n",
      "batch_normalization_10 (BatchNo (None, 16, 16, 512)  2048        conv2d_10[0][0]                  \n",
      "__________________________________________________________________________________________________\n",
      "activation_10 (Activation)      (None, 16, 16, 512)  0           batch_normalization_10[0][0]     \n",
      "__________________________________________________________________________________________________\n",
      "conv2d_11 (Conv2D)              (None, 16, 16, 512)  2359808     activation_10[0][0]              \n",
      "__________________________________________________________________________________________________\n",
      "batch_normalization_11 (BatchNo (None, 16, 16, 512)  2048        conv2d_11[0][0]                  \n",
      "__________________________________________________________________________________________________\n",
      "activation_11 (Activation)      (None, 16, 16, 512)  0           batch_normalization_11[0][0]     \n",
      "__________________________________________________________________________________________________\n",
      "conv2d_transpose_1 (Conv2DTrans (None, 32, 32, 256)  524544      activation_11[0][0]              \n",
      "__________________________________________________________________________________________________\n",
      "concatenate_1 (Concatenate)     (None, 32, 32, 512)  0           conv2d_transpose_1[0][0]         \n",
      "                                                                 activation_5[0][0]               \n",
      "__________________________________________________________________________________________________\n",
      "conv2d_12 (Conv2D)              (None, 32, 32, 256)  1179904     concatenate_1[0][0]              \n",
      "__________________________________________________________________________________________________\n",
      "batch_normalization_12 (BatchNo (None, 32, 32, 256)  1024        conv2d_12[0][0]                  \n",
      "__________________________________________________________________________________________________\n",
      "activation_12 (Activation)      (None, 32, 32, 256)  0           batch_normalization_12[0][0]     \n",
      "__________________________________________________________________________________________________\n",
      "conv2d_13 (Conv2D)              (None, 32, 32, 256)  590080      activation_12[0][0]              \n",
      "__________________________________________________________________________________________________\n",
      "batch_normalization_13 (BatchNo (None, 32, 32, 256)  1024        conv2d_13[0][0]                  \n",
      "__________________________________________________________________________________________________\n",
      "activation_13 (Activation)      (None, 32, 32, 256)  0           batch_normalization_13[0][0]     \n",
      "__________________________________________________________________________________________________\n",
      "conv2d_transpose_2 (Conv2DTrans (None, 64, 64, 128)  131200      activation_13[0][0]              \n",
      "__________________________________________________________________________________________________\n",
      "concatenate_2 (Concatenate)     (None, 64, 64, 256)  0           conv2d_transpose_2[0][0]         \n",
      "                                                                 activation_3[0][0]               \n",
      "__________________________________________________________________________________________________\n",
      "conv2d_14 (Conv2D)              (None, 64, 64, 128)  295040      concatenate_2[0][0]              \n",
      "__________________________________________________________________________________________________\n",
      "batch_normalization_14 (BatchNo (None, 64, 64, 128)  512         conv2d_14[0][0]                  \n",
      "__________________________________________________________________________________________________\n",
      "activation_14 (Activation)      (None, 64, 64, 128)  0           batch_normalization_14[0][0]     \n",
      "__________________________________________________________________________________________________\n",
      "conv2d_15 (Conv2D)              (None, 64, 64, 128)  147584      activation_14[0][0]              \n",
      "__________________________________________________________________________________________________\n",
      "batch_normalization_15 (BatchNo (None, 64, 64, 128)  512         conv2d_15[0][0]                  \n",
      "__________________________________________________________________________________________________\n",
      "activation_15 (Activation)      (None, 64, 64, 128)  0           batch_normalization_15[0][0]     \n",
      "__________________________________________________________________________________________________\n",
      "conv2d_transpose_3 (Conv2DTrans (None, 128, 128, 64) 32832       activation_15[0][0]              \n",
      "__________________________________________________________________________________________________\n",
      "concatenate_3 (Concatenate)     (None, 128, 128, 128 0           conv2d_transpose_3[0][0]         \n",
      "                                                                 activation_1[0][0]               \n",
      "__________________________________________________________________________________________________\n",
      "conv2d_16 (Conv2D)              (None, 128, 128, 64) 73792       concatenate_3[0][0]              \n",
      "__________________________________________________________________________________________________\n",
      "batch_normalization_16 (BatchNo (None, 128, 128, 64) 256         conv2d_16[0][0]                  \n",
      "__________________________________________________________________________________________________\n",
      "activation_16 (Activation)      (None, 128, 128, 64) 0           batch_normalization_16[0][0]     \n",
      "__________________________________________________________________________________________________\n",
      "conv2d_17 (Conv2D)              (None, 128, 128, 64) 36928       activation_16[0][0]              \n",
      "__________________________________________________________________________________________________\n",
      "batch_normalization_17 (BatchNo (None, 128, 128, 64) 256         conv2d_17[0][0]                  \n",
      "__________________________________________________________________________________________________\n",
      "activation_17 (Activation)      (None, 128, 128, 64) 0           batch_normalization_17[0][0]     \n",
      "__________________________________________________________________________________________________\n",
      "conv2d_18 (Conv2D)              (None, 128, 128, 1)  65          activation_17[0][0]              \n",
      "==================================================================================================\n",
      "Total params: 31,055,297\n",
      "Trainable params: 31,043,521\n",
      "Non-trainable params: 11,776\n",
      "__________________________________________________________________________________________________\n"
     ]
    }
   ],
   "source": [
    "\"\"\" Model \"\"\"\n",
    "model = build_unet((H, W, 3))\n",
    "model.compile(loss=dice_loss, optimizer=Adam(lr), metrics=[dice_coef, iou, Recall(), Precision()])\n",
    "model.summary()"
   ]
  },
  {
   "cell_type": "markdown",
   "id": "3f7f61d5",
   "metadata": {},
   "source": [
    "## Callbacks"
   ]
  },
  {
   "cell_type": "code",
   "execution_count": 17,
   "id": "149f1b72",
   "metadata": {},
   "outputs": [],
   "source": [
    "callbacks = [\n",
    "    ModelCheckpoint(model_path, verbose=1, save_best_only=True),\n",
    "    ReduceLROnPlateau(monitor=\"val_loss\", factor=0.1, patience=5, min_lr=1e-6, verbose=1),\n",
    "    CSVLogger(csv_path),\n",
    "    TensorBoard(),\n",
    "    EarlyStopping(monitor=\"val_loss\", patience=10, restore_best_weights=False)\n",
    "]"
   ]
  },
  {
   "cell_type": "code",
   "execution_count": null,
   "id": "e2815235",
   "metadata": {},
   "outputs": [
    {
     "name": "stdout",
     "output_type": "stream",
     "text": [
      "Epoch 1/100\n",
      "1890/1890 [==============================] - 285s 136ms/step - loss: 0.3661 - dice_coef: 0.6339 - iou: 0.4959 - recall: 0.4545 - precision: 0.7203 - val_loss: 0.4593 - val_dice_coef: 0.5407 - val_iou: 0.3991 - val_recall: 0.2740 - val_precision: 0.9218\n",
      "\n",
      "Epoch 00001: val_loss improved from inf to 0.45934, saving model to files128\\model128.h5\n",
      "Epoch 2/100\n",
      "1890/1890 [==============================] - 252s 133ms/step - loss: 0.2308 - dice_coef: 0.7692 - iou: 0.6392 - recall: 0.4398 - precision: 0.8866 - val_loss: 0.4230 - val_dice_coef: 0.5770 - val_iou: 0.4348 - val_recall: 0.2762 - val_precision: 0.9420\n",
      "\n",
      "Epoch 00002: val_loss improved from 0.45934 to 0.42302, saving model to files128\\model128.h5\n",
      "Epoch 3/100\n",
      "1890/1890 [==============================] - 250s 132ms/step - loss: 0.2002 - dice_coef: 0.7998 - iou: 0.6781 - recall: 0.4478 - precision: 0.9020 - val_loss: 0.3992 - val_dice_coef: 0.6008 - val_iou: 0.4587 - val_recall: 0.2998 - val_precision: 0.9351\n",
      "\n",
      "Epoch 00003: val_loss improved from 0.42302 to 0.39921, saving model to files128\\model128.h5\n",
      "Epoch 4/100\n",
      "1890/1890 [==============================] - 250s 132ms/step - loss: 0.1801 - dice_coef: 0.8199 - iou: 0.7043 - recall: 0.4546 - precision: 0.9113 - val_loss: 0.3802 - val_dice_coef: 0.6198 - val_iou: 0.4774 - val_recall: 0.3135 - val_precision: 0.9114\n",
      "\n",
      "Epoch 00004: val_loss improved from 0.39921 to 0.38018, saving model to files128\\model128.h5\n",
      "Epoch 5/100\n",
      "1890/1890 [==============================] - 250s 132ms/step - loss: 0.1644 - dice_coef: 0.8356 - iou: 0.7258 - recall: 0.4591 - precision: 0.9202 - val_loss: 0.3547 - val_dice_coef: 0.6453 - val_iou: 0.5043 - val_recall: 0.3304 - val_precision: 0.9167\n",
      "\n",
      "Epoch 00005: val_loss improved from 0.38018 to 0.35469, saving model to files128\\model128.h5\n",
      "Epoch 6/100\n",
      "1890/1890 [==============================] - 252s 133ms/step - loss: 0.1503 - dice_coef: 0.8497 - iou: 0.7456 - recall: 0.4635 - precision: 0.9280 - val_loss: 0.3459 - val_dice_coef: 0.6541 - val_iou: 0.5120 - val_recall: 0.3365 - val_precision: 0.9061\n",
      "\n",
      "Epoch 00006: val_loss improved from 0.35469 to 0.34589, saving model to files128\\model128.h5\n",
      "Epoch 7/100\n",
      "1890/1890 [==============================] - 248s 131ms/step - loss: 0.1396 - dice_coef: 0.8604 - iou: 0.7614 - recall: 0.4665 - precision: 0.9343 - val_loss: 0.3266 - val_dice_coef: 0.6734 - val_iou: 0.5307 - val_recall: 0.3449 - val_precision: 0.9054\n",
      "\n",
      "Epoch 00007: val_loss improved from 0.34589 to 0.32661, saving model to files128\\model128.h5\n",
      "Epoch 8/100\n",
      "1890/1890 [==============================] - 248s 131ms/step - loss: 0.1295 - dice_coef: 0.8705 - iou: 0.7760 - recall: 0.4695 - precision: 0.9394 - val_loss: 0.3520 - val_dice_coef: 0.6480 - val_iou: 0.5074 - val_recall: 0.3236 - val_precision: 0.9334\n",
      "\n",
      "Epoch 00008: val_loss did not improve from 0.32661\n",
      "Epoch 9/100\n",
      "1890/1890 [==============================] - 250s 132ms/step - loss: 0.1213 - dice_coef: 0.8787 - iou: 0.7885 - recall: 0.4723 - precision: 0.9439 - val_loss: 0.3166 - val_dice_coef: 0.6834 - val_iou: 0.5429 - val_recall: 0.3387 - val_precision: 0.9293\n",
      "\n",
      "Epoch 00009: val_loss improved from 0.32661 to 0.31665, saving model to files128\\model128.h5\n",
      "Epoch 10/100\n",
      "1890/1890 [==============================] - 257s 136ms/step - loss: 0.1141 - dice_coef: 0.8859 - iou: 0.7997 - recall: 0.4747 - precision: 0.9475 - val_loss: 0.3732 - val_dice_coef: 0.6268 - val_iou: 0.4831 - val_recall: 0.2978 - val_precision: 0.9524\n",
      "\n",
      "Epoch 00010: val_loss did not improve from 0.31665\n",
      "Epoch 11/100\n",
      "1890/1890 [==============================] - 253s 134ms/step - loss: 0.1088 - dice_coef: 0.8912 - iou: 0.8079 - recall: 0.4766 - precision: 0.9500 - val_loss: 0.3695 - val_dice_coef: 0.6305 - val_iou: 0.4876 - val_recall: 0.3094 - val_precision: 0.9172\n",
      "\n",
      "Epoch 00011: val_loss did not improve from 0.31665\n",
      "Epoch 12/100\n",
      "1890/1890 [==============================] - 256s 135ms/step - loss: 0.1023 - dice_coef: 0.8977 - iou: 0.8181 - recall: 0.4781 - precision: 0.9541 - val_loss: 0.3509 - val_dice_coef: 0.6491 - val_iou: 0.5090 - val_recall: 0.3223 - val_precision: 0.9344\n",
      "\n",
      "Epoch 00012: val_loss did not improve from 0.31665\n",
      "Epoch 13/100\n",
      "1890/1890 [==============================] - 254s 134ms/step - loss: 0.0981 - dice_coef: 0.9019 - iou: 0.8248 - recall: 0.4792 - precision: 0.9559 - val_loss: 0.3190 - val_dice_coef: 0.6810 - val_iou: 0.5388 - val_recall: 0.3358 - val_precision: 0.9251\n",
      "\n",
      "Epoch 00013: val_loss did not improve from 0.31665\n",
      "Epoch 14/100\n",
      "1890/1890 [==============================] - 254s 135ms/step - loss: 0.0933 - dice_coef: 0.9067 - iou: 0.8327 - recall: 0.4814 - precision: 0.9589 - val_loss: 0.3590 - val_dice_coef: 0.6410 - val_iou: 0.4984 - val_recall: 0.3140 - val_precision: 0.9229\n",
      "\n",
      "Epoch 00014: val_loss did not improve from 0.31665\n",
      "\n",
      "Epoch 00014: ReduceLROnPlateau reducing learning rate to 9.999999747378752e-06.\n",
      "Epoch 15/100\n",
      "1890/1890 [==============================] - 254s 134ms/step - loss: 0.0843 - dice_coef: 0.9157 - iou: 0.8474 - recall: 0.4802 - precision: 0.9629 - val_loss: 0.3060 - val_dice_coef: 0.6940 - val_iou: 0.5540 - val_recall: 0.3367 - val_precision: 0.9397\n",
      "\n",
      "Epoch 00015: val_loss improved from 0.31665 to 0.30601, saving model to files128\\model128.h5\n",
      "Epoch 16/100\n",
      "1890/1890 [==============================] - 254s 135ms/step - loss: 0.0716 - dice_coef: 0.9284 - iou: 0.8688 - recall: 0.4847 - precision: 0.9705 - val_loss: 0.3089 - val_dice_coef: 0.6911 - val_iou: 0.5510 - val_recall: 0.3332 - val_precision: 0.9442\n",
      "\n",
      "Epoch 00016: val_loss did not improve from 0.30601\n",
      "Epoch 17/100\n",
      "1890/1890 [==============================] - 257s 136ms/step - loss: 0.0651 - dice_coef: 0.9349 - iou: 0.8799 - recall: 0.4869 - precision: 0.9746 - val_loss: 0.3044 - val_dice_coef: 0.6956 - val_iou: 0.5560 - val_recall: 0.3350 - val_precision: 0.9449\n",
      "\n",
      "Epoch 00017: val_loss improved from 0.30601 to 0.30445, saving model to files128\\model128.h5\n",
      "Epoch 18/100\n",
      " 246/1890 [==>...........................] - ETA: 3:25 - loss: 0.0631 - dice_coef: 0.9369 - iou: 0.8830 - recall: 0.4800 - precision: 0.9797"
     ]
    }
   ],
   "source": [
    "model.fit(\n",
    "    train_dataset,\n",
    "    epochs=num_epochs,\n",
    "    validation_data=valid_dataset,\n",
    "    steps_per_epoch=train_steps,\n",
    "    validation_steps=valid_setps,\n",
    "    callbacks=callbacks\n",
    ")"
   ]
  },
  {
   "cell_type": "markdown",
   "id": "614b1b28",
   "metadata": {},
   "source": []
  },
  {
   "cell_type": "code",
   "execution_count": 23,
   "id": "c4d057a5",
   "metadata": {},
   "outputs": [],
   "source": []
  },
  {
   "cell_type": "code",
   "execution_count": 24,
   "id": "4ad9dec8",
   "metadata": {},
   "outputs": [],
   "source": [
    "\n"
   ]
  },
  {
   "cell_type": "code",
   "execution_count": 25,
   "id": "00e16209",
   "metadata": {},
   "outputs": [],
   "source": [
    "\n"
   ]
  },
  {
   "cell_type": "code",
   "execution_count": 26,
   "id": "cda1a04f",
   "metadata": {},
   "outputs": [],
   "source": [
    "def save_results(ori_x, ori_y, y_pred, save_image_path):\n",
    "    line = np.ones((H, 10, 3)) * 255\n",
    "\n",
    "    ori_y = np.expand_dims(ori_y, axis=-1)\n",
    "    ori_y = np.concatenate([ori_y, ori_y, ori_y], axis=-1)\n",
    "\n",
    "    y_pred = np.expand_dims(y_pred, axis=-1)\n",
    "    y_pred = np.concatenate([y_pred, y_pred, y_pred], axis=-1) * 255\n",
    "\n",
    "    cat_images = np.concatenate([ori_x, line, ori_y, line, y_pred], axis=1)\n",
    "    cv2.imwrite(save_image_path, cat_images)"
   ]
  },
  {
   "cell_type": "code",
   "execution_count": null,
   "id": "27694943",
   "metadata": {},
   "outputs": [],
   "source": []
  }
 ],
 "metadata": {
  "kernelspec": {
   "display_name": "Python 3 (vanilla)",
   "language": "python",
   "name": "vanilla"
  },
  "language_info": {
   "codemirror_mode": {
    "name": "ipython",
    "version": 3
   },
   "file_extension": ".py",
   "mimetype": "text/x-python",
   "name": "python",
   "nbconvert_exporter": "python",
   "pygments_lexer": "ipython3",
   "version": "3.9.5"
  },
  "toc": {
   "base_numbering": 1,
   "nav_menu": {},
   "number_sections": true,
   "sideBar": true,
   "skip_h1_title": false,
   "title_cell": "Table of Contents",
   "title_sidebar": "Contents",
   "toc_cell": false,
   "toc_position": {},
   "toc_section_display": true,
   "toc_window_display": false
  },
  "varInspector": {
   "cols": {
    "lenName": 16,
    "lenType": 16,
    "lenVar": 40
   },
   "kernels_config": {
    "python": {
     "delete_cmd_postfix": "",
     "delete_cmd_prefix": "del ",
     "library": "var_list.py",
     "varRefreshCmd": "print(var_dic_list())"
    },
    "r": {
     "delete_cmd_postfix": ") ",
     "delete_cmd_prefix": "rm(",
     "library": "var_list.r",
     "varRefreshCmd": "cat(var_dic_list()) "
    }
   },
   "types_to_exclude": [
    "module",
    "function",
    "builtin_function_or_method",
    "instance",
    "_Feature"
   ],
   "window_display": false
  }
 },
 "nbformat": 4,
 "nbformat_minor": 5
}
