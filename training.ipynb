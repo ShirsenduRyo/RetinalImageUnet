{
 "cells": [
  {
   "cell_type": "markdown",
   "metadata": {},
   "source": [
    "# Importing Packages"
   ]
  },
  {
   "cell_type": "code",
   "execution_count": 5,
   "metadata": {},
   "outputs": [],
   "source": [
    "import os\n",
    "os.environ[\"TF_CPP_MIN_LOG_LEVEL\"] = \"2\"\n",
    "import numpy as np\n",
    "import cv2\n",
    "from glob import glob\n",
    "from sklearn.utils import shuffle\n",
    "import tensorflow as tf\n",
    "from tensorflow.keras.callbacks import ModelCheckpoint, CSVLogger, ReduceLROnPlateau, EarlyStopping, TensorBoard\n",
    "from tensorflow.keras.optimizers import Adam\n",
    "from tensorflow.keras.metrics import Recall, Precision"
   ]
  },
  {
   "cell_type": "code",
   "execution_count": 6,
   "metadata": {},
   "outputs": [],
   "source": [
    "from unet import build_unet\n",
    "from customMetrics import dice_loss, dice_coef, iou"
   ]
  },
  {
   "cell_type": "markdown",
   "metadata": {},
   "source": [
    "# Setting The Environment"
   ]
  },
  {
   "cell_type": "code",
   "execution_count": 3,
   "metadata": {},
   "outputs": [],
   "source": [
    "H = 512\n",
    "W = 512"
   ]
  },
  {
   "cell_type": "code",
   "execution_count": 7,
   "metadata": {},
   "outputs": [],
   "source": [
    "\"\"\" Seeding \"\"\"\n",
    "np.random.seed(42)\n",
    "tf.random.set_seed(42)\n",
    "\n",
    "\"\"\" Hyperparameters \"\"\"\n",
    "batch_size = 1\n",
    "lr = 1e-4\n",
    "num_epochs = 100\n",
    "model_path = os.path.join(\"files\", \"model.h5\")\n",
    "csv_path = os.path.join(\"files\", \"data.csv\")"
   ]
  },
  {
   "cell_type": "code",
   "execution_count": 8,
   "metadata": {},
   "outputs": [],
   "source": [
    "\"\"\" Dataset \"\"\"\n",
    "dataset_path = \"new_data\"\n",
    "train_path = os.path.join(dataset_path, \"train\")\n",
    "valid_path = os.path.join(dataset_path, \"valid\")"
   ]
  },
  {
   "cell_type": "code",
   "execution_count": null,
   "metadata": {},
   "outputs": [],
   "source": []
  },
  {
   "cell_type": "markdown",
   "metadata": {},
   "source": [
    "# Utils Functions"
   ]
  },
  {
   "cell_type": "code",
   "execution_count": 9,
   "metadata": {},
   "outputs": [],
   "source": [
    "def create_dir(path):\n",
    "    if not os.path.exists(path):\n",
    "        os.makedirs(path)"
   ]
  },
  {
   "cell_type": "code",
   "execution_count": 10,
   "metadata": {},
   "outputs": [],
   "source": [
    "def load_data(path):\n",
    "    x = sorted(glob(os.path.join(path, \"image\", \"*.jpg\")))\n",
    "    y = sorted(glob(os.path.join(path, \"mask\", \"*.jpg\")))\n",
    "    return x, y"
   ]
  },
  {
   "cell_type": "code",
   "execution_count": 11,
   "metadata": {},
   "outputs": [],
   "source": [
    "def shuffling(x, y):\n",
    "    x, y = shuffle(x, y, random_state=42)\n",
    "    return x, y"
   ]
  },
  {
   "cell_type": "code",
   "execution_count": 12,
   "metadata": {},
   "outputs": [],
   "source": [
    "def read_image(path):\n",
    "    path = path.decode()\n",
    "    x = cv2.imread(path, cv2.IMREAD_COLOR)\n",
    "    # x = cv2.resize(x, (W, H))\n",
    "    x = x/255.0\n",
    "    x = x.astype(np.float32)\n",
    "    return x"
   ]
  },
  {
   "cell_type": "code",
   "execution_count": 13,
   "metadata": {},
   "outputs": [],
   "source": [
    "def read_mask(path):\n",
    "    path = path.decode()\n",
    "    x = cv2.imread(path, cv2.IMREAD_GRAYSCALE)  ## (512, 512)\n",
    "    # x = cv2.resize(x, (W, H))\n",
    "    x = x/255.0\n",
    "    x = x.astype(np.float32)\n",
    "    x = np.expand_dims(x, axis=-1)              ## (512, 512, 1)\n",
    "    return x"
   ]
  },
  {
   "cell_type": "code",
   "execution_count": 14,
   "metadata": {},
   "outputs": [],
   "source": [
    "def tf_parse(x, y):\n",
    "    def _parse(x, y):\n",
    "        x = read_image(x)\n",
    "        y = read_mask(y)\n",
    "        return x, y\n",
    "\n",
    "    x, y = tf.numpy_function(_parse, [x, y], [tf.float32, tf.float32])\n",
    "    x.set_shape([H, W, 3])\n",
    "    y.set_shape([H, W, 1])\n",
    "    return x, y\n"
   ]
  },
  {
   "cell_type": "code",
   "execution_count": 15,
   "metadata": {},
   "outputs": [],
   "source": [
    "def tf_dataset(X, Y, batch_size=2):\n",
    "    dataset = tf.data.Dataset.from_tensor_slices((X, Y))\n",
    "    dataset = dataset.map(tf_parse)\n",
    "    dataset = dataset.batch(batch_size)\n",
    "    dataset = dataset.prefetch(4)\n",
    "    return dataset"
   ]
  },
  {
   "cell_type": "markdown",
   "metadata": {},
   "source": [
    "# Loading The Dataset"
   ]
  },
  {
   "cell_type": "code",
   "execution_count": 16,
   "metadata": {},
   "outputs": [
    {
     "name": "stdout",
     "output_type": "stream",
     "text": [
      "Train: 100 - 100\n",
      "Valid: 20 - 20\n"
     ]
    }
   ],
   "source": [
    "train_x, train_y = load_data(train_path)\n",
    "# train_x, train_y = shuffling(train_x, train_y)\n",
    "valid_x, valid_y = load_data(valid_path)\n",
    "\n",
    "print(f\"Train: {len(train_x)} - {len(train_y)}\")\n",
    "print(f\"Valid: {len(valid_x)} - {len(valid_y)}\")\n"
   ]
  },
  {
   "cell_type": "code",
   "execution_count": 17,
   "metadata": {},
   "outputs": [],
   "source": [
    "\"\"\" Directory to save files \"\"\"\n",
    "create_dir(\"files\")"
   ]
  },
  {
   "cell_type": "code",
   "execution_count": 18,
   "metadata": {},
   "outputs": [],
   "source": [
    "train_dataset = tf_dataset(train_x, train_y, batch_size=batch_size)\n",
    "valid_dataset = tf_dataset(valid_x, valid_y, batch_size=batch_size)\n",
    "\n",
    "train_steps = len(train_x)//batch_size\n",
    "valid_setps = len(valid_x)//batch_size\n",
    "\n",
    "if len(train_x) % batch_size != 0:\n",
    "    train_steps += 1\n",
    "if len(valid_x) % batch_size != 0:\n",
    "    valid_setps += 1"
   ]
  },
  {
   "cell_type": "code",
   "execution_count": null,
   "metadata": {},
   "outputs": [],
   "source": []
  },
  {
   "cell_type": "markdown",
   "metadata": {},
   "source": [
    "# The Model"
   ]
  },
  {
   "cell_type": "code",
   "execution_count": 19,
   "metadata": {},
   "outputs": [
    {
     "name": "stdout",
     "output_type": "stream",
     "text": [
      "Model: \"UNET\"\n",
      "__________________________________________________________________________________________________\n",
      "Layer (type)                    Output Shape         Param #     Connected to                     \n",
      "==================================================================================================\n",
      "input_1 (InputLayer)            [(None, 512, 512, 3) 0                                            \n",
      "__________________________________________________________________________________________________\n",
      "conv2d (Conv2D)                 (None, 512, 512, 64) 1792        input_1[0][0]                    \n",
      "__________________________________________________________________________________________________\n",
      "batch_normalization (BatchNorma (None, 512, 512, 64) 256         conv2d[0][0]                     \n",
      "__________________________________________________________________________________________________\n",
      "activation (Activation)         (None, 512, 512, 64) 0           batch_normalization[0][0]        \n",
      "__________________________________________________________________________________________________\n",
      "conv2d_1 (Conv2D)               (None, 512, 512, 64) 36928       activation[0][0]                 \n",
      "__________________________________________________________________________________________________\n",
      "batch_normalization_1 (BatchNor (None, 512, 512, 64) 256         conv2d_1[0][0]                   \n",
      "__________________________________________________________________________________________________\n",
      "activation_1 (Activation)       (None, 512, 512, 64) 0           batch_normalization_1[0][0]      \n",
      "__________________________________________________________________________________________________\n",
      "max_pooling2d (MaxPooling2D)    (None, 256, 256, 64) 0           activation_1[0][0]               \n",
      "__________________________________________________________________________________________________\n",
      "conv2d_2 (Conv2D)               (None, 256, 256, 128 73856       max_pooling2d[0][0]              \n",
      "__________________________________________________________________________________________________\n",
      "batch_normalization_2 (BatchNor (None, 256, 256, 128 512         conv2d_2[0][0]                   \n",
      "__________________________________________________________________________________________________\n",
      "activation_2 (Activation)       (None, 256, 256, 128 0           batch_normalization_2[0][0]      \n",
      "__________________________________________________________________________________________________\n",
      "conv2d_3 (Conv2D)               (None, 256, 256, 128 147584      activation_2[0][0]               \n",
      "__________________________________________________________________________________________________\n",
      "batch_normalization_3 (BatchNor (None, 256, 256, 128 512         conv2d_3[0][0]                   \n",
      "__________________________________________________________________________________________________\n",
      "activation_3 (Activation)       (None, 256, 256, 128 0           batch_normalization_3[0][0]      \n",
      "__________________________________________________________________________________________________\n",
      "max_pooling2d_1 (MaxPooling2D)  (None, 128, 128, 128 0           activation_3[0][0]               \n",
      "__________________________________________________________________________________________________\n",
      "conv2d_4 (Conv2D)               (None, 128, 128, 256 295168      max_pooling2d_1[0][0]            \n",
      "__________________________________________________________________________________________________\n",
      "batch_normalization_4 (BatchNor (None, 128, 128, 256 1024        conv2d_4[0][0]                   \n",
      "__________________________________________________________________________________________________\n",
      "activation_4 (Activation)       (None, 128, 128, 256 0           batch_normalization_4[0][0]      \n",
      "__________________________________________________________________________________________________\n",
      "conv2d_5 (Conv2D)               (None, 128, 128, 256 590080      activation_4[0][0]               \n",
      "__________________________________________________________________________________________________\n",
      "batch_normalization_5 (BatchNor (None, 128, 128, 256 1024        conv2d_5[0][0]                   \n",
      "__________________________________________________________________________________________________\n",
      "activation_5 (Activation)       (None, 128, 128, 256 0           batch_normalization_5[0][0]      \n",
      "__________________________________________________________________________________________________\n",
      "max_pooling2d_2 (MaxPooling2D)  (None, 64, 64, 256)  0           activation_5[0][0]               \n",
      "__________________________________________________________________________________________________\n",
      "conv2d_6 (Conv2D)               (None, 64, 64, 512)  1180160     max_pooling2d_2[0][0]            \n",
      "__________________________________________________________________________________________________\n",
      "batch_normalization_6 (BatchNor (None, 64, 64, 512)  2048        conv2d_6[0][0]                   \n",
      "__________________________________________________________________________________________________\n",
      "activation_6 (Activation)       (None, 64, 64, 512)  0           batch_normalization_6[0][0]      \n",
      "__________________________________________________________________________________________________\n",
      "conv2d_7 (Conv2D)               (None, 64, 64, 512)  2359808     activation_6[0][0]               \n",
      "__________________________________________________________________________________________________\n",
      "batch_normalization_7 (BatchNor (None, 64, 64, 512)  2048        conv2d_7[0][0]                   \n",
      "__________________________________________________________________________________________________\n",
      "activation_7 (Activation)       (None, 64, 64, 512)  0           batch_normalization_7[0][0]      \n",
      "__________________________________________________________________________________________________\n",
      "max_pooling2d_3 (MaxPooling2D)  (None, 32, 32, 512)  0           activation_7[0][0]               \n",
      "__________________________________________________________________________________________________\n",
      "conv2d_8 (Conv2D)               (None, 32, 32, 1024) 4719616     max_pooling2d_3[0][0]            \n",
      "__________________________________________________________________________________________________\n",
      "batch_normalization_8 (BatchNor (None, 32, 32, 1024) 4096        conv2d_8[0][0]                   \n",
      "__________________________________________________________________________________________________\n",
      "activation_8 (Activation)       (None, 32, 32, 1024) 0           batch_normalization_8[0][0]      \n",
      "__________________________________________________________________________________________________\n",
      "conv2d_9 (Conv2D)               (None, 32, 32, 1024) 9438208     activation_8[0][0]               \n",
      "__________________________________________________________________________________________________\n",
      "batch_normalization_9 (BatchNor (None, 32, 32, 1024) 4096        conv2d_9[0][0]                   \n",
      "__________________________________________________________________________________________________\n",
      "activation_9 (Activation)       (None, 32, 32, 1024) 0           batch_normalization_9[0][0]      \n",
      "__________________________________________________________________________________________________\n",
      "conv2d_transpose (Conv2DTranspo (None, 64, 64, 512)  2097664     activation_9[0][0]               \n",
      "__________________________________________________________________________________________________\n",
      "concatenate (Concatenate)       (None, 64, 64, 1024) 0           conv2d_transpose[0][0]           \n",
      "                                                                 activation_7[0][0]               \n",
      "__________________________________________________________________________________________________\n",
      "conv2d_10 (Conv2D)              (None, 64, 64, 512)  4719104     concatenate[0][0]                \n",
      "__________________________________________________________________________________________________\n",
      "batch_normalization_10 (BatchNo (None, 64, 64, 512)  2048        conv2d_10[0][0]                  \n",
      "__________________________________________________________________________________________________\n",
      "activation_10 (Activation)      (None, 64, 64, 512)  0           batch_normalization_10[0][0]     \n",
      "__________________________________________________________________________________________________\n",
      "conv2d_11 (Conv2D)              (None, 64, 64, 512)  2359808     activation_10[0][0]              \n",
      "__________________________________________________________________________________________________\n",
      "batch_normalization_11 (BatchNo (None, 64, 64, 512)  2048        conv2d_11[0][0]                  \n",
      "__________________________________________________________________________________________________\n",
      "activation_11 (Activation)      (None, 64, 64, 512)  0           batch_normalization_11[0][0]     \n",
      "__________________________________________________________________________________________________\n",
      "conv2d_transpose_1 (Conv2DTrans (None, 128, 128, 256 524544      activation_11[0][0]              \n",
      "__________________________________________________________________________________________________\n",
      "concatenate_1 (Concatenate)     (None, 128, 128, 512 0           conv2d_transpose_1[0][0]         \n",
      "                                                                 activation_5[0][0]               \n",
      "__________________________________________________________________________________________________\n",
      "conv2d_12 (Conv2D)              (None, 128, 128, 256 1179904     concatenate_1[0][0]              \n",
      "__________________________________________________________________________________________________\n",
      "batch_normalization_12 (BatchNo (None, 128, 128, 256 1024        conv2d_12[0][0]                  \n",
      "__________________________________________________________________________________________________\n",
      "activation_12 (Activation)      (None, 128, 128, 256 0           batch_normalization_12[0][0]     \n",
      "__________________________________________________________________________________________________\n",
      "conv2d_13 (Conv2D)              (None, 128, 128, 256 590080      activation_12[0][0]              \n",
      "__________________________________________________________________________________________________\n",
      "batch_normalization_13 (BatchNo (None, 128, 128, 256 1024        conv2d_13[0][0]                  \n",
      "__________________________________________________________________________________________________\n",
      "activation_13 (Activation)      (None, 128, 128, 256 0           batch_normalization_13[0][0]     \n",
      "__________________________________________________________________________________________________\n",
      "conv2d_transpose_2 (Conv2DTrans (None, 256, 256, 128 131200      activation_13[0][0]              \n",
      "__________________________________________________________________________________________________\n",
      "concatenate_2 (Concatenate)     (None, 256, 256, 256 0           conv2d_transpose_2[0][0]         \n",
      "                                                                 activation_3[0][0]               \n",
      "__________________________________________________________________________________________________\n",
      "conv2d_14 (Conv2D)              (None, 256, 256, 128 295040      concatenate_2[0][0]              \n",
      "__________________________________________________________________________________________________\n",
      "batch_normalization_14 (BatchNo (None, 256, 256, 128 512         conv2d_14[0][0]                  \n",
      "__________________________________________________________________________________________________\n",
      "activation_14 (Activation)      (None, 256, 256, 128 0           batch_normalization_14[0][0]     \n",
      "__________________________________________________________________________________________________\n",
      "conv2d_15 (Conv2D)              (None, 256, 256, 128 147584      activation_14[0][0]              \n",
      "__________________________________________________________________________________________________\n",
      "batch_normalization_15 (BatchNo (None, 256, 256, 128 512         conv2d_15[0][0]                  \n",
      "__________________________________________________________________________________________________\n",
      "activation_15 (Activation)      (None, 256, 256, 128 0           batch_normalization_15[0][0]     \n",
      "__________________________________________________________________________________________________\n",
      "conv2d_transpose_3 (Conv2DTrans (None, 512, 512, 64) 32832       activation_15[0][0]              \n",
      "__________________________________________________________________________________________________\n",
      "concatenate_3 (Concatenate)     (None, 512, 512, 128 0           conv2d_transpose_3[0][0]         \n",
      "                                                                 activation_1[0][0]               \n",
      "__________________________________________________________________________________________________\n",
      "conv2d_16 (Conv2D)              (None, 512, 512, 64) 73792       concatenate_3[0][0]              \n",
      "__________________________________________________________________________________________________\n",
      "batch_normalization_16 (BatchNo (None, 512, 512, 64) 256         conv2d_16[0][0]                  \n",
      "__________________________________________________________________________________________________\n",
      "activation_16 (Activation)      (None, 512, 512, 64) 0           batch_normalization_16[0][0]     \n",
      "__________________________________________________________________________________________________\n",
      "conv2d_17 (Conv2D)              (None, 512, 512, 64) 36928       activation_16[0][0]              \n",
      "__________________________________________________________________________________________________\n",
      "batch_normalization_17 (BatchNo (None, 512, 512, 64) 256         conv2d_17[0][0]                  \n",
      "__________________________________________________________________________________________________\n",
      "activation_17 (Activation)      (None, 512, 512, 64) 0           batch_normalization_17[0][0]     \n",
      "__________________________________________________________________________________________________\n",
      "conv2d_18 (Conv2D)              (None, 512, 512, 1)  65          activation_17[0][0]              \n",
      "==================================================================================================\n",
      "Total params: 31,055,297\n",
      "Trainable params: 31,043,521\n",
      "Non-trainable params: 11,776\n",
      "__________________________________________________________________________________________________\n"
     ]
    }
   ],
   "source": [
    "\"\"\" Model \"\"\"\n",
    "model = build_unet((H, W, 3))\n",
    "model.compile(loss=dice_loss, optimizer=Adam(lr), metrics=[dice_coef, iou, Recall(), Precision()])\n",
    "model.summary()"
   ]
  },
  {
   "cell_type": "markdown",
   "metadata": {},
   "source": [
    "## Callbacks"
   ]
  },
  {
   "cell_type": "code",
   "execution_count": 20,
   "metadata": {},
   "outputs": [],
   "source": [
    "callbacks = [\n",
    "    ModelCheckpoint(model_path, verbose=1, save_best_only=True),\n",
    "    ReduceLROnPlateau(monitor=\"val_loss\", factor=0.1, patience=5, min_lr=1e-6, verbose=1),\n",
    "    CSVLogger(csv_path),\n",
    "    TensorBoard(),\n",
    "    EarlyStopping(monitor=\"val_loss\", patience=10, restore_best_weights=False)\n",
    "]"
   ]
  },
  {
   "cell_type": "code",
   "execution_count": 21,
   "metadata": {},
   "outputs": [
    {
     "name": "stdout",
     "output_type": "stream",
     "text": [
      "Epoch 1/100\n",
      "100/100 [==============================] - 119s 678ms/step - loss: 0.5716 - dice_coef: 0.4284 - iou: 0.2784 - recall: 0.5151 - precision: 0.5576 - val_loss: 0.8853 - val_dice_coef: 0.1147 - val_iou: 0.0609 - val_recall: 0.0000e+00 - val_precision: 0.0000e+00\n",
      "\n",
      "Epoch 00001: val_loss improved from inf to 0.88532, saving model to files\\model.h5\n",
      "Epoch 2/100\n",
      "100/100 [==============================] - 65s 650ms/step - loss: 0.4398 - dice_coef: 0.5602 - iou: 0.3906 - recall: 0.4167 - precision: 0.8374 - val_loss: 0.9231 - val_dice_coef: 0.0769 - val_iou: 0.0400 - val_recall: 3.5947e-06 - val_precision: 0.0229\n",
      "\n",
      "Epoch 00002: val_loss did not improve from 0.88532\n",
      "Epoch 3/100\n",
      "100/100 [==============================] - 62s 623ms/step - loss: 0.3937 - dice_coef: 0.6063 - iou: 0.4365 - recall: 0.4088 - precision: 0.8754 - val_loss: 0.9194 - val_dice_coef: 0.0806 - val_iou: 0.0423 - val_recall: 0.0121 - val_precision: 0.1838\n",
      "\n",
      "Epoch 00003: val_loss did not improve from 0.88532\n",
      "Epoch 4/100\n",
      "100/100 [==============================] - 62s 618ms/step - loss: 0.3602 - dice_coef: 0.6398 - iou: 0.4716 - recall: 0.4013 - precision: 0.8972 - val_loss: 0.7408 - val_dice_coef: 0.2592 - val_iou: 0.1503 - val_recall: 0.0931 - val_precision: 0.5114\n",
      "\n",
      "Epoch 00004: val_loss improved from 0.88532 to 0.74081, saving model to files\\model.h5\n",
      "Epoch 5/100\n",
      "100/100 [==============================] - 62s 615ms/step - loss: 0.3364 - dice_coef: 0.6636 - iou: 0.4977 - recall: 0.3973 - precision: 0.9077 - val_loss: 0.5431 - val_dice_coef: 0.4569 - val_iou: 0.2977 - val_recall: 0.2049 - val_precision: 0.7534\n",
      "\n",
      "Epoch 00005: val_loss improved from 0.74081 to 0.54307, saving model to files\\model.h5\n",
      "Epoch 6/100\n",
      "100/100 [==============================] - 61s 613ms/step - loss: 0.3150 - dice_coef: 0.6850 - iou: 0.5219 - recall: 0.3952 - precision: 0.9198 - val_loss: 0.4419 - val_dice_coef: 0.5581 - val_iou: 0.3890 - val_recall: 0.2372 - val_precision: 0.9316\n",
      "\n",
      "Epoch 00006: val_loss improved from 0.54307 to 0.44193, saving model to files\\model.h5\n",
      "Epoch 7/100\n",
      "100/100 [==============================] - 61s 611ms/step - loss: 0.2996 - dice_coef: 0.7004 - iou: 0.5398 - recall: 0.3940 - precision: 0.9264 - val_loss: 0.3666 - val_dice_coef: 0.6334 - val_iou: 0.4655 - val_recall: 0.2851 - val_precision: 0.9612\n",
      "\n",
      "Epoch 00007: val_loss improved from 0.44193 to 0.36655, saving model to files\\model.h5\n",
      "Epoch 8/100\n",
      "100/100 [==============================] - 61s 610ms/step - loss: 0.2856 - dice_coef: 0.7144 - iou: 0.5566 - recall: 0.3941 - precision: 0.9336 - val_loss: 0.3384 - val_dice_coef: 0.6616 - val_iou: 0.4961 - val_recall: 0.3040 - val_precision: 0.9610\n",
      "\n",
      "Epoch 00008: val_loss improved from 0.36655 to 0.33838, saving model to files\\model.h5\n",
      "Epoch 9/100\n",
      "100/100 [==============================] - 63s 625ms/step - loss: 0.2735 - dice_coef: 0.7265 - iou: 0.5713 - recall: 0.3945 - precision: 0.9392 - val_loss: 0.3269 - val_dice_coef: 0.6731 - val_iou: 0.5092 - val_recall: 0.3130 - val_precision: 0.9605\n",
      "\n",
      "Epoch 00009: val_loss improved from 0.33838 to 0.32691, saving model to files\\model.h5\n",
      "Epoch 10/100\n",
      "100/100 [==============================] - 63s 626ms/step - loss: 0.2632 - dice_coef: 0.7368 - iou: 0.5840 - recall: 0.3948 - precision: 0.9442 - val_loss: 0.3203 - val_dice_coef: 0.6797 - val_iou: 0.5169 - val_recall: 0.3148 - val_precision: 0.9602\n",
      "\n",
      "Epoch 00010: val_loss improved from 0.32691 to 0.32030, saving model to files\\model.h5\n",
      "Epoch 11/100\n",
      "100/100 [==============================] - 62s 624ms/step - loss: 0.2550 - dice_coef: 0.7450 - iou: 0.5944 - recall: 0.3952 - precision: 0.9475 - val_loss: 0.3120 - val_dice_coef: 0.6880 - val_iou: 0.5268 - val_recall: 0.3328 - val_precision: 0.9530\n",
      "\n",
      "Epoch 00011: val_loss improved from 0.32030 to 0.31203, saving model to files\\model.h5\n",
      "Epoch 12/100\n",
      "100/100 [==============================] - 62s 616ms/step - loss: 0.2489 - dice_coef: 0.7511 - iou: 0.6021 - recall: 0.3947 - precision: 0.9499 - val_loss: 0.3433 - val_dice_coef: 0.6567 - val_iou: 0.4920 - val_recall: 0.2771 - val_precision: 0.9685\n",
      "\n",
      "Epoch 00012: val_loss did not improve from 0.31203\n",
      "Epoch 13/100\n",
      "100/100 [==============================] - 61s 613ms/step - loss: 0.2426 - dice_coef: 0.7574 - iou: 0.6102 - recall: 0.3950 - precision: 0.9526 - val_loss: 0.3194 - val_dice_coef: 0.6806 - val_iou: 0.5183 - val_recall: 0.3014 - val_precision: 0.9632\n",
      "\n",
      "Epoch 00013: val_loss did not improve from 0.31203\n",
      "Epoch 14/100\n",
      "100/100 [==============================] - 61s 612ms/step - loss: 0.2365 - dice_coef: 0.7635 - iou: 0.6182 - recall: 0.3952 - precision: 0.9555 - val_loss: 0.3237 - val_dice_coef: 0.6763 - val_iou: 0.5136 - val_recall: 0.2969 - val_precision: 0.9629\n",
      "\n",
      "Epoch 00014: val_loss did not improve from 0.31203\n",
      "Epoch 15/100\n",
      "100/100 [==============================] - 61s 614ms/step - loss: 0.2308 - dice_coef: 0.7692 - iou: 0.6256 - recall: 0.3963 - precision: 0.9577 - val_loss: 0.2874 - val_dice_coef: 0.7126 - val_iou: 0.5553 - val_recall: 0.3430 - val_precision: 0.9554\n",
      "\n",
      "Epoch 00015: val_loss improved from 0.31203 to 0.28738, saving model to files\\model.h5\n",
      "Epoch 16/100\n",
      "100/100 [==============================] - 64s 641ms/step - loss: 0.2259 - dice_coef: 0.7741 - iou: 0.6321 - recall: 0.3965 - precision: 0.9599 - val_loss: 0.2862 - val_dice_coef: 0.7138 - val_iou: 0.5566 - val_recall: 0.3388 - val_precision: 0.9577\n",
      "\n",
      "Epoch 00016: val_loss improved from 0.28738 to 0.28621, saving model to files\\model.h5\n",
      "Epoch 17/100\n",
      "100/100 [==============================] - 64s 630ms/step - loss: 0.2203 - dice_coef: 0.7797 - iou: 0.6396 - recall: 0.3976 - precision: 0.9625 - val_loss: 0.2985 - val_dice_coef: 0.7015 - val_iou: 0.5428 - val_recall: 0.3202 - val_precision: 0.9615\n",
      "\n",
      "Epoch 00017: val_loss did not improve from 0.28621\n",
      "Epoch 18/100\n",
      "100/100 [==============================] - 63s 626ms/step - loss: 0.2175 - dice_coef: 0.7825 - iou: 0.6434 - recall: 0.3971 - precision: 0.9634 - val_loss: 0.3083 - val_dice_coef: 0.6917 - val_iou: 0.5315 - val_recall: 0.3058 - val_precision: 0.9630\n",
      "\n",
      "Epoch 00018: val_loss did not improve from 0.28621\n",
      "Epoch 19/100\n",
      "100/100 [==============================] - 63s 631ms/step - loss: 0.2127 - dice_coef: 0.7873 - iou: 0.6498 - recall: 0.3978 - precision: 0.9656 - val_loss: 0.2954 - val_dice_coef: 0.7046 - val_iou: 0.5464 - val_recall: 0.3170 - val_precision: 0.9629\n",
      "\n",
      "Epoch 00019: val_loss did not improve from 0.28621\n",
      "Epoch 20/100\n",
      "100/100 [==============================] - 61s 615ms/step - loss: 0.2080 - dice_coef: 0.7920 - iou: 0.6563 - recall: 0.3978 - precision: 0.9679 - val_loss: 0.2801 - val_dice_coef: 0.7199 - val_iou: 0.5643 - val_recall: 0.3400 - val_precision: 0.9555\n",
      "\n",
      "Epoch 00020: val_loss improved from 0.28621 to 0.28007, saving model to files\\model.h5\n",
      "Epoch 21/100\n",
      "100/100 [==============================] - 63s 627ms/step - loss: 0.2037 - dice_coef: 0.7963 - iou: 0.6621 - recall: 0.3985 - precision: 0.9700 - val_loss: 0.2980 - val_dice_coef: 0.7020 - val_iou: 0.5432 - val_recall: 0.3144 - val_precision: 0.9625\n",
      "\n",
      "Epoch 00021: val_loss did not improve from 0.28007\n",
      "Epoch 22/100\n",
      "100/100 [==============================] - 62s 619ms/step - loss: 0.2000 - dice_coef: 0.8000 - iou: 0.6674 - recall: 0.3989 - precision: 0.9714 - val_loss: 0.2921 - val_dice_coef: 0.7079 - val_iou: 0.5498 - val_recall: 0.3221 - val_precision: 0.9589\n",
      "\n",
      "Epoch 00022: val_loss did not improve from 0.28007\n",
      "Epoch 23/100\n",
      "100/100 [==============================] - 66s 657ms/step - loss: 0.1967 - dice_coef: 0.8033 - iou: 0.6719 - recall: 0.3995 - precision: 0.9728 - val_loss: 0.3051 - val_dice_coef: 0.6949 - val_iou: 0.5350 - val_recall: 0.3058 - val_precision: 0.9624\n",
      "\n",
      "Epoch 00023: val_loss did not improve from 0.28007\n",
      "Epoch 24/100\n",
      "100/100 [==============================] - 65s 647ms/step - loss: 0.1944 - dice_coef: 0.8056 - iou: 0.6751 - recall: 0.3996 - precision: 0.9735 - val_loss: 0.2853 - val_dice_coef: 0.7147 - val_iou: 0.5581 - val_recall: 0.3339 - val_precision: 0.9537\n",
      "\n",
      "Epoch 00024: val_loss did not improve from 0.28007\n",
      "Epoch 25/100\n",
      "100/100 [==============================] - 66s 656ms/step - loss: 0.1926 - dice_coef: 0.8074 - iou: 0.6776 - recall: 0.3996 - precision: 0.9743 - val_loss: 0.2775 - val_dice_coef: 0.7225 - val_iou: 0.5673 - val_recall: 0.3536 - val_precision: 0.9452\n"
     ]
    },
    {
     "name": "stdout",
     "output_type": "stream",
     "text": [
      "\n",
      "Epoch 00025: val_loss improved from 0.28007 to 0.27751, saving model to files\\model.h5\n",
      "Epoch 26/100\n",
      "100/100 [==============================] - 63s 631ms/step - loss: 0.1910 - dice_coef: 0.8090 - iou: 0.6798 - recall: 0.3998 - precision: 0.9747 - val_loss: 0.2676 - val_dice_coef: 0.7324 - val_iou: 0.5793 - val_recall: 0.3618 - val_precision: 0.9462\n",
      "\n",
      "Epoch 00026: val_loss improved from 0.27751 to 0.26763, saving model to files\\model.h5\n",
      "Epoch 27/100\n",
      "100/100 [==============================] - 62s 618ms/step - loss: 0.1882 - dice_coef: 0.8118 - iou: 0.6839 - recall: 0.4003 - precision: 0.9757 - val_loss: 0.2695 - val_dice_coef: 0.7305 - val_iou: 0.5769 - val_recall: 0.3588 - val_precision: 0.9451\n",
      "\n",
      "Epoch 00027: val_loss did not improve from 0.26763\n",
      "Epoch 28/100\n",
      "100/100 [==============================] - 61s 614ms/step - loss: 0.1851 - dice_coef: 0.8149 - iou: 0.6882 - recall: 0.4011 - precision: 0.9770 - val_loss: 0.2886 - val_dice_coef: 0.7114 - val_iou: 0.5545 - val_recall: 0.3311 - val_precision: 0.9498\n",
      "\n",
      "Epoch 00028: val_loss did not improve from 0.26763\n",
      "Epoch 29/100\n",
      "100/100 [==============================] - 62s 617ms/step - loss: 0.1834 - dice_coef: 0.8166 - iou: 0.6907 - recall: 0.4010 - precision: 0.9778 - val_loss: 0.2763 - val_dice_coef: 0.7237 - val_iou: 0.5687 - val_recall: 0.3513 - val_precision: 0.9430\n",
      "\n",
      "Epoch 00029: val_loss did not improve from 0.26763\n",
      "Epoch 30/100\n",
      "100/100 [==============================] - 62s 621ms/step - loss: 0.1822 - dice_coef: 0.8178 - iou: 0.6924 - recall: 0.4010 - precision: 0.9780 - val_loss: 0.2690 - val_dice_coef: 0.7310 - val_iou: 0.5776 - val_recall: 0.3484 - val_precision: 0.9517\n",
      "\n",
      "Epoch 00030: val_loss did not improve from 0.26763\n",
      "Epoch 31/100\n",
      "100/100 [==============================] - 61s 611ms/step - loss: 0.1801 - dice_coef: 0.8199 - iou: 0.6954 - recall: 0.4017 - precision: 0.9790 - val_loss: 0.2776 - val_dice_coef: 0.7224 - val_iou: 0.5670 - val_recall: 0.3312 - val_precision: 0.9558\n",
      "\n",
      "Epoch 00031: val_loss did not improve from 0.26763\n",
      "\n",
      "Epoch 00031: ReduceLROnPlateau reducing learning rate to 9.999999747378752e-06.\n",
      "Epoch 32/100\n",
      "100/100 [==============================] - 62s 615ms/step - loss: 0.1820 - dice_coef: 0.8180 - iou: 0.6928 - recall: 0.4030 - precision: 0.9767 - val_loss: 0.2626 - val_dice_coef: 0.7374 - val_iou: 0.5852 - val_recall: 0.3651 - val_precision: 0.9462\n",
      "\n",
      "Epoch 00032: val_loss improved from 0.26763 to 0.26265, saving model to files\\model.h5\n",
      "Epoch 33/100\n",
      "100/100 [==============================] - 62s 615ms/step - loss: 0.1753 - dice_coef: 0.8247 - iou: 0.7024 - recall: 0.4027 - precision: 0.9813 - val_loss: 0.2659 - val_dice_coef: 0.7341 - val_iou: 0.5812 - val_recall: 0.3575 - val_precision: 0.9491\n",
      "\n",
      "Epoch 00033: val_loss did not improve from 0.26265\n",
      "Epoch 34/100\n",
      "100/100 [==============================] - 61s 613ms/step - loss: 0.1716 - dice_coef: 0.8284 - iou: 0.7077 - recall: 0.4031 - precision: 0.9833 - val_loss: 0.2675 - val_dice_coef: 0.7325 - val_iou: 0.5793 - val_recall: 0.3552 - val_precision: 0.9496\n",
      "\n",
      "Epoch 00034: val_loss did not improve from 0.26265\n",
      "Epoch 35/100\n",
      "100/100 [==============================] - 62s 620ms/step - loss: 0.1689 - dice_coef: 0.8311 - iou: 0.7117 - recall: 0.4033 - precision: 0.9848 - val_loss: 0.2692 - val_dice_coef: 0.7308 - val_iou: 0.5772 - val_recall: 0.3530 - val_precision: 0.9498\n",
      "\n",
      "Epoch 00035: val_loss did not improve from 0.26265\n",
      "Epoch 36/100\n",
      "100/100 [==============================] - 62s 623ms/step - loss: 0.1667 - dice_coef: 0.8333 - iou: 0.7150 - recall: 0.4033 - precision: 0.9860 - val_loss: 0.2704 - val_dice_coef: 0.7296 - val_iou: 0.5758 - val_recall: 0.3515 - val_precision: 0.9497\n",
      "\n",
      "Epoch 00036: val_loss did not improve from 0.26265\n",
      "Epoch 37/100\n",
      "100/100 [==============================] - 62s 625ms/step - loss: 0.1648 - dice_coef: 0.8352 - iou: 0.7177 - recall: 0.4034 - precision: 0.9869 - val_loss: 0.2710 - val_dice_coef: 0.7290 - val_iou: 0.5750 - val_recall: 0.3514 - val_precision: 0.9493\n",
      "\n",
      "Epoch 00037: val_loss did not improve from 0.26265\n",
      "\n",
      "Epoch 00037: ReduceLROnPlateau reducing learning rate to 1e-06.\n",
      "Epoch 38/100\n",
      "100/100 [==============================] - 61s 613ms/step - loss: 0.1654 - dice_coef: 0.8346 - iou: 0.7169 - recall: 0.3976 - precision: 0.9882 - val_loss: 0.2713 - val_dice_coef: 0.7287 - val_iou: 0.5745 - val_recall: 0.3581 - val_precision: 0.9454\n",
      "\n",
      "Epoch 00038: val_loss did not improve from 0.26265\n",
      "Epoch 39/100\n",
      "100/100 [==============================] - 62s 619ms/step - loss: 0.1642 - dice_coef: 0.8358 - iou: 0.7186 - recall: 0.4013 - precision: 0.9879 - val_loss: 0.2714 - val_dice_coef: 0.7286 - val_iou: 0.5745 - val_recall: 0.3591 - val_precision: 0.9448\n",
      "\n",
      "Epoch 00039: val_loss did not improve from 0.26265\n",
      "Epoch 40/100\n",
      "100/100 [==============================] - 61s 612ms/step - loss: 0.1637 - dice_coef: 0.8363 - iou: 0.7194 - recall: 0.4022 - precision: 0.9879 - val_loss: 0.2714 - val_dice_coef: 0.7286 - val_iou: 0.5744 - val_recall: 0.3591 - val_precision: 0.9447\n",
      "\n",
      "Epoch 00040: val_loss did not improve from 0.26265\n",
      "Epoch 41/100\n",
      "100/100 [==============================] - 61s 612ms/step - loss: 0.1633 - dice_coef: 0.8367 - iou: 0.7199 - recall: 0.4026 - precision: 0.9880 - val_loss: 0.2715 - val_dice_coef: 0.7285 - val_iou: 0.5743 - val_recall: 0.3589 - val_precision: 0.9447\n",
      "\n",
      "Epoch 00041: val_loss did not improve from 0.26265\n",
      "Epoch 42/100\n",
      "100/100 [==============================] - 63s 627ms/step - loss: 0.1630 - dice_coef: 0.8370 - iou: 0.7204 - recall: 0.4027 - precision: 0.9882 - val_loss: 0.2717 - val_dice_coef: 0.7283 - val_iou: 0.5741 - val_recall: 0.3587 - val_precision: 0.9447\n",
      "\n",
      "Epoch 00042: val_loss did not improve from 0.26265\n"
     ]
    },
    {
     "data": {
      "text/plain": [
       "<tensorflow.python.keras.callbacks.History at 0x25116c40cd0>"
      ]
     },
     "execution_count": 21,
     "metadata": {},
     "output_type": "execute_result"
    }
   ],
   "source": [
    "model.fit(\n",
    "    train_dataset,\n",
    "    epochs=num_epochs,\n",
    "    validation_data=valid_dataset,\n",
    "    steps_per_epoch=train_steps,\n",
    "    validation_steps=valid_setps,\n",
    "    callbacks=callbacks\n",
    ")"
   ]
  },
  {
   "cell_type": "markdown",
   "metadata": {},
   "source": []
  },
  {
   "cell_type": "code",
   "execution_count": 23,
   "metadata": {},
   "outputs": [],
   "source": []
  },
  {
   "cell_type": "code",
   "execution_count": 24,
   "metadata": {},
   "outputs": [],
   "source": [
    "\n"
   ]
  },
  {
   "cell_type": "code",
   "execution_count": 25,
   "metadata": {},
   "outputs": [],
   "source": [
    "\n"
   ]
  },
  {
   "cell_type": "code",
   "execution_count": 26,
   "metadata": {},
   "outputs": [],
   "source": [
    "def save_results(ori_x, ori_y, y_pred, save_image_path):\n",
    "    line = np.ones((H, 10, 3)) * 255\n",
    "\n",
    "    ori_y = np.expand_dims(ori_y, axis=-1)\n",
    "    ori_y = np.concatenate([ori_y, ori_y, ori_y], axis=-1)\n",
    "\n",
    "    y_pred = np.expand_dims(y_pred, axis=-1)\n",
    "    y_pred = np.concatenate([y_pred, y_pred, y_pred], axis=-1) * 255\n",
    "\n",
    "    cat_images = np.concatenate([ori_x, line, ori_y, line, y_pred], axis=1)\n",
    "    cv2.imwrite(save_image_path, cat_images)"
   ]
  },
  {
   "cell_type": "code",
   "execution_count": null,
   "metadata": {},
   "outputs": [],
   "source": []
  }
 ],
 "metadata": {
  "kernelspec": {
   "display_name": "Python 3 (vanilla)",
   "language": "python",
   "name": "vanilla"
  },
  "language_info": {
   "codemirror_mode": {
    "name": "ipython",
    "version": 3
   },
   "file_extension": ".py",
   "mimetype": "text/x-python",
   "name": "python",
   "nbconvert_exporter": "python",
   "pygments_lexer": "ipython3",
   "version": "3.9.5"
  },
  "toc": {
   "base_numbering": 1,
   "nav_menu": {},
   "number_sections": true,
   "sideBar": true,
   "skip_h1_title": false,
   "title_cell": "Table of Contents",
   "title_sidebar": "Contents",
   "toc_cell": false,
   "toc_position": {},
   "toc_section_display": true,
   "toc_window_display": false
  },
  "varInspector": {
   "cols": {
    "lenName": 16,
    "lenType": 16,
    "lenVar": 40
   },
   "kernels_config": {
    "python": {
     "delete_cmd_postfix": "",
     "delete_cmd_prefix": "del ",
     "library": "var_list.py",
     "varRefreshCmd": "print(var_dic_list())"
    },
    "r": {
     "delete_cmd_postfix": ") ",
     "delete_cmd_prefix": "rm(",
     "library": "var_list.r",
     "varRefreshCmd": "cat(var_dic_list()) "
    }
   },
   "types_to_exclude": [
    "module",
    "function",
    "builtin_function_or_method",
    "instance",
    "_Feature"
   ],
   "window_display": false
  }
 },
 "nbformat": 4,
 "nbformat_minor": 5
}
