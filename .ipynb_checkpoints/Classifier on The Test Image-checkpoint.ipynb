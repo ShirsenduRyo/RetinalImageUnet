{
 "cells": [
  {
   "cell_type": "markdown",
   "metadata": {},
   "source": [
    "# Import Packages "
   ]
  },
  {
   "cell_type": "code",
   "execution_count": 1,
   "metadata": {},
   "outputs": [],
   "source": [
    "import numpy as np\n",
    "import cv2\n",
    "import pandas as pd"
   ]
  },
  {
   "cell_type": "code",
   "execution_count": 2,
   "metadata": {},
   "outputs": [],
   "source": [
    "from matplotlib import pyplot as plt\n",
    "import os"
   ]
  },
  {
   "cell_type": "code",
   "execution_count": 3,
   "metadata": {},
   "outputs": [],
   "source": [
    "from skimage.filters import roberts, sobel, scharr, prewitt\n",
    "from scipy import ndimage as nd"
   ]
  },
  {
   "cell_type": "code",
   "execution_count": 4,
   "metadata": {},
   "outputs": [],
   "source": [
    "import gif2numpy"
   ]
  },
  {
   "cell_type": "code",
   "execution_count": 5,
   "metadata": {},
   "outputs": [],
   "source": [
    "import pickle"
   ]
  },
  {
   "cell_type": "markdown",
   "metadata": {},
   "source": [
    "# Features Loading"
   ]
  },
  {
   "cell_type": "code",
   "execution_count": 8,
   "metadata": {},
   "outputs": [],
   "source": [
    "def originalImg(img,df):\n",
    "    img2 = img.reshape(-1)\n",
    "    df['Original_Image'] = img2\n",
    "    return df,img2"
   ]
  },
  {
   "cell_type": "code",
   "execution_count": 9,
   "metadata": {},
   "outputs": [],
   "source": [
    "def gaborFilter(img2,df):\n",
    "    #Generate Gabor features\n",
    "    num = 1  #To count numbers up in order to give Gabor features a lable in the data frame\n",
    "    kernels = []\n",
    "    for theta in range(2):   #Define number of thetas\n",
    "        theta = theta / 4. * np.pi\n",
    "        for sigma in (1, 3):  #Sigma with 1 and 3\n",
    "            for lamda in np.arange(0, np.pi, np.pi / 4):   #Range of wavelengths\n",
    "                for gamma in (0.05, 0.5):   #Gamma values of 0.05 and 0.5\n",
    "\n",
    "\n",
    "                    gabor_label = 'Gabor' + str(num)  #Label Gabor columns as Gabor1, Gabor2, etc.\n",
    "                    # print(gabor_label)\n",
    "                    ksize=5\n",
    "                    kernel = cv2.getGaborKernel((ksize, ksize), sigma, theta, lamda, gamma, 0, ktype=cv2.CV_32F)    \n",
    "                    kernels.append(kernel)\n",
    "                    #Now filter the image and add values to a new column \n",
    "                    fimg = cv2.filter2D(img2, cv2.CV_8UC3, kernel)\n",
    "                    filtered_img = fimg.reshape(-1)\n",
    "                    df[gabor_label] = filtered_img  #Labels columns as Gabor1, Gabor2, etc.\n",
    "                    #print(gabor_label, ': theta=', theta, ': sigma=', sigma, ': lamda=', lamda, ': gamma=', gamma)\n",
    "                    num += 1  #Increment for gabor column label\n",
    "    return df"
   ]
  },
  {
   "cell_type": "code",
   "execution_count": 10,
   "metadata": {},
   "outputs": [],
   "source": [
    "def cannyEdge(df,img):\n",
    "    #CANNY EDGE\n",
    "    edges = cv2.Canny(img, 100,200)   #Image, min and max values\n",
    "    edges1 = edges.reshape(-1)\n",
    "    df['Canny_Edge'] = edges1 #Add column to original dataframe\n",
    "    return df"
   ]
  },
  {
   "cell_type": "code",
   "execution_count": 11,
   "metadata": {},
   "outputs": [],
   "source": [
    "def the4edgeDetectors(df,img):\n",
    "    edge_roberts = roberts(img)\n",
    "    edge_roberts1 = edge_roberts.reshape(-1)\n",
    "    df['Roberts'] = edge_roberts1\n",
    "    \n",
    "    #SOBEL\n",
    "    edge_sobel = sobel(img)\n",
    "    edge_sobel1 = edge_sobel.reshape(-1)\n",
    "    df['Sobel'] = edge_sobel1\n",
    "    \n",
    "    #SCHARR\n",
    "    edge_scharr = scharr(img)\n",
    "    edge_scharr1 = edge_scharr.reshape(-1)\n",
    "    df['Scharr'] = edge_scharr1\n",
    "    \n",
    "    #PREWITT\n",
    "    edge_prewitt = prewitt(img)\n",
    "    edge_prewitt1 = edge_prewitt.reshape(-1)\n",
    "    df['Prewitt'] = edge_prewitt1\n",
    "    \n",
    "    return df"
   ]
  },
  {
   "cell_type": "code",
   "execution_count": 12,
   "metadata": {},
   "outputs": [],
   "source": [
    "def gmv(df,img):\n",
    "    #GAUSSIAN with sigma=3\n",
    "\n",
    "    gaussian_img = nd.gaussian_filter(img, sigma=3)\n",
    "    gaussian_img1 = gaussian_img.reshape(-1)\n",
    "    df['Gaussian s3'] = gaussian_img1\n",
    "\n",
    "    #GAUSSIAN with sigma=7\n",
    "    gaussian_img2 = nd.gaussian_filter(img, sigma=7)\n",
    "    gaussian_img3 = gaussian_img2.reshape(-1)\n",
    "    df['Gaussian s7'] = gaussian_img3\n",
    "\n",
    "    #MEDIAN with sigma=3\n",
    "    median_img = nd.median_filter(img, size=3)\n",
    "    median_img1 = median_img.reshape(-1)\n",
    "    df['Median s3'] = median_img1\n",
    "\n",
    "    #VARIANCE with size=3\n",
    "    variance_img = nd.generic_filter(img, np.var, size=3)\n",
    "    variance_img1 = variance_img.reshape(-1)\n",
    "    df['Variance s3'] = variance_img1  #Add column to original dataframe\n",
    "    return df"
   ]
  },
  {
   "cell_type": "code",
   "execution_count": 14,
   "metadata": {},
   "outputs": [],
   "source": [
    "def gtImageDis(gt_path):\n",
    "    frames, exts, image_specs = gif2numpy.convert(gt_path)\n",
    "    frames = np.array(frames)\n",
    "    labeled_img = frames.reshape(584, 565,3)\n",
    "    labeled_img_dis = cv2.cvtColor(labeled_img, cv2.COLOR_BGR2GRAY)\n",
    "    \n",
    "    thresh = 0\n",
    "    \n",
    "    binary =  labeled_img_dis > thresh\n",
    "    \n",
    "    return binary"
   ]
  },
  {
   "cell_type": "code",
   "execution_count": null,
   "metadata": {},
   "outputs": [],
   "source": []
  },
  {
   "cell_type": "code",
   "execution_count": null,
   "metadata": {},
   "outputs": [],
   "source": []
  },
  {
   "cell_type": "markdown",
   "metadata": {},
   "source": [
    "# Print Test Result"
   ]
  },
  {
   "cell_type": "code",
   "execution_count": 15,
   "metadata": {},
   "outputs": [],
   "source": [
    "# Next time change th path format\n",
    "test_path = \"D:\\\\Data sets\\\\DRIVE\\\\test\"\n",
    "test_ids = next(os.walk(test_path + \"\\\\images\"))[2]"
   ]
  },
  {
   "cell_type": "code",
   "execution_count": 16,
   "metadata": {},
   "outputs": [
    {
     "data": {
      "text/plain": [
       "['01_test.tif',\n",
       " '02_test.tif',\n",
       " '03_test.tif',\n",
       " '04_test.tif',\n",
       " '05_test.tif',\n",
       " '06_test.tif',\n",
       " '07_test.tif',\n",
       " '08_test.tif',\n",
       " '09_test.tif',\n",
       " '10_test.tif',\n",
       " '11_test.tif',\n",
       " '12_test.tif',\n",
       " '13_test.tif',\n",
       " '14_test.tif',\n",
       " '15_test.tif',\n",
       " '16_test.tif',\n",
       " '17_test.tif',\n",
       " '18_test.tif',\n",
       " '19_test.tif',\n",
       " '20_test.tif']"
      ]
     },
     "execution_count": 16,
     "metadata": {},
     "output_type": "execute_result"
    }
   ],
   "source": [
    "test_ids"
   ]
  },
  {
   "cell_type": "code",
   "execution_count": 18,
   "metadata": {},
   "outputs": [],
   "source": [
    "from tqdm import tqdm"
   ]
  },
  {
   "cell_type": "code",
   "execution_count": 19,
   "metadata": {},
   "outputs": [
    {
     "name": "stderr",
     "output_type": "stream",
     "text": [
      "\r",
      "  0%|          | 0/20 [00:00<?, ?it/s]"
     ]
    },
    {
     "name": "stdout",
     "output_type": "stream",
     "text": [
      "D:\\Data sets\\DRIVE\\test\\images\\01_test.tif\n"
     ]
    },
    {
     "name": "stderr",
     "output_type": "stream",
     "text": [
      "  0%|          | 0/20 [00:06<?, ?it/s]\n"
     ]
    },
    {
     "ename": "NameError",
     "evalue": "name 'xg_cl' is not defined",
     "output_type": "error",
     "traceback": [
      "\u001b[1;31m---------------------------------------------------------------------------\u001b[0m",
      "\u001b[1;31mNameError\u001b[0m                                 Traceback (most recent call last)",
      "\u001b[1;32m<ipython-input-19-022cdffe5912>\u001b[0m in \u001b[0;36m<module>\u001b[1;34m\u001b[0m\n\u001b[0;32m     27\u001b[0m     \u001b[0mx\u001b[0m \u001b[1;33m=\u001b[0m \u001b[0mtdf\u001b[0m\u001b[1;33m.\u001b[0m\u001b[0mdrop\u001b[0m\u001b[1;33m(\u001b[0m\u001b[0mlabels\u001b[0m \u001b[1;33m=\u001b[0m \u001b[1;33m[\u001b[0m\u001b[1;34m\"Image_Name\"\u001b[0m\u001b[1;33m]\u001b[0m\u001b[1;33m,\u001b[0m \u001b[0maxis\u001b[0m\u001b[1;33m=\u001b[0m\u001b[1;36m1\u001b[0m\u001b[1;33m)\u001b[0m\u001b[1;33m\u001b[0m\u001b[1;33m\u001b[0m\u001b[0m\n\u001b[0;32m     28\u001b[0m \u001b[1;33m\u001b[0m\u001b[0m\n\u001b[1;32m---> 29\u001b[1;33m     \u001b[0mprediction_test\u001b[0m \u001b[1;33m=\u001b[0m \u001b[0mxg_cl\u001b[0m\u001b[1;33m.\u001b[0m\u001b[0mpredict\u001b[0m\u001b[1;33m(\u001b[0m\u001b[0mx\u001b[0m\u001b[1;33m)\u001b[0m\u001b[1;33m\u001b[0m\u001b[1;33m\u001b[0m\u001b[0m\n\u001b[0m\u001b[0;32m     30\u001b[0m     \u001b[0mresult\u001b[0m \u001b[1;33m=\u001b[0m \u001b[0mprediction_test\u001b[0m\u001b[1;33m.\u001b[0m\u001b[0mreshape\u001b[0m\u001b[1;33m(\u001b[0m\u001b[1;33m(\u001b[0m\u001b[1;36m584\u001b[0m\u001b[1;33m,\u001b[0m \u001b[1;36m565\u001b[0m\u001b[1;33m)\u001b[0m\u001b[1;33m)\u001b[0m\u001b[1;33m\u001b[0m\u001b[1;33m\u001b[0m\u001b[0m\n\u001b[0;32m     31\u001b[0m \u001b[1;33m\u001b[0m\u001b[0m\n",
      "\u001b[1;31mNameError\u001b[0m: name 'xg_cl' is not defined"
     ]
    }
   ],
   "source": [
    "for _id in tqdm(range(len(test_ids))):\n",
    "    \n",
    "    image = test_ids[_id]\n",
    "\n",
    "    tdf = pd.DataFrame()  #Temporary data frame for each Image\n",
    "\n",
    "    path = test_path + \"\\\\images\\\\\" + image\n",
    "    print(path)\n",
    "\n",
    "    img = cv2.imread(path)\n",
    "    img_rgb = cv2.cvtColor(img, cv2.COLOR_BGR2RGB)\n",
    "    img = img[:,:,1]\n",
    "\n",
    "#     plt.imshow(img ,cmap = \"gray\")\n",
    "\n",
    "    tdf,img2 = originalImg(img,tdf)\n",
    "    tdf['Image_Name'] = image\n",
    "    tdf = gaborFilter(img2,tdf)\n",
    "\n",
    "    tdf = cannyEdge(tdf,img)\n",
    "\n",
    "    tdf = the4edgeDetectors(tdf,img)\n",
    "\n",
    "    tdf = gmv(tdf,img)\n",
    "\n",
    "    \n",
    "    x = tdf.drop(labels = [\"Image_Name\"], axis=1)\n",
    "    \n",
    "    prediction_test = xg_cl.predict(x)\n",
    "    result = prediction_test.reshape((584, 565))\n",
    "\n",
    "\n",
    "    \n",
    "    fig, axes = plt.subplots(1, 3, figsize=(20, 20))\n",
    "    ax = axes.ravel()\n",
    "    ax[0].set_title(\"Original Image\")\n",
    "    ax[0].imshow(img_rgb, cmap = 'gray')\n",
    "    ax[1].set_title(\"Green Channel\")\n",
    "    ax[1].imshow(img, cmap = 'gray')\n",
    "    ax[2].set_title(\"Result\")\n",
    "    ax[2].imshow(result, cmap = 'gray')\n",
    "\n",
    "    filename = str(_id + 1) + \".png\"\n",
    "#     cv2.imwrite(filename, result)\n",
    "\n",
    "\n",
    "    plt.show()"
   ]
  },
  {
   "cell_type": "code",
   "execution_count": null,
   "metadata": {},
   "outputs": [],
   "source": []
  }
 ],
 "metadata": {
  "kernelspec": {
   "display_name": "Python 3",
   "language": "python",
   "name": "python3"
  },
  "language_info": {
   "codemirror_mode": {
    "name": "ipython",
    "version": 3
   },
   "file_extension": ".py",
   "mimetype": "text/x-python",
   "name": "python",
   "nbconvert_exporter": "python",
   "pygments_lexer": "ipython3",
   "version": "3.8.2"
  },
  "toc": {
   "base_numbering": 1,
   "nav_menu": {},
   "number_sections": true,
   "sideBar": true,
   "skip_h1_title": false,
   "title_cell": "Table of Contents",
   "title_sidebar": "Contents",
   "toc_cell": false,
   "toc_position": {},
   "toc_section_display": true,
   "toc_window_display": false
  },
  "varInspector": {
   "cols": {
    "lenName": 16,
    "lenType": 16,
    "lenVar": 40
   },
   "kernels_config": {
    "python": {
     "delete_cmd_postfix": "",
     "delete_cmd_prefix": "del ",
     "library": "var_list.py",
     "varRefreshCmd": "print(var_dic_list())"
    },
    "r": {
     "delete_cmd_postfix": ") ",
     "delete_cmd_prefix": "rm(",
     "library": "var_list.r",
     "varRefreshCmd": "cat(var_dic_list()) "
    }
   },
   "types_to_exclude": [
    "module",
    "function",
    "builtin_function_or_method",
    "instance",
    "_Feature"
   ],
   "window_display": false
  }
 },
 "nbformat": 4,
 "nbformat_minor": 4
}
