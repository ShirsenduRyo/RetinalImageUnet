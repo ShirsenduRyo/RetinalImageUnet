{
 "cells": [
  {
   "cell_type": "markdown",
   "id": "521fea21",
   "metadata": {},
   "source": [
    "# Importing Packages"
   ]
  },
  {
   "cell_type": "code",
   "execution_count": 1,
   "id": "404eb11e",
   "metadata": {},
   "outputs": [],
   "source": [
    "import os\n",
    "import numpy as np\n",
    "import pandas as pd\n",
    "import cv2\n",
    "from glob import glob\n",
    "from tqdm import tqdm\n",
    "import tensorflow as tf\n",
    "from tensorflow.keras.utils import CustomObjectScope"
   ]
  },
  {
   "cell_type": "code",
   "execution_count": 2,
   "id": "9ee23901",
   "metadata": {},
   "outputs": [],
   "source": [
    "from sklearn.metrics import accuracy_score, f1_score, jaccard_score, precision_score, recall_score\n",
    "from customMetrics import dice_loss, dice_coef, iou"
   ]
  },
  {
   "cell_type": "code",
   "execution_count": 16,
   "id": "331d6ac0",
   "metadata": {},
   "outputs": [],
   "source": [
    "from sklearn.metrics import confusion_matrix"
   ]
  },
  {
   "cell_type": "code",
   "execution_count": 3,
   "id": "fa3186ba",
   "metadata": {},
   "outputs": [],
   "source": [
    "physical_devices = tf.config.experimental.list_physical_devices('GPU')\n",
    "tf.config.experimental.set_memory_growth(physical_devices[0], True)"
   ]
  },
  {
   "cell_type": "markdown",
   "id": "eeda0519",
   "metadata": {},
   "source": [
    "# Loading Utils Functions"
   ]
  },
  {
   "cell_type": "code",
   "execution_count": 4,
   "id": "5a4caa1b",
   "metadata": {},
   "outputs": [],
   "source": [
    "def create_dir(path):\n",
    "    if not os.path.exists(path):\n",
    "        os.makedirs(path)"
   ]
  },
  {
   "cell_type": "code",
   "execution_count": 5,
   "id": "3f6d5485",
   "metadata": {},
   "outputs": [],
   "source": [
    "def read_image(path):\n",
    "    x = cv2.imread(path, cv2.IMREAD_COLOR)\n",
    "    # x = cv2.resize(x, (W, H))\n",
    "    ori_x = x\n",
    "    x = x/255.0\n",
    "    x = x.astype(np.float32)\n",
    "    return ori_x, x"
   ]
  },
  {
   "cell_type": "code",
   "execution_count": 6,
   "id": "3a84cf2c",
   "metadata": {},
   "outputs": [],
   "source": [
    "def read_mask(path):\n",
    "    x = cv2.imread(path, cv2.IMREAD_GRAYSCALE)  ## (512, 512)\n",
    "    # x = cv2.resize(x, (W, H))\n",
    "    ori_x = x\n",
    "    x = x/255.0\n",
    "    x = x.astype(np.int32)\n",
    "    return ori_x, x"
   ]
  },
  {
   "cell_type": "code",
   "execution_count": 7,
   "id": "15bcbd79",
   "metadata": {},
   "outputs": [],
   "source": [
    "def load_data(path):\n",
    "    x = sorted(glob(os.path.join(path, \"image\", \"*.jpg\")))\n",
    "    y = sorted(glob(os.path.join(path, \"mask\", \"*.jpg\")))\n",
    "    return x, y"
   ]
  },
  {
   "cell_type": "code",
   "execution_count": 8,
   "id": "8e19da5a",
   "metadata": {},
   "outputs": [],
   "source": [
    "def save_results(ori_x, ori_y, y_pred, save_image_path):\n",
    "    line = np.ones((H, 10, 3)) * 255\n",
    "\n",
    "    ori_y = np.expand_dims(ori_y, axis=-1)\n",
    "    ori_y = np.concatenate([ori_y, ori_y, ori_y], axis=-1)\n",
    "\n",
    "    y_pred = np.expand_dims(y_pred, axis=-1)\n",
    "    y_pred = np.concatenate([y_pred, y_pred, y_pred], axis=-1) * 255\n",
    "\n",
    "    cat_images = np.concatenate([ori_x, line, ori_y, line, y_pred], axis=1)\n",
    "    cv2.imwrite(save_image_path, cat_images)"
   ]
  },
  {
   "cell_type": "code",
   "execution_count": 15,
   "id": "045eeaed",
   "metadata": {},
   "outputs": [],
   "source": [
    "def get_metrics(cm):\n",
    "    tn, fp, fn, tp = cm.ravel()\n",
    "    sen = tp/(tp+fn)\n",
    "    spe = tn/(tn+fp) \n",
    "    acc = (tp + tn)/(tp + tn + fp +fn)\n",
    "    return sen, spe , acc"
   ]
  },
  {
   "cell_type": "code",
   "execution_count": null,
   "id": "4cd9f2f2",
   "metadata": {},
   "outputs": [],
   "source": []
  },
  {
   "cell_type": "markdown",
   "id": "118bb22d",
   "metadata": {},
   "source": [
    "# Setting The Environment"
   ]
  },
  {
   "cell_type": "code",
   "execution_count": 9,
   "id": "fb45d95b",
   "metadata": {},
   "outputs": [],
   "source": [
    "H = 512\n",
    "W = 512"
   ]
  },
  {
   "cell_type": "code",
   "execution_count": 10,
   "id": "ebcfd7c6",
   "metadata": {},
   "outputs": [],
   "source": [
    "\"\"\" Save the results in this folder \"\"\"\n",
    "create_dir(\"results\")"
   ]
  },
  {
   "cell_type": "code",
   "execution_count": 11,
   "id": "41107a54",
   "metadata": {},
   "outputs": [],
   "source": [
    "\"\"\" Load the model \"\"\"\n",
    "with CustomObjectScope({'iou': iou, 'dice_coef': dice_coef, 'dice_loss': dice_loss}):\n",
    "    model = tf.keras.models.load_model(\"files/model.h5\")\n"
   ]
  },
  {
   "cell_type": "code",
   "execution_count": 12,
   "id": "c592aedd",
   "metadata": {},
   "outputs": [],
   "source": [
    "\"\"\" Load the dataset \"\"\"\n",
    "dataset_path = os.path.join(\"new_data\", \"test\")\n",
    "test_x, test_y = load_data(dataset_path)"
   ]
  },
  {
   "cell_type": "code",
   "execution_count": null,
   "id": "ef19968b",
   "metadata": {},
   "outputs": [],
   "source": []
  },
  {
   "cell_type": "code",
   "execution_count": 18,
   "id": "423673a7",
   "metadata": {},
   "outputs": [
    {
     "name": "stderr",
     "output_type": "stream",
     "text": [
      "\r",
      "  0%|          | 0/20 [00:00<?, ?it/s]"
     ]
    },
    {
     "name": "stdout",
     "output_type": "stream",
     "text": [
      "01_test\n",
      "results\\01_test.png\n"
     ]
    },
    {
     "name": "stderr",
     "output_type": "stream",
     "text": [
      "\r",
      "  5%|▌         | 1/20 [00:00<00:14,  1.30it/s]"
     ]
    },
    {
     "name": "stdout",
     "output_type": "stream",
     "text": [
      "[[237855  15492]\n",
      " [   777   8020]]\n",
      "02_test\n",
      "results\\02_test.png\n"
     ]
    },
    {
     "name": "stderr",
     "output_type": "stream",
     "text": [
      "\r",
      " 10%|█         | 2/20 [00:01<00:12,  1.40it/s]"
     ]
    },
    {
     "name": "stdout",
     "output_type": "stream",
     "text": [
      "[[236890  14235]\n",
      " [   743  10276]]\n",
      "03_test\n",
      "results\\03_test.png\n"
     ]
    },
    {
     "name": "stderr",
     "output_type": "stream",
     "text": [
      "\r",
      " 15%|█▌        | 3/20 [00:02<00:11,  1.45it/s]"
     ]
    },
    {
     "name": "stdout",
     "output_type": "stream",
     "text": [
      "[[248078   3270]\n",
      " [  6527   4269]]\n",
      "04_test\n",
      "results\\04_test.png\n"
     ]
    },
    {
     "name": "stderr",
     "output_type": "stream",
     "text": [
      "\r",
      " 20%|██        | 4/20 [00:02<00:10,  1.50it/s]"
     ]
    },
    {
     "name": "stdout",
     "output_type": "stream",
     "text": [
      "[[239744  12636]\n",
      " [   732   9032]]\n",
      "05_test\n",
      "results\\05_test.png\n"
     ]
    },
    {
     "name": "stderr",
     "output_type": "stream",
     "text": [
      "\r",
      " 25%|██▌       | 5/20 [00:03<00:09,  1.52it/s]"
     ]
    },
    {
     "name": "stdout",
     "output_type": "stream",
     "text": [
      "[[243915   8799]\n",
      " [  1497   7933]]\n",
      "06_test\n",
      "results\\06_test.png\n"
     ]
    },
    {
     "name": "stderr",
     "output_type": "stream",
     "text": [
      "\r",
      " 30%|███       | 6/20 [00:04<00:09,  1.52it/s]"
     ]
    },
    {
     "name": "stdout",
     "output_type": "stream",
     "text": [
      "[[241953  10552]\n",
      " [  1458   8181]]\n",
      "07_test\n",
      "results\\07_test.png\n"
     ]
    },
    {
     "name": "stderr",
     "output_type": "stream",
     "text": [
      "\r",
      " 35%|███▌      | 7/20 [00:04<00:08,  1.53it/s]"
     ]
    },
    {
     "name": "stdout",
     "output_type": "stream",
     "text": [
      "[[239542  13347]\n",
      " [   906   8349]]\n",
      "08_test\n",
      "results\\08_test.png\n"
     ]
    },
    {
     "name": "stderr",
     "output_type": "stream",
     "text": [
      "\r",
      " 40%|████      | 8/20 [00:05<00:07,  1.54it/s]"
     ]
    },
    {
     "name": "stdout",
     "output_type": "stream",
     "text": [
      "[[242164  11141]\n",
      " [  1297   7542]]\n",
      "09_test\n",
      "results\\09_test.png\n"
     ]
    },
    {
     "name": "stderr",
     "output_type": "stream",
     "text": [
      "\r",
      " 45%|████▌     | 9/20 [00:05<00:07,  1.54it/s]"
     ]
    },
    {
     "name": "stdout",
     "output_type": "stream",
     "text": [
      "[[244691   9593]\n",
      " [  1205   6655]]\n",
      "10_test\n",
      "results\\10_test.png\n"
     ]
    },
    {
     "name": "stderr",
     "output_type": "stream",
     "text": [
      "\r",
      " 50%|█████     | 10/20 [00:06<00:06,  1.55it/s]"
     ]
    },
    {
     "name": "stdout",
     "output_type": "stream",
     "text": [
      "[[241289  12771]\n",
      " [   586   7498]]\n",
      "11_test\n",
      "results\\11_test.png\n"
     ]
    },
    {
     "name": "stderr",
     "output_type": "stream",
     "text": [
      "\r",
      " 55%|█████▌    | 11/20 [00:07<00:05,  1.55it/s]"
     ]
    },
    {
     "name": "stdout",
     "output_type": "stream",
     "text": [
      "[[238078  15556]\n",
      " [   393   8117]]\n",
      "12_test\n",
      "results\\12_test.png\n"
     ]
    },
    {
     "name": "stderr",
     "output_type": "stream",
     "text": [
      "\r",
      " 60%|██████    | 12/20 [00:07<00:05,  1.54it/s]"
     ]
    },
    {
     "name": "stdout",
     "output_type": "stream",
     "text": [
      "[[239815  13590]\n",
      " [   708   8031]]\n",
      "13_test\n",
      "results\\13_test.png\n"
     ]
    },
    {
     "name": "stderr",
     "output_type": "stream",
     "text": [
      "\r",
      " 65%|██████▌   | 13/20 [00:08<00:04,  1.54it/s]"
     ]
    },
    {
     "name": "stdout",
     "output_type": "stream",
     "text": [
      "[[238098  14237]\n",
      " [   697   9112]]\n",
      "14_test\n",
      "results\\14_test.png\n"
     ]
    },
    {
     "name": "stderr",
     "output_type": "stream",
     "text": [
      "\r",
      " 70%|███████   | 14/20 [00:09<00:03,  1.53it/s]"
     ]
    },
    {
     "name": "stdout",
     "output_type": "stream",
     "text": [
      "[[240670  13481]\n",
      " [   491   7502]]\n",
      "15_test\n",
      "results\\15_test.png\n"
     ]
    },
    {
     "name": "stderr",
     "output_type": "stream",
     "text": [
      "\r",
      " 75%|███████▌  | 15/20 [00:09<00:03,  1.54it/s]"
     ]
    },
    {
     "name": "stdout",
     "output_type": "stream",
     "text": [
      "[[245915   9251]\n",
      " [   985   5993]]\n",
      "16_test\n",
      "results\\16_test.png\n"
     ]
    },
    {
     "name": "stderr",
     "output_type": "stream",
     "text": [
      "\r",
      " 80%|████████  | 16/20 [00:10<00:02,  1.55it/s]"
     ]
    },
    {
     "name": "stdout",
     "output_type": "stream",
     "text": [
      "[[239585  13440]\n",
      " [   888   8231]]\n",
      "17_test\n",
      "results\\17_test.png\n"
     ]
    },
    {
     "name": "stderr",
     "output_type": "stream",
     "text": [
      "\r",
      " 85%|████████▌ | 17/20 [00:11<00:01,  1.55it/s]"
     ]
    },
    {
     "name": "stdout",
     "output_type": "stream",
     "text": [
      "[[242928  10560]\n",
      " [  1720   6936]]\n",
      "18_test\n",
      "results\\18_test.png\n"
     ]
    },
    {
     "name": "stderr",
     "output_type": "stream",
     "text": [
      "\r",
      " 90%|█████████ | 18/20 [00:11<00:01,  1.47it/s]"
     ]
    },
    {
     "name": "stdout",
     "output_type": "stream",
     "text": [
      "[[239363  14680]\n",
      " [   634   7467]]\n",
      "19_test\n",
      "results\\19_test.png\n"
     ]
    },
    {
     "name": "stderr",
     "output_type": "stream",
     "text": [
      "\r",
      " 95%|█████████▌| 19/20 [00:12<00:00,  1.51it/s]"
     ]
    },
    {
     "name": "stdout",
     "output_type": "stream",
     "text": [
      "[[237195  17013]\n",
      " [   322   7614]]\n",
      "20_test\n",
      "results\\20_test.png\n"
     ]
    },
    {
     "name": "stderr",
     "output_type": "stream",
     "text": [
      "100%|██████████| 20/20 [00:13<00:00,  1.52it/s]"
     ]
    },
    {
     "name": "stdout",
     "output_type": "stream",
     "text": [
      "[[239997  14935]\n",
      " [   455   6757]]\n"
     ]
    },
    {
     "name": "stderr",
     "output_type": "stream",
     "text": [
      "\n"
     ]
    }
   ],
   "source": [
    "\"\"\" Make the prediction and calculate the metrics values \"\"\"\n",
    "SCORE = []\n",
    "for x, y in tqdm(zip(test_x, test_y), total=len(test_x)):\n",
    "    \"\"\" Extracting name \"\"\"\n",
    "    name = x.split(\"\\\\\")[-1].split(\".\")[0]\n",
    "    print(name)\n",
    "    \"\"\" Read the image and mask \"\"\"\n",
    "    ori_x, x = read_image(x)\n",
    "    ori_y, y = read_mask(y)\n",
    "\n",
    "    \"\"\" Prediction \"\"\"\n",
    "    y_pred = model.predict(np.expand_dims(x, axis=0))[0]\n",
    "    y_pred = y_pred > 0.5\n",
    "    y_pred = y_pred.astype(np.int32)\n",
    "    y_pred = np.squeeze(y_pred, axis=-1)\n",
    "\n",
    "    \"\"\" Saving the images \"\"\"\n",
    "    save_image_path = f\"results\\\\{name}.png\"\n",
    "    print(save_image_path)\n",
    "    save_results(ori_x, ori_y, y_pred, save_image_path)\n",
    "\n",
    "    \"\"\" Flatten the array \"\"\"\n",
    "    y = y.flatten()\n",
    "    y_pred = y_pred.flatten()\n",
    "\n",
    "    \"\"\" Calculate the metrics \"\"\"\n",
    "    acc_value = accuracy_score(y, y_pred)\n",
    "    f1_value = f1_score(y, y_pred, labels=[0, 1], average=\"binary\")\n",
    "    jac_value = jaccard_score(y, y_pred, labels=[0, 1], average=\"binary\")\n",
    "    recall_value = recall_score(y, y_pred, labels=[0, 1], average=\"binary\")\n",
    "    precision_value = precision_score(y, y_pred, labels=[0, 1], average=\"binary\")\n",
    "    SCORE.append([name, acc_value, f1_value, jac_value, recall_value, precision_value])\n",
    "    \n",
    "    print(confusion_matrix(y, y_pred))"
   ]
  },
  {
   "cell_type": "code",
   "execution_count": null,
   "id": "bc000ae3",
   "metadata": {
    "scrolled": true
   },
   "outputs": [],
   "source": [
    "SCORE"
   ]
  },
  {
   "cell_type": "code",
   "execution_count": 17,
   "id": "45ffad02",
   "metadata": {},
   "outputs": [
    {
     "name": "stdout",
     "output_type": "stream",
     "text": [
      "Accuracy: 0.94820\n",
      "F1: 0.53006\n",
      "Jaccard: 0.36151\n",
      "Recall: 0.87527\n",
      "Precision: 0.39058\n"
     ]
    }
   ],
   "source": [
    "score = [s[1:] for s in SCORE]\n",
    "score = np.mean(score, axis=0)\n",
    "print(f\"Accuracy: {score[0]:0.5f}\")\n",
    "print(f\"F1: {score[1]:0.5f}\")\n",
    "print(f\"Jaccard: {score[2]:0.5f}\")\n",
    "print(f\"Recall: {score[3]:0.5f}\")\n",
    "print(f\"Precision: {score[4]:0.5f}\")\n",
    "\n"
   ]
  },
  {
   "cell_type": "code",
   "execution_count": 18,
   "id": "155a3b17",
   "metadata": {},
   "outputs": [
    {
     "data": {
      "text/html": [
       "<div>\n",
       "<style scoped>\n",
       "    .dataframe tbody tr th:only-of-type {\n",
       "        vertical-align: middle;\n",
       "    }\n",
       "\n",
       "    .dataframe tbody tr th {\n",
       "        vertical-align: top;\n",
       "    }\n",
       "\n",
       "    .dataframe thead th {\n",
       "        text-align: right;\n",
       "    }\n",
       "</style>\n",
       "<table border=\"1\" class=\"dataframe\">\n",
       "  <thead>\n",
       "    <tr style=\"text-align: right;\">\n",
       "      <th></th>\n",
       "      <th>Image</th>\n",
       "      <th>Acc</th>\n",
       "      <th>F1</th>\n",
       "      <th>Jaccard</th>\n",
       "      <th>Recall</th>\n",
       "      <th>Precision</th>\n",
       "    </tr>\n",
       "  </thead>\n",
       "  <tbody>\n",
       "    <tr>\n",
       "      <th>0</th>\n",
       "      <td>new_data\\test\\image\\01_test</td>\n",
       "      <td>0.937939</td>\n",
       "      <td>0.496456</td>\n",
       "      <td>0.330191</td>\n",
       "      <td>0.911674</td>\n",
       "      <td>0.341102</td>\n",
       "    </tr>\n",
       "    <tr>\n",
       "      <th>1</th>\n",
       "      <td>new_data\\test\\image\\02_test</td>\n",
       "      <td>0.942863</td>\n",
       "      <td>0.578441</td>\n",
       "      <td>0.406906</td>\n",
       "      <td>0.932571</td>\n",
       "      <td>0.419240</td>\n",
       "    </tr>\n",
       "    <tr>\n",
       "      <th>2</th>\n",
       "      <td>new_data\\test\\image\\03_test</td>\n",
       "      <td>0.962627</td>\n",
       "      <td>0.465667</td>\n",
       "      <td>0.303498</td>\n",
       "      <td>0.395424</td>\n",
       "      <td>0.566255</td>\n",
       "    </tr>\n",
       "    <tr>\n",
       "      <th>3</th>\n",
       "      <td>new_data\\test\\image\\04_test</td>\n",
       "      <td>0.949005</td>\n",
       "      <td>0.574701</td>\n",
       "      <td>0.403214</td>\n",
       "      <td>0.925031</td>\n",
       "      <td>0.416836</td>\n",
       "    </tr>\n",
       "    <tr>\n",
       "      <th>4</th>\n",
       "      <td>new_data\\test\\image\\05_test</td>\n",
       "      <td>0.960724</td>\n",
       "      <td>0.606452</td>\n",
       "      <td>0.435186</td>\n",
       "      <td>0.841251</td>\n",
       "      <td>0.474121</td>\n",
       "    </tr>\n",
       "    <tr>\n",
       "      <th>5</th>\n",
       "      <td>new_data\\test\\image\\06_test</td>\n",
       "      <td>0.954185</td>\n",
       "      <td>0.576695</td>\n",
       "      <td>0.405181</td>\n",
       "      <td>0.848739</td>\n",
       "      <td>0.436716</td>\n",
       "    </tr>\n",
       "    <tr>\n",
       "      <th>6</th>\n",
       "      <td>new_data\\test\\image\\07_test</td>\n",
       "      <td>0.945629</td>\n",
       "      <td>0.539498</td>\n",
       "      <td>0.369392</td>\n",
       "      <td>0.902107</td>\n",
       "      <td>0.384817</td>\n",
       "    </tr>\n",
       "    <tr>\n",
       "      <th>7</th>\n",
       "      <td>new_data\\test\\image\\08_test</td>\n",
       "      <td>0.952553</td>\n",
       "      <td>0.548071</td>\n",
       "      <td>0.377477</td>\n",
       "      <td>0.853264</td>\n",
       "      <td>0.403682</td>\n",
       "    </tr>\n",
       "    <tr>\n",
       "      <th>8</th>\n",
       "      <td>new_data\\test\\image\\09_test</td>\n",
       "      <td>0.958809</td>\n",
       "      <td>0.552099</td>\n",
       "      <td>0.381310</td>\n",
       "      <td>0.846692</td>\n",
       "      <td>0.409589</td>\n",
       "    </tr>\n",
       "    <tr>\n",
       "      <th>9</th>\n",
       "      <td>new_data\\test\\image\\10_test</td>\n",
       "      <td>0.949047</td>\n",
       "      <td>0.528903</td>\n",
       "      <td>0.359530</td>\n",
       "      <td>0.927511</td>\n",
       "      <td>0.369925</td>\n",
       "    </tr>\n",
       "    <tr>\n",
       "      <th>10</th>\n",
       "      <td>new_data\\test\\image\\11_test</td>\n",
       "      <td>0.939159</td>\n",
       "      <td>0.504428</td>\n",
       "      <td>0.337281</td>\n",
       "      <td>0.953819</td>\n",
       "      <td>0.342880</td>\n",
       "    </tr>\n",
       "    <tr>\n",
       "      <th>11</th>\n",
       "      <td>new_data\\test\\image\\12_test</td>\n",
       "      <td>0.945457</td>\n",
       "      <td>0.529051</td>\n",
       "      <td>0.359667</td>\n",
       "      <td>0.918984</td>\n",
       "      <td>0.371444</td>\n",
       "    </tr>\n",
       "    <tr>\n",
       "      <th>12</th>\n",
       "      <td>new_data\\test\\image\\13_test</td>\n",
       "      <td>0.943031</td>\n",
       "      <td>0.549611</td>\n",
       "      <td>0.378940</td>\n",
       "      <td>0.928943</td>\n",
       "      <td>0.390252</td>\n",
       "    </tr>\n",
       "    <tr>\n",
       "      <th>13</th>\n",
       "      <td>new_data\\test\\image\\14_test</td>\n",
       "      <td>0.946701</td>\n",
       "      <td>0.517808</td>\n",
       "      <td>0.349353</td>\n",
       "      <td>0.938571</td>\n",
       "      <td>0.357528</td>\n",
       "    </tr>\n",
       "    <tr>\n",
       "      <th>14</th>\n",
       "      <td>new_data\\test\\image\\15_test</td>\n",
       "      <td>0.960953</td>\n",
       "      <td>0.539375</td>\n",
       "      <td>0.369277</td>\n",
       "      <td>0.858842</td>\n",
       "      <td>0.393138</td>\n",
       "    </tr>\n",
       "    <tr>\n",
       "      <th>15</th>\n",
       "      <td>new_data\\test\\image\\16_test</td>\n",
       "      <td>0.945343</td>\n",
       "      <td>0.534654</td>\n",
       "      <td>0.364865</td>\n",
       "      <td>0.902621</td>\n",
       "      <td>0.379816</td>\n",
       "    </tr>\n",
       "    <tr>\n",
       "      <th>16</th>\n",
       "      <td>new_data\\test\\image\\17_test</td>\n",
       "      <td>0.953156</td>\n",
       "      <td>0.530437</td>\n",
       "      <td>0.360949</td>\n",
       "      <td>0.801294</td>\n",
       "      <td>0.396433</td>\n",
       "    </tr>\n",
       "    <tr>\n",
       "      <th>17</th>\n",
       "      <td>new_data\\test\\image\\18_test</td>\n",
       "      <td>0.941582</td>\n",
       "      <td>0.493719</td>\n",
       "      <td>0.327773</td>\n",
       "      <td>0.921738</td>\n",
       "      <td>0.337156</td>\n",
       "    </tr>\n",
       "    <tr>\n",
       "      <th>18</th>\n",
       "      <td>new_data\\test\\image\\19_test</td>\n",
       "      <td>0.933872</td>\n",
       "      <td>0.467647</td>\n",
       "      <td>0.305183</td>\n",
       "      <td>0.959425</td>\n",
       "      <td>0.309173</td>\n",
       "    </tr>\n",
       "    <tr>\n",
       "      <th>19</th>\n",
       "      <td>new_data\\test\\image\\20_test</td>\n",
       "      <td>0.941292</td>\n",
       "      <td>0.467548</td>\n",
       "      <td>0.305098</td>\n",
       "      <td>0.936911</td>\n",
       "      <td>0.311497</td>\n",
       "    </tr>\n",
       "  </tbody>\n",
       "</table>\n",
       "</div>"
      ],
      "text/plain": [
       "                          Image       Acc        F1   Jaccard    Recall  \\\n",
       "0   new_data\\test\\image\\01_test  0.937939  0.496456  0.330191  0.911674   \n",
       "1   new_data\\test\\image\\02_test  0.942863  0.578441  0.406906  0.932571   \n",
       "2   new_data\\test\\image\\03_test  0.962627  0.465667  0.303498  0.395424   \n",
       "3   new_data\\test\\image\\04_test  0.949005  0.574701  0.403214  0.925031   \n",
       "4   new_data\\test\\image\\05_test  0.960724  0.606452  0.435186  0.841251   \n",
       "5   new_data\\test\\image\\06_test  0.954185  0.576695  0.405181  0.848739   \n",
       "6   new_data\\test\\image\\07_test  0.945629  0.539498  0.369392  0.902107   \n",
       "7   new_data\\test\\image\\08_test  0.952553  0.548071  0.377477  0.853264   \n",
       "8   new_data\\test\\image\\09_test  0.958809  0.552099  0.381310  0.846692   \n",
       "9   new_data\\test\\image\\10_test  0.949047  0.528903  0.359530  0.927511   \n",
       "10  new_data\\test\\image\\11_test  0.939159  0.504428  0.337281  0.953819   \n",
       "11  new_data\\test\\image\\12_test  0.945457  0.529051  0.359667  0.918984   \n",
       "12  new_data\\test\\image\\13_test  0.943031  0.549611  0.378940  0.928943   \n",
       "13  new_data\\test\\image\\14_test  0.946701  0.517808  0.349353  0.938571   \n",
       "14  new_data\\test\\image\\15_test  0.960953  0.539375  0.369277  0.858842   \n",
       "15  new_data\\test\\image\\16_test  0.945343  0.534654  0.364865  0.902621   \n",
       "16  new_data\\test\\image\\17_test  0.953156  0.530437  0.360949  0.801294   \n",
       "17  new_data\\test\\image\\18_test  0.941582  0.493719  0.327773  0.921738   \n",
       "18  new_data\\test\\image\\19_test  0.933872  0.467647  0.305183  0.959425   \n",
       "19  new_data\\test\\image\\20_test  0.941292  0.467548  0.305098  0.936911   \n",
       "\n",
       "    Precision  \n",
       "0    0.341102  \n",
       "1    0.419240  \n",
       "2    0.566255  \n",
       "3    0.416836  \n",
       "4    0.474121  \n",
       "5    0.436716  \n",
       "6    0.384817  \n",
       "7    0.403682  \n",
       "8    0.409589  \n",
       "9    0.369925  \n",
       "10   0.342880  \n",
       "11   0.371444  \n",
       "12   0.390252  \n",
       "13   0.357528  \n",
       "14   0.393138  \n",
       "15   0.379816  \n",
       "16   0.396433  \n",
       "17   0.337156  \n",
       "18   0.309173  \n",
       "19   0.311497  "
      ]
     },
     "execution_count": 18,
     "metadata": {},
     "output_type": "execute_result"
    }
   ],
   "source": [
    "\"\"\" Saving \"\"\"\n",
    "df = pd.DataFrame(SCORE, columns=[\"Image\", \"Acc\", \"F1\", \"Jaccard\", \"Recall\", \"Precision\"])\n",
    "df"
   ]
  },
  {
   "cell_type": "code",
   "execution_count": 19,
   "id": "17ce8456",
   "metadata": {},
   "outputs": [],
   "source": [
    "df.to_csv(\"files/score.csv\")\n"
   ]
  },
  {
   "cell_type": "code",
   "execution_count": null,
   "id": "a3467a3f",
   "metadata": {},
   "outputs": [],
   "source": []
  }
 ],
 "metadata": {
  "kernelspec": {
   "display_name": "Python 3 (vanilla)",
   "language": "python",
   "name": "vanilla"
  },
  "language_info": {
   "codemirror_mode": {
    "name": "ipython",
    "version": 3
   },
   "file_extension": ".py",
   "mimetype": "text/x-python",
   "name": "python",
   "nbconvert_exporter": "python",
   "pygments_lexer": "ipython3",
   "version": "3.9.5"
  },
  "toc": {
   "base_numbering": 1,
   "nav_menu": {},
   "number_sections": true,
   "sideBar": true,
   "skip_h1_title": false,
   "title_cell": "Table of Contents",
   "title_sidebar": "Contents",
   "toc_cell": false,
   "toc_position": {},
   "toc_section_display": true,
   "toc_window_display": false
  },
  "varInspector": {
   "cols": {
    "lenName": 16,
    "lenType": 16,
    "lenVar": 40
   },
   "kernels_config": {
    "python": {
     "delete_cmd_postfix": "",
     "delete_cmd_prefix": "del ",
     "library": "var_list.py",
     "varRefreshCmd": "print(var_dic_list())"
    },
    "r": {
     "delete_cmd_postfix": ") ",
     "delete_cmd_prefix": "rm(",
     "library": "var_list.r",
     "varRefreshCmd": "cat(var_dic_list()) "
    }
   },
   "types_to_exclude": [
    "module",
    "function",
    "builtin_function_or_method",
    "instance",
    "_Feature"
   ],
   "window_display": false
  }
 },
 "nbformat": 4,
 "nbformat_minor": 5
}
