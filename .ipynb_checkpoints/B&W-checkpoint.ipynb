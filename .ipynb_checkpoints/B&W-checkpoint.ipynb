{
 "cells": [
  {
   "cell_type": "code",
   "execution_count": 1,
   "id": "854db449",
   "metadata": {},
   "outputs": [],
   "source": [
    "import os"
   ]
  },
  {
   "cell_type": "code",
   "execution_count": 2,
   "id": "65b0c304",
   "metadata": {},
   "outputs": [],
   "source": [
    "train_path = \"D:\\\\Data sets\\\\DRIVE\\\\training\"\n",
    "gt_ids = next(os.walk(train_path + \"\\\\1st_manual\"))[2]"
   ]
  },
  {
   "cell_type": "code",
   "execution_count": 3,
   "id": "2a4b615a",
   "metadata": {
    "scrolled": true
   },
   "outputs": [
    {
     "data": {
      "text/plain": [
       "['21_manual1.gif',\n",
       " '22_manual1.gif',\n",
       " '23_manual1.gif',\n",
       " '24_manual1.gif',\n",
       " '25_manual1.gif',\n",
       " '26_manual1.gif',\n",
       " '27_manual1.gif',\n",
       " '28_manual1.gif',\n",
       " '29_manual1.gif',\n",
       " '30_manual1.gif',\n",
       " '31_manual1.gif',\n",
       " '32_manual1.gif',\n",
       " '33_manual1.gif',\n",
       " '34_manual1.gif',\n",
       " '35_manual1.gif',\n",
       " '36_manual1.gif',\n",
       " '37_manual1.gif',\n",
       " '38_manual1.gif',\n",
       " '39_manual1.gif',\n",
       " '40_manual1.gif']"
      ]
     },
     "execution_count": 3,
     "metadata": {},
     "output_type": "execute_result"
    }
   ],
   "source": [
    "gt_ids"
   ]
  },
  {
   "cell_type": "code",
   "execution_count": 4,
   "id": "edd0e8b4",
   "metadata": {},
   "outputs": [],
   "source": [
    "from skimage.filters import threshold_otsu"
   ]
  },
  {
   "cell_type": "code",
   "execution_count": 14,
   "id": "79d727e7",
   "metadata": {},
   "outputs": [],
   "source": [
    "def gtImageDis(gt_path):\n",
    "    frames, exts, image_specs = gif2numpy.convert(gt_path)\n",
    "    frames = np.array(frames)\n",
    "    labeled_img = frames.reshape(584, 565,3)\n",
    "#     labeled_img_dis = cv2.cvtColor(labeled_img, cv2.COLOR_BGR2GRAY)\n",
    "    return labeled_img_dis"
   ]
  },
  {
   "cell_type": "code",
   "execution_count": 11,
   "id": "25161334",
   "metadata": {},
   "outputs": [],
   "source": [
    "from tqdm import tqdm"
   ]
  },
  {
   "cell_type": "code",
   "execution_count": 12,
   "id": "5022fe3a",
   "metadata": {},
   "outputs": [],
   "source": [
    "thres = []"
   ]
  },
  {
   "cell_type": "code",
   "execution_count": 13,
   "id": "f3773c5e",
   "metadata": {},
   "outputs": [
    {
     "name": "stderr",
     "output_type": "stream",
     "text": [
      "100%|██████████| 20/20 [00:00<00:00, 19982.39it/s]"
     ]
    },
    {
     "name": "stdout",
     "output_type": "stream",
     "text": [
      "D:\\Data sets\\DRIVE\\training\\1st_manual\\21_manual1.gif\n",
      "D:\\Data sets\\DRIVE\\training\\1st_manual\\22_manual1.gif\n",
      "D:\\Data sets\\DRIVE\\training\\1st_manual\\23_manual1.gif\n",
      "D:\\Data sets\\DRIVE\\training\\1st_manual\\24_manual1.gif\n",
      "D:\\Data sets\\DRIVE\\training\\1st_manual\\25_manual1.gif\n",
      "D:\\Data sets\\DRIVE\\training\\1st_manual\\26_manual1.gif\n",
      "D:\\Data sets\\DRIVE\\training\\1st_manual\\27_manual1.gif\n",
      "D:\\Data sets\\DRIVE\\training\\1st_manual\\28_manual1.gif\n",
      "D:\\Data sets\\DRIVE\\training\\1st_manual\\29_manual1.gif\n",
      "D:\\Data sets\\DRIVE\\training\\1st_manual\\30_manual1.gif\n",
      "D:\\Data sets\\DRIVE\\training\\1st_manual\\31_manual1.gif\n",
      "D:\\Data sets\\DRIVE\\training\\1st_manual\\32_manual1.gif\n",
      "D:\\Data sets\\DRIVE\\training\\1st_manual\\33_manual1.gif\n",
      "D:\\Data sets\\DRIVE\\training\\1st_manual\\34_manual1.gif\n",
      "D:\\Data sets\\DRIVE\\training\\1st_manual\\35_manual1.gif\n",
      "D:\\Data sets\\DRIVE\\training\\1st_manual\\36_manual1.gif\n",
      "D:\\Data sets\\DRIVE\\training\\1st_manual\\37_manual1.gif\n",
      "D:\\Data sets\\DRIVE\\training\\1st_manual\\38_manual1.gif\n",
      "D:\\Data sets\\DRIVE\\training\\1st_manual\\39_manual1.gif\n",
      "D:\\Data sets\\DRIVE\\training\\1st_manual\\40_manual1.gif\n"
     ]
    },
    {
     "name": "stderr",
     "output_type": "stream",
     "text": [
      "\n"
     ]
    }
   ],
   "source": [
    "for _id in tqdm(range(len(gt_ids))):\n",
    "\n",
    "    gt_image = gt_ids[_id]\n",
    "    \n",
    "    gt_path = train_path + \"\\\\1st_manual\\\\\" + gt_image\n",
    "    print(gt_path)\n",
    "    \n",
    "    gtImg = gtImageDis(gt_path)\n",
    "    \n",
    "    fig, axes = plt.subplots(1, 3, figsize=(20, 20))\n",
    "    ax = axes.ravel()\n",
    "    ax[0].set_title(\"Green Channel\")\n",
    "    ax[0].imshow(img, cmap = 'gray')\n",
    "    ax[1].set_title(\"Result\")\n",
    "    ax[1].imshow(result, cmap = 'gray')\n",
    "    ax[2].set_title(\"Ground Truth Image\")\n",
    "    ax[2].imshow(gt, cmap = 'gray')\n",
    "    "
   ]
  },
  {
   "cell_type": "code",
   "execution_count": null,
   "id": "854ee640",
   "metadata": {},
   "outputs": [],
   "source": []
  }
 ],
 "metadata": {
  "kernelspec": {
   "display_name": "Python 3 (vanilla)",
   "language": "python",
   "name": "vanilla"
  },
  "language_info": {
   "codemirror_mode": {
    "name": "ipython",
    "version": 3
   },
   "file_extension": ".py",
   "mimetype": "text/x-python",
   "name": "python",
   "nbconvert_exporter": "python",
   "pygments_lexer": "ipython3",
   "version": "3.9.5"
  },
  "toc": {
   "base_numbering": 1,
   "nav_menu": {},
   "number_sections": true,
   "sideBar": true,
   "skip_h1_title": false,
   "title_cell": "Table of Contents",
   "title_sidebar": "Contents",
   "toc_cell": false,
   "toc_position": {},
   "toc_section_display": true,
   "toc_window_display": false
  },
  "varInspector": {
   "cols": {
    "lenName": 16,
    "lenType": 16,
    "lenVar": 40
   },
   "kernels_config": {
    "python": {
     "delete_cmd_postfix": "",
     "delete_cmd_prefix": "del ",
     "library": "var_list.py",
     "varRefreshCmd": "print(var_dic_list())"
    },
    "r": {
     "delete_cmd_postfix": ") ",
     "delete_cmd_prefix": "rm(",
     "library": "var_list.r",
     "varRefreshCmd": "cat(var_dic_list()) "
    }
   },
   "types_to_exclude": [
    "module",
    "function",
    "builtin_function_or_method",
    "instance",
    "_Feature"
   ],
   "window_display": false
  }
 },
 "nbformat": 4,
 "nbformat_minor": 5
}
